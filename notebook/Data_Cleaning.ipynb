{
 "cells": [
  {
   "cell_type": "markdown",
   "id": "b5a1a22e-5b23-464c-83c1-694b387fe14c",
   "metadata": {},
   "source": [
    "---\n",
    "# Data Cleaning\n",
    "---\n",
    "In this notebook, ...\n",
    "\n",
    "\n",
    "---"
   ]
  },
  {
   "cell_type": "markdown",
   "id": "5c11ef77-a7f4-43c7-81e6-0c0bf1351ee6",
   "metadata": {},
   "source": [
    "### Importing necessary library"
   ]
  },
  {
   "cell_type": "code",
   "execution_count": 1,
   "id": "a52c3cc9-f7ff-4fa6-8a55-761dddf362dc",
   "metadata": {
    "execution": {
     "iopub.execute_input": "2025-03-01T17:32:48.945172Z",
     "iopub.status.busy": "2025-03-01T17:32:48.944585Z",
     "iopub.status.idle": "2025-03-01T17:32:49.447377Z",
     "shell.execute_reply": "2025-03-01T17:32:49.446083Z",
     "shell.execute_reply.started": "2025-03-01T17:32:48.945124Z"
    }
   },
   "outputs": [],
   "source": [
    "import pandas as pd\n",
    "import numpy as np"
   ]
  },
  {
   "cell_type": "markdown",
   "id": "b05dc81a-97b3-46f0-bdcf-cc196881ca6a",
   "metadata": {},
   "source": [
    "### Read data file"
   ]
  },
  {
   "cell_type": "code",
   "execution_count": 2,
   "id": "7a2d6e87-2b08-4af2-b255-1443d67393b6",
   "metadata": {
    "execution": {
     "iopub.execute_input": "2025-03-01T17:32:49.450922Z",
     "iopub.status.busy": "2025-03-01T17:32:49.449752Z",
     "iopub.status.idle": "2025-03-01T17:32:51.845672Z",
     "shell.execute_reply": "2025-03-01T17:32:51.844733Z",
     "shell.execute_reply.started": "2025-03-01T17:32:49.450866Z"
    }
   },
   "outputs": [
    {
     "data": {
      "text/html": [
       "<div>\n",
       "<style scoped>\n",
       "    .dataframe tbody tr th:only-of-type {\n",
       "        vertical-align: middle;\n",
       "    }\n",
       "\n",
       "    .dataframe tbody tr th {\n",
       "        vertical-align: top;\n",
       "    }\n",
       "\n",
       "    .dataframe thead th {\n",
       "        text-align: right;\n",
       "    }\n",
       "</style>\n",
       "<table border=\"1\" class=\"dataframe\">\n",
       "  <thead>\n",
       "    <tr style=\"text-align: right;\">\n",
       "      <th></th>\n",
       "      <th>CustomerID</th>\n",
       "      <th>Count</th>\n",
       "      <th>Country</th>\n",
       "      <th>State</th>\n",
       "      <th>City</th>\n",
       "      <th>Zip Code</th>\n",
       "      <th>Lat Long</th>\n",
       "      <th>Latitude</th>\n",
       "      <th>Longitude</th>\n",
       "      <th>Gender</th>\n",
       "      <th>...</th>\n",
       "      <th>Contract</th>\n",
       "      <th>Paperless Billing</th>\n",
       "      <th>Payment Method</th>\n",
       "      <th>Monthly Charges</th>\n",
       "      <th>Total Charges</th>\n",
       "      <th>Churn Label</th>\n",
       "      <th>Churn Value</th>\n",
       "      <th>Churn Score</th>\n",
       "      <th>CLTV</th>\n",
       "      <th>Churn Reason</th>\n",
       "    </tr>\n",
       "  </thead>\n",
       "  <tbody>\n",
       "    <tr>\n",
       "      <th>0</th>\n",
       "      <td>3668-QPYBK</td>\n",
       "      <td>1</td>\n",
       "      <td>United States</td>\n",
       "      <td>California</td>\n",
       "      <td>Los Angeles</td>\n",
       "      <td>90003</td>\n",
       "      <td>33.964131, -118.272783</td>\n",
       "      <td>33.964131</td>\n",
       "      <td>-118.272783</td>\n",
       "      <td>Male</td>\n",
       "      <td>...</td>\n",
       "      <td>Month-to-month</td>\n",
       "      <td>Yes</td>\n",
       "      <td>Mailed check</td>\n",
       "      <td>53.85</td>\n",
       "      <td>108.15</td>\n",
       "      <td>Yes</td>\n",
       "      <td>1</td>\n",
       "      <td>86</td>\n",
       "      <td>3239</td>\n",
       "      <td>Competitor made better offer</td>\n",
       "    </tr>\n",
       "    <tr>\n",
       "      <th>1</th>\n",
       "      <td>9237-HQITU</td>\n",
       "      <td>1</td>\n",
       "      <td>United States</td>\n",
       "      <td>California</td>\n",
       "      <td>Los Angeles</td>\n",
       "      <td>90005</td>\n",
       "      <td>34.059281, -118.30742</td>\n",
       "      <td>34.059281</td>\n",
       "      <td>-118.307420</td>\n",
       "      <td>Female</td>\n",
       "      <td>...</td>\n",
       "      <td>Month-to-month</td>\n",
       "      <td>Yes</td>\n",
       "      <td>Electronic check</td>\n",
       "      <td>70.70</td>\n",
       "      <td>151.65</td>\n",
       "      <td>Yes</td>\n",
       "      <td>1</td>\n",
       "      <td>67</td>\n",
       "      <td>2701</td>\n",
       "      <td>Moved</td>\n",
       "    </tr>\n",
       "    <tr>\n",
       "      <th>2</th>\n",
       "      <td>9305-CDSKC</td>\n",
       "      <td>1</td>\n",
       "      <td>United States</td>\n",
       "      <td>California</td>\n",
       "      <td>Los Angeles</td>\n",
       "      <td>90006</td>\n",
       "      <td>34.048013, -118.293953</td>\n",
       "      <td>34.048013</td>\n",
       "      <td>-118.293953</td>\n",
       "      <td>Female</td>\n",
       "      <td>...</td>\n",
       "      <td>Month-to-month</td>\n",
       "      <td>Yes</td>\n",
       "      <td>Electronic check</td>\n",
       "      <td>99.65</td>\n",
       "      <td>820.5</td>\n",
       "      <td>Yes</td>\n",
       "      <td>1</td>\n",
       "      <td>86</td>\n",
       "      <td>5372</td>\n",
       "      <td>Moved</td>\n",
       "    </tr>\n",
       "    <tr>\n",
       "      <th>3</th>\n",
       "      <td>7892-POOKP</td>\n",
       "      <td>1</td>\n",
       "      <td>United States</td>\n",
       "      <td>California</td>\n",
       "      <td>Los Angeles</td>\n",
       "      <td>90010</td>\n",
       "      <td>34.062125, -118.315709</td>\n",
       "      <td>34.062125</td>\n",
       "      <td>-118.315709</td>\n",
       "      <td>Female</td>\n",
       "      <td>...</td>\n",
       "      <td>Month-to-month</td>\n",
       "      <td>Yes</td>\n",
       "      <td>Electronic check</td>\n",
       "      <td>104.80</td>\n",
       "      <td>3046.05</td>\n",
       "      <td>Yes</td>\n",
       "      <td>1</td>\n",
       "      <td>84</td>\n",
       "      <td>5003</td>\n",
       "      <td>Moved</td>\n",
       "    </tr>\n",
       "    <tr>\n",
       "      <th>4</th>\n",
       "      <td>0280-XJGEX</td>\n",
       "      <td>1</td>\n",
       "      <td>United States</td>\n",
       "      <td>California</td>\n",
       "      <td>Los Angeles</td>\n",
       "      <td>90015</td>\n",
       "      <td>34.039224, -118.266293</td>\n",
       "      <td>34.039224</td>\n",
       "      <td>-118.266293</td>\n",
       "      <td>Male</td>\n",
       "      <td>...</td>\n",
       "      <td>Month-to-month</td>\n",
       "      <td>Yes</td>\n",
       "      <td>Bank transfer (automatic)</td>\n",
       "      <td>103.70</td>\n",
       "      <td>5036.3</td>\n",
       "      <td>Yes</td>\n",
       "      <td>1</td>\n",
       "      <td>89</td>\n",
       "      <td>5340</td>\n",
       "      <td>Competitor had better devices</td>\n",
       "    </tr>\n",
       "    <tr>\n",
       "      <th>...</th>\n",
       "      <td>...</td>\n",
       "      <td>...</td>\n",
       "      <td>...</td>\n",
       "      <td>...</td>\n",
       "      <td>...</td>\n",
       "      <td>...</td>\n",
       "      <td>...</td>\n",
       "      <td>...</td>\n",
       "      <td>...</td>\n",
       "      <td>...</td>\n",
       "      <td>...</td>\n",
       "      <td>...</td>\n",
       "      <td>...</td>\n",
       "      <td>...</td>\n",
       "      <td>...</td>\n",
       "      <td>...</td>\n",
       "      <td>...</td>\n",
       "      <td>...</td>\n",
       "      <td>...</td>\n",
       "      <td>...</td>\n",
       "      <td>...</td>\n",
       "    </tr>\n",
       "    <tr>\n",
       "      <th>7038</th>\n",
       "      <td>2569-WGERO</td>\n",
       "      <td>1</td>\n",
       "      <td>United States</td>\n",
       "      <td>California</td>\n",
       "      <td>Landers</td>\n",
       "      <td>92285</td>\n",
       "      <td>34.341737, -116.539416</td>\n",
       "      <td>34.341737</td>\n",
       "      <td>-116.539416</td>\n",
       "      <td>Female</td>\n",
       "      <td>...</td>\n",
       "      <td>Two year</td>\n",
       "      <td>Yes</td>\n",
       "      <td>Bank transfer (automatic)</td>\n",
       "      <td>21.15</td>\n",
       "      <td>1419.4</td>\n",
       "      <td>No</td>\n",
       "      <td>0</td>\n",
       "      <td>45</td>\n",
       "      <td>5306</td>\n",
       "      <td>NaN</td>\n",
       "    </tr>\n",
       "    <tr>\n",
       "      <th>7039</th>\n",
       "      <td>6840-RESVB</td>\n",
       "      <td>1</td>\n",
       "      <td>United States</td>\n",
       "      <td>California</td>\n",
       "      <td>Adelanto</td>\n",
       "      <td>92301</td>\n",
       "      <td>34.667815, -117.536183</td>\n",
       "      <td>34.667815</td>\n",
       "      <td>-117.536183</td>\n",
       "      <td>Male</td>\n",
       "      <td>...</td>\n",
       "      <td>One year</td>\n",
       "      <td>Yes</td>\n",
       "      <td>Mailed check</td>\n",
       "      <td>84.80</td>\n",
       "      <td>1990.5</td>\n",
       "      <td>No</td>\n",
       "      <td>0</td>\n",
       "      <td>59</td>\n",
       "      <td>2140</td>\n",
       "      <td>NaN</td>\n",
       "    </tr>\n",
       "    <tr>\n",
       "      <th>7040</th>\n",
       "      <td>2234-XADUH</td>\n",
       "      <td>1</td>\n",
       "      <td>United States</td>\n",
       "      <td>California</td>\n",
       "      <td>Amboy</td>\n",
       "      <td>92304</td>\n",
       "      <td>34.559882, -115.637164</td>\n",
       "      <td>34.559882</td>\n",
       "      <td>-115.637164</td>\n",
       "      <td>Female</td>\n",
       "      <td>...</td>\n",
       "      <td>One year</td>\n",
       "      <td>Yes</td>\n",
       "      <td>Credit card (automatic)</td>\n",
       "      <td>103.20</td>\n",
       "      <td>7362.9</td>\n",
       "      <td>No</td>\n",
       "      <td>0</td>\n",
       "      <td>71</td>\n",
       "      <td>5560</td>\n",
       "      <td>NaN</td>\n",
       "    </tr>\n",
       "    <tr>\n",
       "      <th>7041</th>\n",
       "      <td>4801-JZAZL</td>\n",
       "      <td>1</td>\n",
       "      <td>United States</td>\n",
       "      <td>California</td>\n",
       "      <td>Angelus Oaks</td>\n",
       "      <td>92305</td>\n",
       "      <td>34.1678, -116.86433</td>\n",
       "      <td>34.167800</td>\n",
       "      <td>-116.864330</td>\n",
       "      <td>Female</td>\n",
       "      <td>...</td>\n",
       "      <td>Month-to-month</td>\n",
       "      <td>Yes</td>\n",
       "      <td>Electronic check</td>\n",
       "      <td>29.60</td>\n",
       "      <td>346.45</td>\n",
       "      <td>No</td>\n",
       "      <td>0</td>\n",
       "      <td>59</td>\n",
       "      <td>2793</td>\n",
       "      <td>NaN</td>\n",
       "    </tr>\n",
       "    <tr>\n",
       "      <th>7042</th>\n",
       "      <td>3186-AJIEK</td>\n",
       "      <td>1</td>\n",
       "      <td>United States</td>\n",
       "      <td>California</td>\n",
       "      <td>Apple Valley</td>\n",
       "      <td>92308</td>\n",
       "      <td>34.424926, -117.184503</td>\n",
       "      <td>34.424926</td>\n",
       "      <td>-117.184503</td>\n",
       "      <td>Male</td>\n",
       "      <td>...</td>\n",
       "      <td>Two year</td>\n",
       "      <td>Yes</td>\n",
       "      <td>Bank transfer (automatic)</td>\n",
       "      <td>105.65</td>\n",
       "      <td>6844.5</td>\n",
       "      <td>No</td>\n",
       "      <td>0</td>\n",
       "      <td>38</td>\n",
       "      <td>5097</td>\n",
       "      <td>NaN</td>\n",
       "    </tr>\n",
       "  </tbody>\n",
       "</table>\n",
       "<p>7043 rows × 33 columns</p>\n",
       "</div>"
      ],
      "text/plain": [
       "      CustomerID  Count        Country       State          City  Zip Code  \\\n",
       "0     3668-QPYBK      1  United States  California   Los Angeles     90003   \n",
       "1     9237-HQITU      1  United States  California   Los Angeles     90005   \n",
       "2     9305-CDSKC      1  United States  California   Los Angeles     90006   \n",
       "3     7892-POOKP      1  United States  California   Los Angeles     90010   \n",
       "4     0280-XJGEX      1  United States  California   Los Angeles     90015   \n",
       "...          ...    ...            ...         ...           ...       ...   \n",
       "7038  2569-WGERO      1  United States  California       Landers     92285   \n",
       "7039  6840-RESVB      1  United States  California      Adelanto     92301   \n",
       "7040  2234-XADUH      1  United States  California         Amboy     92304   \n",
       "7041  4801-JZAZL      1  United States  California  Angelus Oaks     92305   \n",
       "7042  3186-AJIEK      1  United States  California  Apple Valley     92308   \n",
       "\n",
       "                    Lat Long   Latitude   Longitude  Gender  ...  \\\n",
       "0     33.964131, -118.272783  33.964131 -118.272783    Male  ...   \n",
       "1      34.059281, -118.30742  34.059281 -118.307420  Female  ...   \n",
       "2     34.048013, -118.293953  34.048013 -118.293953  Female  ...   \n",
       "3     34.062125, -118.315709  34.062125 -118.315709  Female  ...   \n",
       "4     34.039224, -118.266293  34.039224 -118.266293    Male  ...   \n",
       "...                      ...        ...         ...     ...  ...   \n",
       "7038  34.341737, -116.539416  34.341737 -116.539416  Female  ...   \n",
       "7039  34.667815, -117.536183  34.667815 -117.536183    Male  ...   \n",
       "7040  34.559882, -115.637164  34.559882 -115.637164  Female  ...   \n",
       "7041     34.1678, -116.86433  34.167800 -116.864330  Female  ...   \n",
       "7042  34.424926, -117.184503  34.424926 -117.184503    Male  ...   \n",
       "\n",
       "            Contract Paperless Billing             Payment Method  \\\n",
       "0     Month-to-month               Yes               Mailed check   \n",
       "1     Month-to-month               Yes           Electronic check   \n",
       "2     Month-to-month               Yes           Electronic check   \n",
       "3     Month-to-month               Yes           Electronic check   \n",
       "4     Month-to-month               Yes  Bank transfer (automatic)   \n",
       "...              ...               ...                        ...   \n",
       "7038        Two year               Yes  Bank transfer (automatic)   \n",
       "7039        One year               Yes               Mailed check   \n",
       "7040        One year               Yes    Credit card (automatic)   \n",
       "7041  Month-to-month               Yes           Electronic check   \n",
       "7042        Two year               Yes  Bank transfer (automatic)   \n",
       "\n",
       "      Monthly Charges Total Charges Churn Label Churn Value Churn Score  CLTV  \\\n",
       "0               53.85        108.15         Yes           1          86  3239   \n",
       "1               70.70        151.65         Yes           1          67  2701   \n",
       "2               99.65         820.5         Yes           1          86  5372   \n",
       "3              104.80       3046.05         Yes           1          84  5003   \n",
       "4              103.70        5036.3         Yes           1          89  5340   \n",
       "...               ...           ...         ...         ...         ...   ...   \n",
       "7038            21.15        1419.4          No           0          45  5306   \n",
       "7039            84.80        1990.5          No           0          59  2140   \n",
       "7040           103.20        7362.9          No           0          71  5560   \n",
       "7041            29.60        346.45          No           0          59  2793   \n",
       "7042           105.65        6844.5          No           0          38  5097   \n",
       "\n",
       "                       Churn Reason  \n",
       "0      Competitor made better offer  \n",
       "1                             Moved  \n",
       "2                             Moved  \n",
       "3                             Moved  \n",
       "4     Competitor had better devices  \n",
       "...                             ...  \n",
       "7038                            NaN  \n",
       "7039                            NaN  \n",
       "7040                            NaN  \n",
       "7041                            NaN  \n",
       "7042                            NaN  \n",
       "\n",
       "[7043 rows x 33 columns]"
      ]
     },
     "execution_count": 2,
     "metadata": {},
     "output_type": "execute_result"
    }
   ],
   "source": [
    "churn_df = pd.read_excel('../data/churn.xlsx')\n",
    "churn_df"
   ]
  },
  {
   "cell_type": "markdown",
   "id": "eb3850a2-6669-4537-986d-d2038d474a99",
   "metadata": {
    "execution": {
     "iopub.execute_input": "2025-03-01T16:06:34.747610Z",
     "iopub.status.busy": "2025-03-01T16:06:34.747059Z",
     "iopub.status.idle": "2025-03-01T16:06:34.756599Z",
     "shell.execute_reply": "2025-03-01T16:06:34.752472Z",
     "shell.execute_reply.started": "2025-03-01T16:06:34.747561Z"
    }
   },
   "source": [
    "### Looking at the dataset columns\n",
    "\n",
    "| Column name       | Description                                                                                            | Needed for further analysis   |\n",
    "| ---------------- | ------------------------------------------------------------------------------------------------------- | :--------------------------: |\n",
    "| CustomerID       | ID unique to each customer                                                                              | No                           |\n",
    "| Count            | A value used in reporting/dashboarding to sum up the number of customers in a filtered set.             | No                           |\n",
    "| Country          | Country of residence                                                                                    | No - US only - Need at least 2 value for decision tree                   |\n",
    "| State            | State of residence                                                                                      | No - California only - Need at least 2 value for decision tree                             |\n",
    "| City             | City of residence                                                                                       | Not sure - Dont think so - 1129 diferent values                             |\n",
    "| Zip Code         | Zip Code of residence                                                                                   | Maybe - either keep Zip Code or latitude, longitude                             |\n",
    "| Lat Long         | Latitude and longitude coordinates of residence                                                         | Maybe - if we intend to calculate distance from some landmark |\n",
    "| Latitude         | Latitude of residence                                                                                   | Maybe - either keep Zip Code or latitude, longitude                             |\n",
    "| Longitude        | Longitude of residence                                                                                  | Maybe - either keep Zip Code or latitude, longitude                              |\n",
    "| Gender           | Customer's gender                                                                                       | Yes                              |\n",
    "| Senior Citizen   | Is customer 65 or older?                                                                                | Yes                              |\n",
    "| Partner          | Does customer have a partner?                                                                           | Yes                              |\n",
    "| Dependents       | Does customer live with any dependents (child, parents, grandparents)?                                  | Yes                               |\n",
    "| Tenure Months    | Total amount of months that the customer has been with the company by the end of the quarter            | Yes                          |\n",
    "| Phone Service    | Does customer have a home phone service with the company?                                               | Yes                              |\n",
    "| Multiple Lines   | Does the customer have multiple telephone lines with the company?                                       | Yes                              |\n",
    "| Internet Service | Does the customer have internet service with the company?                                               | Yes                          |\n",
    "| Online Security  | Has the customer subscribed to an additional online security service provided by the company?           | Yes                              |\n",
    "| Online Backup    | Has the customer subscribed to an additional online backup service provided by the company?             | Yes                              |\n",
    "| Device Protection | Has the customer subscribed to an additional device protection plan for their internet equipment?      | Yes                              |\n",
    "| Tech Support     | Has the customer subscribed to an additional technical support plan with reduced wait times?            | Yes                               |\n",
    "| Streaming TV     | Does customer use their Internet service to stream television programming from a third-party provider?  | Yes - Streaming TV and Streaming Movies are different                             |\n",
    "| Streaming Movies | Does customer use their Internet service to stream movies from a third-party provider?                  | Yes - Streaming TV and Streaming Movies are different                              |\n",
    "| Contract         | Current contract type: Month-to-Month, One Year, Two Year                                               | Yes                          |\n",
    "| Paperless Billing | Has customer chosen paperless billing?                                                                 | Yes                              |\n",
    "| Payment Method   | How the customer pays their bill: Bank Withdrawal, Credit Card, Mailed Check                            | Yes                              |\n",
    "| Monthly Charges  | Customer’s current total monthly charge for all their services from the company.                        | Yes                          |\n",
    "| Total Charges    | Customer’s total charges, calculated to the end of the quarter.                                         | No - Using Montlhy Charges should be sufficient                          |\n",
    "| Churn Label      | Yes = the customer left the company this quarter. No = the customer remained with the company.          | No - Same as Churn Value - Keeping Churn Value only                          |\n",
    "| Churn Value      | 1 = the customer left the company this quarter. 0 = the customer remained with the company.             | Yes                          |\n",
    "| Churn Score      | A value from 0-100 that is calculated using the predictive tool IBM SPSS Modeler. The higher the score, the more likely the customer will churn. | No - Not sure about using a predictive value to build a model                              |\n",
    "| CLTV            | Customer Lifetime Value. A predicted CLTV is calculated using corporate formulas and existing data. The higher the value, the more valuable the customer. High value customers should be monitored for churn.                                                                                  |  No - Not sure about using a predicted value to build a model                             |\n",
    "| Churn Reason    | Customer’s specific reason for leaving the company. Directly related to Churn Category                   | Maybe - Depends on the amount of different categories                       |\n"
   ]
  },
  {
   "cell_type": "code",
   "execution_count": 3,
   "id": "6abd16e9-b92b-4a92-aa22-693c590ab4ef",
   "metadata": {
    "execution": {
     "iopub.execute_input": "2025-03-01T17:32:51.847157Z",
     "iopub.status.busy": "2025-03-01T17:32:51.846704Z",
     "iopub.status.idle": "2025-03-01T17:32:51.860707Z",
     "shell.execute_reply": "2025-03-01T17:32:51.859150Z",
     "shell.execute_reply.started": "2025-03-01T17:32:51.847112Z"
    }
   },
   "outputs": [
    {
     "name": "stdout",
     "output_type": "stream",
     "text": [
      "Index(['CustomerID', 'Count', 'Country', 'State', 'City', 'Zip Code',\n",
      "       'Lat Long', 'Latitude', 'Longitude', 'Gender', 'Senior Citizen',\n",
      "       'Partner', 'Dependents', 'Tenure Months', 'Phone Service',\n",
      "       'Multiple Lines', 'Internet Service', 'Online Security',\n",
      "       'Online Backup', 'Device Protection', 'Tech Support', 'Streaming TV',\n",
      "       'Streaming Movies', 'Contract', 'Paperless Billing', 'Payment Method',\n",
      "       'Monthly Charges', 'Total Charges', 'Churn Label', 'Churn Value',\n",
      "       'Churn Score', 'CLTV', 'Churn Reason'],\n",
      "      dtype='object')\n"
     ]
    },
    {
     "data": {
      "text/plain": [
       "33"
      ]
     },
     "execution_count": 3,
     "metadata": {},
     "output_type": "execute_result"
    }
   ],
   "source": [
    "print(churn_df.columns)\n",
    "len(churn_df.columns)"
   ]
  },
  {
   "cell_type": "code",
   "execution_count": 4,
   "id": "818d97d1-3bf1-4b5c-a966-222192ae82c7",
   "metadata": {
    "execution": {
     "iopub.execute_input": "2025-03-01T17:32:51.862288Z",
     "iopub.status.busy": "2025-03-01T17:32:51.861832Z",
     "iopub.status.idle": "2025-03-01T17:32:51.896261Z",
     "shell.execute_reply": "2025-03-01T17:32:51.894789Z",
     "shell.execute_reply.started": "2025-03-01T17:32:51.862246Z"
    }
   },
   "outputs": [
    {
     "name": "stdout",
     "output_type": "stream",
     "text": [
      "['United States']\n",
      "['California']\n",
      "['Los Angeles' 'Beverly Hills' 'Huntington Park' ... 'Standish' 'Tulelake'\n",
      " 'Olympic Valley'] 1129\n",
      "[90003 90005 90006 ... 96128 96134 96146] 1652\n",
      "['No' 'Yes'] 2\n",
      "['Competitor made better offer' 'Moved' 'Competitor had better devices'\n",
      " 'Competitor offered higher download speeds'\n",
      " 'Competitor offered more data' 'Price too high' 'Product dissatisfaction'\n",
      " 'Service dissatisfaction' 'Lack of self-service on Website'\n",
      " 'Network reliability' 'Limited range of services'\n",
      " 'Lack of affordable download/upload speed' 'Long distance charges'\n",
      " 'Extra data charges' \"Don't know\" 'Poor expertise of online support'\n",
      " 'Poor expertise of phone support' 'Attitude of service provider'\n",
      " 'Attitude of support person' 'Deceased' nan] 21\n"
     ]
    }
   ],
   "source": [
    "print(churn_df['Country'].unique())\n",
    "print(churn_df['State'].unique())\n",
    "print(churn_df['City'].unique(), len(churn_df['City'].unique()))\n",
    "print(churn_df['Zip Code'].unique(), len(churn_df['Zip Code'].unique()))\n",
    "print(churn_df['Partner'].unique(), len(churn_df['Partner'].unique()))\n",
    "print(churn_df['Churn Reason'].unique(), len(churn_df['Churn Reason'].unique()))"
   ]
  },
  {
   "cell_type": "code",
   "execution_count": 16,
   "id": "05036463-a333-4364-9561-dd15f5536696",
   "metadata": {
    "execution": {
     "iopub.execute_input": "2025-03-01T17:55:05.701891Z",
     "iopub.status.busy": "2025-03-01T17:55:05.701255Z",
     "iopub.status.idle": "2025-03-01T17:55:05.711110Z",
     "shell.execute_reply": "2025-03-01T17:55:05.709674Z",
     "shell.execute_reply.started": "2025-03-01T17:55:05.701831Z"
    }
   },
   "outputs": [
    {
     "data": {
      "text/plain": [
       "array(['No', 'Yes', 'No internet service'], dtype=object)"
      ]
     },
     "execution_count": 16,
     "metadata": {},
     "output_type": "execute_result"
    }
   ],
   "source": [
    "churn_df['Streaming TV'].unique()"
   ]
  },
  {
   "cell_type": "code",
   "execution_count": 17,
   "id": "7b7cd18d-5b83-4e7e-bd87-3440d5a83ae6",
   "metadata": {
    "execution": {
     "iopub.execute_input": "2025-03-01T17:55:44.126247Z",
     "iopub.status.busy": "2025-03-01T17:55:44.125711Z",
     "iopub.status.idle": "2025-03-01T17:55:44.146161Z",
     "shell.execute_reply": "2025-03-01T17:55:44.144340Z",
     "shell.execute_reply.started": "2025-03-01T17:55:44.126198Z"
    }
   },
   "outputs": [
    {
     "data": {
      "text/plain": [
       "array(['No', 'Yes', 'No internet service'], dtype=object)"
      ]
     },
     "execution_count": 17,
     "metadata": {},
     "output_type": "execute_result"
    }
   ],
   "source": [
    "churn_df['Streaming Movies'].unique()"
   ]
  },
  {
   "cell_type": "code",
   "execution_count": 37,
   "id": "3ece6b19-bb58-43f1-bb59-1245d6aedd58",
   "metadata": {
    "execution": {
     "iopub.execute_input": "2025-03-01T18:06:09.485990Z",
     "iopub.status.busy": "2025-03-01T18:06:09.485533Z",
     "iopub.status.idle": "2025-03-01T18:06:09.521285Z",
     "shell.execute_reply": "2025-03-01T18:06:09.519291Z",
     "shell.execute_reply.started": "2025-03-01T18:06:09.485960Z"
    }
   },
   "outputs": [
    {
     "data": {
      "text/html": [
       "<div>\n",
       "<style scoped>\n",
       "    .dataframe tbody tr th:only-of-type {\n",
       "        vertical-align: middle;\n",
       "    }\n",
       "\n",
       "    .dataframe tbody tr th {\n",
       "        vertical-align: top;\n",
       "    }\n",
       "\n",
       "    .dataframe thead th {\n",
       "        text-align: right;\n",
       "    }\n",
       "</style>\n",
       "<table border=\"1\" class=\"dataframe\">\n",
       "  <thead>\n",
       "    <tr style=\"text-align: right;\">\n",
       "      <th></th>\n",
       "      <th>Streaming TV</th>\n",
       "      <th>Streaming Movies</th>\n",
       "    </tr>\n",
       "  </thead>\n",
       "  <tbody>\n",
       "    <tr>\n",
       "      <th>6</th>\n",
       "      <td>No</td>\n",
       "      <td>Yes</td>\n",
       "    </tr>\n",
       "    <tr>\n",
       "      <th>14</th>\n",
       "      <td>Yes</td>\n",
       "      <td>No</td>\n",
       "    </tr>\n",
       "    <tr>\n",
       "      <th>19</th>\n",
       "      <td>Yes</td>\n",
       "      <td>No</td>\n",
       "    </tr>\n",
       "    <tr>\n",
       "      <th>25</th>\n",
       "      <td>Yes</td>\n",
       "      <td>No</td>\n",
       "    </tr>\n",
       "    <tr>\n",
       "      <th>31</th>\n",
       "      <td>No</td>\n",
       "      <td>Yes</td>\n",
       "    </tr>\n",
       "    <tr>\n",
       "      <th>...</th>\n",
       "      <td>...</td>\n",
       "      <td>...</td>\n",
       "    </tr>\n",
       "    <tr>\n",
       "      <th>7020</th>\n",
       "      <td>Yes</td>\n",
       "      <td>No</td>\n",
       "    </tr>\n",
       "    <tr>\n",
       "      <th>7021</th>\n",
       "      <td>Yes</td>\n",
       "      <td>No</td>\n",
       "    </tr>\n",
       "    <tr>\n",
       "      <th>7029</th>\n",
       "      <td>No</td>\n",
       "      <td>Yes</td>\n",
       "    </tr>\n",
       "    <tr>\n",
       "      <th>7031</th>\n",
       "      <td>Yes</td>\n",
       "      <td>No</td>\n",
       "    </tr>\n",
       "    <tr>\n",
       "      <th>7036</th>\n",
       "      <td>Yes</td>\n",
       "      <td>No</td>\n",
       "    </tr>\n",
       "  </tbody>\n",
       "</table>\n",
       "<p>1559 rows × 2 columns</p>\n",
       "</div>"
      ],
      "text/plain": [
       "     Streaming TV Streaming Movies\n",
       "6              No              Yes\n",
       "14            Yes               No\n",
       "19            Yes               No\n",
       "25            Yes               No\n",
       "31             No              Yes\n",
       "...           ...              ...\n",
       "7020          Yes               No\n",
       "7021          Yes               No\n",
       "7029           No              Yes\n",
       "7031          Yes               No\n",
       "7036          Yes               No\n",
       "\n",
       "[1559 rows x 2 columns]"
      ]
     },
     "execution_count": 37,
     "metadata": {},
     "output_type": "execute_result"
    }
   ],
   "source": [
    "# Looking if the columns 'Streaming TV' and Streaming Movies' are identical\n",
    "churn_df[churn_df['Streaming TV'] != churn_df['Streaming Movies']].loc[:,'Streaming TV':'Streaming Movies']"
   ]
  },
  {
   "cell_type": "code",
   "execution_count": 23,
   "id": "b20be58e-ae6a-4f75-94c0-850f138e5a16",
   "metadata": {
    "execution": {
     "iopub.execute_input": "2025-03-01T18:02:33.899048Z",
     "iopub.status.busy": "2025-03-01T18:02:33.892670Z",
     "iopub.status.idle": "2025-03-01T18:02:33.913258Z",
     "shell.execute_reply": "2025-03-01T18:02:33.912028Z",
     "shell.execute_reply.started": "2025-03-01T18:02:33.898979Z"
    }
   },
   "outputs": [
    {
     "data": {
      "text/plain": [
       "1"
      ]
     },
     "execution_count": 23,
     "metadata": {},
     "output_type": "execute_result"
    }
   ],
   "source": []
  },
  {
   "cell_type": "markdown",
   "id": "d2d696d3-d599-431f-9497-e8cb5139c7ee",
   "metadata": {},
   "source": [
    "### Removing unecessary columns"
   ]
  },
  {
   "cell_type": "code",
   "execution_count": 5,
   "id": "369a36b8-d2b9-455d-8ae7-6a5d591382bb",
   "metadata": {
    "execution": {
     "iopub.execute_input": "2025-03-01T17:32:51.898224Z",
     "iopub.status.busy": "2025-03-01T17:32:51.897792Z",
     "iopub.status.idle": "2025-03-01T17:32:51.912866Z",
     "shell.execute_reply": "2025-03-01T17:32:51.911846Z",
     "shell.execute_reply.started": "2025-03-01T17:32:51.898195Z"
    }
   },
   "outputs": [
    {
     "name": "stdout",
     "output_type": "stream",
     "text": [
      "Index(['City', 'Zip Code', 'Latitude', 'Longitude', 'Gender', 'Senior Citizen',\n",
      "       'Partner', 'Dependents', 'Tenure Months', 'Phone Service',\n",
      "       'Multiple Lines', 'Internet Service', 'Online Security',\n",
      "       'Online Backup', 'Device Protection', 'Tech Support', 'Streaming TV',\n",
      "       'Streaming Movies', 'Contract', 'Paperless Billing', 'Payment Method',\n",
      "       'Monthly Charges', 'Churn Value', 'Churn Reason'],\n",
      "      dtype='object')\n"
     ]
    },
    {
     "data": {
      "text/plain": [
       "24"
      ]
     },
     "execution_count": 5,
     "metadata": {},
     "output_type": "execute_result"
    }
   ],
   "source": [
    "churn_df.drop(columns=['CustomerID',\n",
    "                       'Count',\n",
    "                       'Country',\n",
    "                       'State',\n",
    "                       'Lat Long',\n",
    "                       'Total Charges',\n",
    "                       'Churn Label',\n",
    "                       'Churn Score',\n",
    "                       'CLTV',\n",
    "                      ], inplace=True)\n",
    "\n",
    "print(churn_df.columns)\n",
    "len(churn_df.columns)"
   ]
  },
  {
   "cell_type": "markdown",
   "id": "146c1d11-b0b2-44ab-b056-a12c8844b900",
   "metadata": {
    "execution": {
     "iopub.execute_input": "2025-03-01T17:01:27.622877Z",
     "iopub.status.busy": "2025-03-01T17:01:27.622144Z",
     "iopub.status.idle": "2025-03-01T17:01:27.634238Z",
     "shell.execute_reply": "2025-03-01T17:01:27.630374Z",
     "shell.execute_reply.started": "2025-03-01T17:01:27.622817Z"
    }
   },
   "source": [
    "### Investigating missing values"
   ]
  },
  {
   "cell_type": "code",
   "execution_count": 6,
   "id": "9f8e283f-905b-499f-9db6-18079a905b92",
   "metadata": {
    "execution": {
     "iopub.execute_input": "2025-03-01T17:32:51.916704Z",
     "iopub.status.busy": "2025-03-01T17:32:51.916277Z",
     "iopub.status.idle": "2025-03-01T17:32:51.950942Z",
     "shell.execute_reply": "2025-03-01T17:32:51.949570Z",
     "shell.execute_reply.started": "2025-03-01T17:32:51.916676Z"
    }
   },
   "outputs": [
    {
     "data": {
      "text/plain": [
       "City                    0\n",
       "Zip Code                0\n",
       "Latitude                0\n",
       "Longitude               0\n",
       "Gender                  0\n",
       "Senior Citizen          0\n",
       "Partner                 0\n",
       "Dependents              0\n",
       "Tenure Months           0\n",
       "Phone Service           0\n",
       "Multiple Lines          0\n",
       "Internet Service        0\n",
       "Online Security         0\n",
       "Online Backup           0\n",
       "Device Protection       0\n",
       "Tech Support            0\n",
       "Streaming TV            0\n",
       "Streaming Movies        0\n",
       "Contract                0\n",
       "Paperless Billing       0\n",
       "Payment Method          0\n",
       "Monthly Charges         0\n",
       "Churn Value             0\n",
       "Churn Reason         5174\n",
       "dtype: int64"
      ]
     },
     "execution_count": 6,
     "metadata": {},
     "output_type": "execute_result"
    }
   ],
   "source": [
    "churn_df.isna().sum()"
   ]
  },
  {
   "cell_type": "code",
   "execution_count": null,
   "id": "b3de0f67-d508-4e3b-a33e-56983b06edf0",
   "metadata": {
    "execution": {
     "iopub.execute_input": "2025-03-01T17:33:04.397943Z",
     "iopub.status.busy": "2025-03-01T17:33:04.397425Z",
     "iopub.status.idle": "2025-03-01T17:33:04.439027Z",
     "shell.execute_reply": "2025-03-01T17:33:04.437613Z",
     "shell.execute_reply.started": "2025-03-01T17:33:04.397897Z"
    }
   },
   "outputs": [],
   "source": [
    "# Looking at the amount of remaining clients\n",
    "print(churn_df[churn_df['Churn Value'] == 0]['Churn Value'].count())\n",
    "\n",
    "# Looking at the count of na value in the column 'Churn Reason' in remaining clients\n",
    "print(churn_df[churn_df['Churn Value'] == 0]['Churn Reason'].isna().sum())"
   ]
  },
  {
   "cell_type": "markdown",
   "id": "0ff343df-f77e-4cd2-a681-ff1aa96b5e76",
   "metadata": {},
   "source": [
    "### Replacing missing values"
   ]
  },
  {
   "cell_type": "code",
   "execution_count": null,
   "id": "2795914a-9ef1-44b7-a489-1844ba6022bb",
   "metadata": {
    "execution": {
     "iopub.execute_input": "2025-03-01T17:33:04.397943Z",
     "iopub.status.busy": "2025-03-01T17:33:04.397425Z",
     "iopub.status.idle": "2025-03-01T17:33:04.439027Z",
     "shell.execute_reply": "2025-03-01T17:33:04.437613Z",
     "shell.execute_reply.started": "2025-03-01T17:33:04.397897Z"
    }
   },
   "outputs": [
    {
     "name": "stdout",
     "output_type": "stream",
     "text": [
      "5174\n",
      "5174\n",
      "[nan]\n",
      "['Not applicable']\n",
      "['Competitor made better offer' 'Moved' 'Competitor had better devices'\n",
      " 'Competitor offered higher download speeds'\n",
      " 'Competitor offered more data' 'Price too high' 'Product dissatisfaction'\n",
      " 'Service dissatisfaction' 'Lack of self-service on Website'\n",
      " 'Network reliability' 'Limited range of services'\n",
      " 'Lack of affordable download/upload speed' 'Long distance charges'\n",
      " 'Extra data charges' \"Don't know\" 'Poor expertise of online support'\n",
      " 'Poor expertise of phone support' 'Attitude of service provider'\n",
      " 'Attitude of support person' 'Deceased' 'Not applicable']\n"
     ]
    }
   ],
   "source": [
    "# Verifying that all remaining customer has a nan value in the 'Churn Reason' column\n",
    "print(churn_df[churn_df['Churn Value'] == 0]['Churn Reason'].unique())\n",
    "\n",
    "# Replacing missing value for remaining customer with 'Not applicable' \n",
    "churn_df.loc[churn_df['Churn Value'] == 0,'Churn Reason'] = churn_df[churn_df['Churn Value'] == 0]['Churn Reason'].fillna('Not applicable')\n",
    "\n",
    "# Verifying that the replacement was done correctly\n",
    "print(churn_df[churn_df['Churn Value'] == 0]['Churn Reason'].unique())\n",
    "\n",
    "# Look that there is no longer missing values in the column 'Churn Reason'\n",
    "print(churn_df['Churn Reason'].unique())"
   ]
  },
  {
   "cell_type": "markdown",
   "id": "f3708bb7-b0e1-4020-ac97-89100b5e5576",
   "metadata": {},
   "source": [
    "### Replacing similar value in column 'Churn Reason'"
   ]
  },
  {
   "cell_type": "code",
   "execution_count": 14,
   "id": "d0daac29-518f-41e4-bcfc-32d3ba182584",
   "metadata": {
    "execution": {
     "iopub.execute_input": "2025-03-01T17:50:24.350055Z",
     "iopub.status.busy": "2025-03-01T17:50:24.349522Z",
     "iopub.status.idle": "2025-03-01T17:50:24.386955Z",
     "shell.execute_reply": "2025-03-01T17:50:24.385767Z",
     "shell.execute_reply.started": "2025-03-01T17:50:24.350006Z"
    }
   },
   "outputs": [
    {
     "data": {
      "text/plain": [
       "array(['Competitors', 'Moved', 'Price', 'Dissactisfaction', \"Don't know\",\n",
       "       'Deceased', 'Not applicable'], dtype=object)"
      ]
     },
     "execution_count": 14,
     "metadata": {},
     "output_type": "execute_result"
    }
   ],
   "source": [
    "# Create dict for string replacement\n",
    "repl_dict = {'Competitors' : ['Competitor made better offer',\n",
    "                              'Competitor had better devices',\n",
    "                              'Competitor offered higher download speeds',\n",
    "                              'Competitor offered more data'\n",
    "                             ],\n",
    "             \n",
    "             'Price' : ['Price too high',\n",
    "                        'Lack of affordable download/upload speed',\n",
    "                        'Long distance charges',\n",
    "                        'Extra data charges' \n",
    "                        ],\n",
    "             \n",
    "             'Dissactisfaction' : ['Product dissatisfaction',\n",
    "                                   'Service dissatisfaction',\n",
    "                                   'Lack of self-service on Website',\n",
    "                                   'Network reliability', \n",
    "                                   'Limited range of services',\n",
    "                                   'Poor expertise of online support',\n",
    "                                   'Poor expertise of phone support',\n",
    "                                   'Attitude of service provider',\n",
    "                                   'Attitude of support person'\n",
    "                                   ]\n",
    "            }\n",
    "\n",
    "# Reverse the order of the dict to be able to use replace\n",
    "repl_dict_flatten = {orig_str : repl_str for repl_str, orig_str_list in repl_dict.items() for orig_str in orig_str_list}\n",
    "\n",
    "# Replace strings\n",
    "churn_df['Churn Reason'] = churn_df['Churn Reason'].replace(repl_dict_flatten)\n",
    "\n",
    "# # Verifying that the replacement was done correctly\n",
    "churn_df['Churn Reason'].unique()"
   ]
  },
  {
   "cell_type": "markdown",
   "id": "d29dc990-ae8c-4d69-a519-aadecb50b0b4",
   "metadata": {},
   "source": [
    "### Write cleaned data file"
   ]
  },
  {
   "cell_type": "code",
   "execution_count": 15,
   "id": "23fbae56-1b2a-438e-bf08-472eb31390c2",
   "metadata": {
    "execution": {
     "iopub.execute_input": "2025-03-01T17:52:59.253185Z",
     "iopub.status.busy": "2025-03-01T17:52:59.248678Z",
     "iopub.status.idle": "2025-03-01T17:53:06.439915Z",
     "shell.execute_reply": "2025-03-01T17:53:06.438049Z",
     "shell.execute_reply.started": "2025-03-01T17:52:59.253062Z"
    }
   },
   "outputs": [],
   "source": [
    "churn_df.to_excel('../data/churn_cleaned.xlsx')"
   ]
  }
 ],
 "metadata": {
  "kernelspec": {
   "display_name": "graph",
   "language": "python",
   "name": "graph"
  },
  "language_info": {
   "codemirror_mode": {
    "name": "ipython",
    "version": 3
   },
   "file_extension": ".py",
   "mimetype": "text/x-python",
   "name": "python",
   "nbconvert_exporter": "python",
   "pygments_lexer": "ipython3",
   "version": "3.12.7"
  }
 },
 "nbformat": 4,
 "nbformat_minor": 5
}
