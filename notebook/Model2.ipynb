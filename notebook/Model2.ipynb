{
 "cells": [
  {
   "cell_type": "markdown",
   "id": "b8a43780-8da8-458a-ac14-b00aff9c6cbd",
   "metadata": {},
   "source": [
    "---\n",
    "# Name of Method - Model 2\n",
    "---\n",
    "In this notebook, ...\n",
    "\n",
    "\n",
    "## Results\n",
    "\n",
    "---"
   ]
  },
  {
   "cell_type": "markdown",
   "id": "c42a9506-6669-424c-b0fc-5fe65d5488f1",
   "metadata": {},
   "source": [
    "### Importing necessary library"
   ]
  },
  {
   "cell_type": "code",
   "execution_count": 1,
   "id": "a5629f95-5b02-40ae-8243-e5d6daf9613f",
   "metadata": {
    "execution": {
     "iopub.execute_input": "2025-03-01T21:36:29.715870Z",
     "iopub.status.busy": "2025-03-01T21:36:29.715554Z",
     "iopub.status.idle": "2025-03-01T21:36:30.191629Z",
     "shell.execute_reply": "2025-03-01T21:36:30.189885Z",
     "shell.execute_reply.started": "2025-03-01T21:36:29.715843Z"
    }
   },
   "outputs": [],
   "source": [
    "import pandas as pd\n",
    "import numpy as np\n",
    "\n",
    "import seaborn as sns\n",
    "import matplotlib.pyplot as plt\n",
    "\n",
    "from sklearn.model_selection import train_test_split\n",
    "from sklearn.preprocessing import StandardScaler\n",
    "from sklearn.model_selection import GridSearchCV\n",
    "\n",
    "from sklearn.pipeline import Pipeline\n",
    "from sklearn.metrics import classification_report, confusion_matrix, accuracy_score"
   ]
  },
  {
   "cell_type": "markdown",
   "id": "1d9abb2f-833c-4459-8f17-fadbf0323a29",
   "metadata": {},
   "source": [
    "### Read data file"
   ]
  },
  {
   "cell_type": "code",
   "execution_count": 2,
   "id": "2d4bbb02-04e7-41b4-bce5-a8b67be42f08",
   "metadata": {
    "execution": {
     "iopub.execute_input": "2025-03-01T21:36:30.193622Z",
     "iopub.status.busy": "2025-03-01T21:36:30.193000Z",
     "iopub.status.idle": "2025-03-01T21:36:34.198657Z",
     "shell.execute_reply": "2025-03-01T21:36:34.197466Z",
     "shell.execute_reply.started": "2025-03-01T21:36:30.193593Z"
    }
   },
   "outputs": [
    {
     "data": {
      "text/html": [
       "<div>\n",
       "<style scoped>\n",
       "    .dataframe tbody tr th:only-of-type {\n",
       "        vertical-align: middle;\n",
       "    }\n",
       "\n",
       "    .dataframe tbody tr th {\n",
       "        vertical-align: top;\n",
       "    }\n",
       "\n",
       "    .dataframe thead th {\n",
       "        text-align: right;\n",
       "    }\n",
       "</style>\n",
       "<table border=\"1\" class=\"dataframe\">\n",
       "  <thead>\n",
       "    <tr style=\"text-align: right;\">\n",
       "      <th></th>\n",
       "      <th>Unnamed: 0</th>\n",
       "      <th>City</th>\n",
       "      <th>Zip Code</th>\n",
       "      <th>Latitude</th>\n",
       "      <th>Longitude</th>\n",
       "      <th>Gender</th>\n",
       "      <th>Senior Citizen</th>\n",
       "      <th>Partner</th>\n",
       "      <th>Dependents</th>\n",
       "      <th>Tenure Months</th>\n",
       "      <th>...</th>\n",
       "      <th>Device Protection</th>\n",
       "      <th>Tech Support</th>\n",
       "      <th>Streaming TV</th>\n",
       "      <th>Streaming Movies</th>\n",
       "      <th>Contract</th>\n",
       "      <th>Paperless Billing</th>\n",
       "      <th>Payment Method</th>\n",
       "      <th>Monthly Charges</th>\n",
       "      <th>Churn Value</th>\n",
       "      <th>Churn Reason</th>\n",
       "    </tr>\n",
       "  </thead>\n",
       "  <tbody>\n",
       "    <tr>\n",
       "      <th>0</th>\n",
       "      <td>0</td>\n",
       "      <td>Los Angeles</td>\n",
       "      <td>90003</td>\n",
       "      <td>33.964131</td>\n",
       "      <td>-118.272783</td>\n",
       "      <td>Male</td>\n",
       "      <td>No</td>\n",
       "      <td>No</td>\n",
       "      <td>No</td>\n",
       "      <td>2</td>\n",
       "      <td>...</td>\n",
       "      <td>No</td>\n",
       "      <td>No</td>\n",
       "      <td>No</td>\n",
       "      <td>No</td>\n",
       "      <td>Month-to-month</td>\n",
       "      <td>Yes</td>\n",
       "      <td>Mailed check</td>\n",
       "      <td>53.85</td>\n",
       "      <td>1</td>\n",
       "      <td>Competitors</td>\n",
       "    </tr>\n",
       "    <tr>\n",
       "      <th>1</th>\n",
       "      <td>1</td>\n",
       "      <td>Los Angeles</td>\n",
       "      <td>90005</td>\n",
       "      <td>34.059281</td>\n",
       "      <td>-118.307420</td>\n",
       "      <td>Female</td>\n",
       "      <td>No</td>\n",
       "      <td>No</td>\n",
       "      <td>Yes</td>\n",
       "      <td>2</td>\n",
       "      <td>...</td>\n",
       "      <td>No</td>\n",
       "      <td>No</td>\n",
       "      <td>No</td>\n",
       "      <td>No</td>\n",
       "      <td>Month-to-month</td>\n",
       "      <td>Yes</td>\n",
       "      <td>Electronic check</td>\n",
       "      <td>70.70</td>\n",
       "      <td>1</td>\n",
       "      <td>Moved</td>\n",
       "    </tr>\n",
       "    <tr>\n",
       "      <th>2</th>\n",
       "      <td>2</td>\n",
       "      <td>Los Angeles</td>\n",
       "      <td>90006</td>\n",
       "      <td>34.048013</td>\n",
       "      <td>-118.293953</td>\n",
       "      <td>Female</td>\n",
       "      <td>No</td>\n",
       "      <td>No</td>\n",
       "      <td>Yes</td>\n",
       "      <td>8</td>\n",
       "      <td>...</td>\n",
       "      <td>Yes</td>\n",
       "      <td>No</td>\n",
       "      <td>Yes</td>\n",
       "      <td>Yes</td>\n",
       "      <td>Month-to-month</td>\n",
       "      <td>Yes</td>\n",
       "      <td>Electronic check</td>\n",
       "      <td>99.65</td>\n",
       "      <td>1</td>\n",
       "      <td>Moved</td>\n",
       "    </tr>\n",
       "    <tr>\n",
       "      <th>3</th>\n",
       "      <td>3</td>\n",
       "      <td>Los Angeles</td>\n",
       "      <td>90010</td>\n",
       "      <td>34.062125</td>\n",
       "      <td>-118.315709</td>\n",
       "      <td>Female</td>\n",
       "      <td>No</td>\n",
       "      <td>Yes</td>\n",
       "      <td>Yes</td>\n",
       "      <td>28</td>\n",
       "      <td>...</td>\n",
       "      <td>Yes</td>\n",
       "      <td>Yes</td>\n",
       "      <td>Yes</td>\n",
       "      <td>Yes</td>\n",
       "      <td>Month-to-month</td>\n",
       "      <td>Yes</td>\n",
       "      <td>Electronic check</td>\n",
       "      <td>104.80</td>\n",
       "      <td>1</td>\n",
       "      <td>Moved</td>\n",
       "    </tr>\n",
       "    <tr>\n",
       "      <th>4</th>\n",
       "      <td>4</td>\n",
       "      <td>Los Angeles</td>\n",
       "      <td>90015</td>\n",
       "      <td>34.039224</td>\n",
       "      <td>-118.266293</td>\n",
       "      <td>Male</td>\n",
       "      <td>No</td>\n",
       "      <td>No</td>\n",
       "      <td>Yes</td>\n",
       "      <td>49</td>\n",
       "      <td>...</td>\n",
       "      <td>Yes</td>\n",
       "      <td>No</td>\n",
       "      <td>Yes</td>\n",
       "      <td>Yes</td>\n",
       "      <td>Month-to-month</td>\n",
       "      <td>Yes</td>\n",
       "      <td>Bank transfer (automatic)</td>\n",
       "      <td>103.70</td>\n",
       "      <td>1</td>\n",
       "      <td>Competitors</td>\n",
       "    </tr>\n",
       "    <tr>\n",
       "      <th>...</th>\n",
       "      <td>...</td>\n",
       "      <td>...</td>\n",
       "      <td>...</td>\n",
       "      <td>...</td>\n",
       "      <td>...</td>\n",
       "      <td>...</td>\n",
       "      <td>...</td>\n",
       "      <td>...</td>\n",
       "      <td>...</td>\n",
       "      <td>...</td>\n",
       "      <td>...</td>\n",
       "      <td>...</td>\n",
       "      <td>...</td>\n",
       "      <td>...</td>\n",
       "      <td>...</td>\n",
       "      <td>...</td>\n",
       "      <td>...</td>\n",
       "      <td>...</td>\n",
       "      <td>...</td>\n",
       "      <td>...</td>\n",
       "      <td>...</td>\n",
       "    </tr>\n",
       "    <tr>\n",
       "      <th>7038</th>\n",
       "      <td>7038</td>\n",
       "      <td>Landers</td>\n",
       "      <td>92285</td>\n",
       "      <td>34.341737</td>\n",
       "      <td>-116.539416</td>\n",
       "      <td>Female</td>\n",
       "      <td>No</td>\n",
       "      <td>No</td>\n",
       "      <td>No</td>\n",
       "      <td>72</td>\n",
       "      <td>...</td>\n",
       "      <td>No internet service</td>\n",
       "      <td>No internet service</td>\n",
       "      <td>No internet service</td>\n",
       "      <td>No internet service</td>\n",
       "      <td>Two year</td>\n",
       "      <td>Yes</td>\n",
       "      <td>Bank transfer (automatic)</td>\n",
       "      <td>21.15</td>\n",
       "      <td>0</td>\n",
       "      <td>Not applicable</td>\n",
       "    </tr>\n",
       "    <tr>\n",
       "      <th>7039</th>\n",
       "      <td>7039</td>\n",
       "      <td>Adelanto</td>\n",
       "      <td>92301</td>\n",
       "      <td>34.667815</td>\n",
       "      <td>-117.536183</td>\n",
       "      <td>Male</td>\n",
       "      <td>No</td>\n",
       "      <td>Yes</td>\n",
       "      <td>Yes</td>\n",
       "      <td>24</td>\n",
       "      <td>...</td>\n",
       "      <td>Yes</td>\n",
       "      <td>Yes</td>\n",
       "      <td>Yes</td>\n",
       "      <td>Yes</td>\n",
       "      <td>One year</td>\n",
       "      <td>Yes</td>\n",
       "      <td>Mailed check</td>\n",
       "      <td>84.80</td>\n",
       "      <td>0</td>\n",
       "      <td>Not applicable</td>\n",
       "    </tr>\n",
       "    <tr>\n",
       "      <th>7040</th>\n",
       "      <td>7040</td>\n",
       "      <td>Amboy</td>\n",
       "      <td>92304</td>\n",
       "      <td>34.559882</td>\n",
       "      <td>-115.637164</td>\n",
       "      <td>Female</td>\n",
       "      <td>No</td>\n",
       "      <td>Yes</td>\n",
       "      <td>Yes</td>\n",
       "      <td>72</td>\n",
       "      <td>...</td>\n",
       "      <td>Yes</td>\n",
       "      <td>No</td>\n",
       "      <td>Yes</td>\n",
       "      <td>Yes</td>\n",
       "      <td>One year</td>\n",
       "      <td>Yes</td>\n",
       "      <td>Credit card (automatic)</td>\n",
       "      <td>103.20</td>\n",
       "      <td>0</td>\n",
       "      <td>Not applicable</td>\n",
       "    </tr>\n",
       "    <tr>\n",
       "      <th>7041</th>\n",
       "      <td>7041</td>\n",
       "      <td>Angelus Oaks</td>\n",
       "      <td>92305</td>\n",
       "      <td>34.167800</td>\n",
       "      <td>-116.864330</td>\n",
       "      <td>Female</td>\n",
       "      <td>No</td>\n",
       "      <td>Yes</td>\n",
       "      <td>Yes</td>\n",
       "      <td>11</td>\n",
       "      <td>...</td>\n",
       "      <td>No</td>\n",
       "      <td>No</td>\n",
       "      <td>No</td>\n",
       "      <td>No</td>\n",
       "      <td>Month-to-month</td>\n",
       "      <td>Yes</td>\n",
       "      <td>Electronic check</td>\n",
       "      <td>29.60</td>\n",
       "      <td>0</td>\n",
       "      <td>Not applicable</td>\n",
       "    </tr>\n",
       "    <tr>\n",
       "      <th>7042</th>\n",
       "      <td>7042</td>\n",
       "      <td>Apple Valley</td>\n",
       "      <td>92308</td>\n",
       "      <td>34.424926</td>\n",
       "      <td>-117.184503</td>\n",
       "      <td>Male</td>\n",
       "      <td>No</td>\n",
       "      <td>No</td>\n",
       "      <td>No</td>\n",
       "      <td>66</td>\n",
       "      <td>...</td>\n",
       "      <td>Yes</td>\n",
       "      <td>Yes</td>\n",
       "      <td>Yes</td>\n",
       "      <td>Yes</td>\n",
       "      <td>Two year</td>\n",
       "      <td>Yes</td>\n",
       "      <td>Bank transfer (automatic)</td>\n",
       "      <td>105.65</td>\n",
       "      <td>0</td>\n",
       "      <td>Not applicable</td>\n",
       "    </tr>\n",
       "  </tbody>\n",
       "</table>\n",
       "<p>7043 rows × 25 columns</p>\n",
       "</div>"
      ],
      "text/plain": [
       "      Unnamed: 0          City  Zip Code   Latitude   Longitude  Gender  \\\n",
       "0              0   Los Angeles     90003  33.964131 -118.272783    Male   \n",
       "1              1   Los Angeles     90005  34.059281 -118.307420  Female   \n",
       "2              2   Los Angeles     90006  34.048013 -118.293953  Female   \n",
       "3              3   Los Angeles     90010  34.062125 -118.315709  Female   \n",
       "4              4   Los Angeles     90015  34.039224 -118.266293    Male   \n",
       "...          ...           ...       ...        ...         ...     ...   \n",
       "7038        7038       Landers     92285  34.341737 -116.539416  Female   \n",
       "7039        7039      Adelanto     92301  34.667815 -117.536183    Male   \n",
       "7040        7040         Amboy     92304  34.559882 -115.637164  Female   \n",
       "7041        7041  Angelus Oaks     92305  34.167800 -116.864330  Female   \n",
       "7042        7042  Apple Valley     92308  34.424926 -117.184503    Male   \n",
       "\n",
       "     Senior Citizen Partner Dependents  Tenure Months  ...  \\\n",
       "0                No      No         No              2  ...   \n",
       "1                No      No        Yes              2  ...   \n",
       "2                No      No        Yes              8  ...   \n",
       "3                No     Yes        Yes             28  ...   \n",
       "4                No      No        Yes             49  ...   \n",
       "...             ...     ...        ...            ...  ...   \n",
       "7038             No      No         No             72  ...   \n",
       "7039             No     Yes        Yes             24  ...   \n",
       "7040             No     Yes        Yes             72  ...   \n",
       "7041             No     Yes        Yes             11  ...   \n",
       "7042             No      No         No             66  ...   \n",
       "\n",
       "        Device Protection         Tech Support         Streaming TV  \\\n",
       "0                      No                   No                   No   \n",
       "1                      No                   No                   No   \n",
       "2                     Yes                   No                  Yes   \n",
       "3                     Yes                  Yes                  Yes   \n",
       "4                     Yes                   No                  Yes   \n",
       "...                   ...                  ...                  ...   \n",
       "7038  No internet service  No internet service  No internet service   \n",
       "7039                  Yes                  Yes                  Yes   \n",
       "7040                  Yes                   No                  Yes   \n",
       "7041                   No                   No                   No   \n",
       "7042                  Yes                  Yes                  Yes   \n",
       "\n",
       "         Streaming Movies        Contract Paperless Billing  \\\n",
       "0                      No  Month-to-month               Yes   \n",
       "1                      No  Month-to-month               Yes   \n",
       "2                     Yes  Month-to-month               Yes   \n",
       "3                     Yes  Month-to-month               Yes   \n",
       "4                     Yes  Month-to-month               Yes   \n",
       "...                   ...             ...               ...   \n",
       "7038  No internet service        Two year               Yes   \n",
       "7039                  Yes        One year               Yes   \n",
       "7040                  Yes        One year               Yes   \n",
       "7041                   No  Month-to-month               Yes   \n",
       "7042                  Yes        Two year               Yes   \n",
       "\n",
       "                 Payment Method Monthly Charges Churn Value    Churn Reason  \n",
       "0                  Mailed check           53.85           1     Competitors  \n",
       "1              Electronic check           70.70           1           Moved  \n",
       "2              Electronic check           99.65           1           Moved  \n",
       "3              Electronic check          104.80           1           Moved  \n",
       "4     Bank transfer (automatic)          103.70           1     Competitors  \n",
       "...                         ...             ...         ...             ...  \n",
       "7038  Bank transfer (automatic)           21.15           0  Not applicable  \n",
       "7039               Mailed check           84.80           0  Not applicable  \n",
       "7040    Credit card (automatic)          103.20           0  Not applicable  \n",
       "7041           Electronic check           29.60           0  Not applicable  \n",
       "7042  Bank transfer (automatic)          105.65           0  Not applicable  \n",
       "\n",
       "[7043 rows x 25 columns]"
      ]
     },
     "execution_count": 2,
     "metadata": {},
     "output_type": "execute_result"
    }
   ],
   "source": [
    "churn_df = pd.read_excel('../data/churn_cleaned.xlsx')\n",
    "churn_df"
   ]
  },
  {
   "cell_type": "markdown",
   "id": "fede012a-f33f-44c7-bc58-245d89dc20c7",
   "metadata": {
    "execution": {
     "iopub.execute_input": "2025-03-01T22:00:33.436550Z",
     "iopub.status.busy": "2025-03-01T22:00:33.435980Z",
     "iopub.status.idle": "2025-03-01T22:00:33.448115Z",
     "shell.execute_reply": "2025-03-01T22:00:33.446039Z",
     "shell.execute_reply.started": "2025-03-01T22:00:33.436497Z"
    }
   },
   "source": [
    "---\n",
    "\n",
    "<center>\n",
    "    \n",
    "## Preparing data\n",
    "\n",
    "</center>\n",
    "\n",
    "---"
   ]
  },
  {
   "cell_type": "markdown",
   "id": "09ecbe7c-e5ac-4209-bac4-7cd7b3043d68",
   "metadata": {},
   "source": [
    "### Separate X and y features"
   ]
  },
  {
   "cell_type": "code",
   "execution_count": 4,
   "id": "203d20c7-5286-462d-b285-2a40453565cf",
   "metadata": {
    "execution": {
     "iopub.execute_input": "2025-03-01T21:46:42.824507Z",
     "iopub.status.busy": "2025-03-01T21:46:42.823848Z",
     "iopub.status.idle": "2025-03-01T21:46:42.840132Z",
     "shell.execute_reply": "2025-03-01T21:46:42.838522Z",
     "shell.execute_reply.started": "2025-03-01T21:46:42.824456Z"
    },
    "tags": []
   },
   "outputs": [],
   "source": [
    "# Seperate X and y features\n",
    "X = churn_df.drop(columns=['Churn Value'])\n",
    "y = churn_df['Churn Value']"
   ]
  },
  {
   "cell_type": "markdown",
   "id": "425cfa8e-0fc5-4b77-85a6-1a2b67cca353",
   "metadata": {},
   "source": [
    "### Split dataset (training/testing)"
   ]
  },
  {
   "cell_type": "code",
   "execution_count": 5,
   "id": "75e519e5-f2ec-4602-8e26-2ed605aac456",
   "metadata": {
    "execution": {
     "iopub.execute_input": "2025-03-01T21:46:45.053305Z",
     "iopub.status.busy": "2025-03-01T21:46:45.047636Z",
     "iopub.status.idle": "2025-03-01T21:46:45.077695Z",
     "shell.execute_reply": "2025-03-01T21:46:45.074743Z",
     "shell.execute_reply.started": "2025-03-01T21:46:45.053189Z"
    },
    "tags": []
   },
   "outputs": [],
   "source": [
    "X_train, X_test, y_train, y_test = train_test_split(X, y, train_size=0.9, random_state=5)"
   ]
  },
  {
   "cell_type": "markdown",
   "id": "e5a78ef1-fb63-44de-a586-c9afc061e079",
   "metadata": {
    "execution": {
     "iopub.execute_input": "2025-03-01T21:46:04.307307Z",
     "iopub.status.busy": "2025-03-01T21:46:04.306075Z",
     "iopub.status.idle": "2025-03-01T21:46:04.323562Z",
     "shell.execute_reply": "2025-03-01T21:46:04.317516Z",
     "shell.execute_reply.started": "2025-03-01T21:46:04.307221Z"
    }
   },
   "source": [
    "### Converting data subset to dataframe "
   ]
  },
  {
   "cell_type": "code",
   "execution_count": 6,
   "id": "6e0c5af1-0f28-4bf2-9dae-b0665ba7dda1",
   "metadata": {
    "execution": {
     "iopub.execute_input": "2025-03-01T21:46:47.165089Z",
     "iopub.status.busy": "2025-03-01T21:46:47.163566Z",
     "iopub.status.idle": "2025-03-01T21:46:47.183497Z",
     "shell.execute_reply": "2025-03-01T21:46:47.178149Z",
     "shell.execute_reply.started": "2025-03-01T21:46:47.164946Z"
    }
   },
   "outputs": [],
   "source": [
    "X_train = pd.DataFrame(X_train, columns=X.columns)\n",
    "X_test = pd.DataFrame(X_test, columns=X.columns)"
   ]
  },
  {
   "cell_type": "markdown",
   "id": "073c7b6a-94fe-4162-a778-915df9903eb6",
   "metadata": {
    "execution": {
     "iopub.execute_input": "2025-02-26T20:08:25.615728Z",
     "iopub.status.busy": "2025-02-26T20:08:25.615112Z",
     "iopub.status.idle": "2025-02-26T20:08:25.656052Z",
     "shell.execute_reply": "2025-02-26T20:08:25.654762Z",
     "shell.execute_reply.started": "2025-02-26T20:08:25.615678Z"
    }
   },
   "source": [
    "### Scale X features"
   ]
  },
  {
   "cell_type": "code",
   "execution_count": null,
   "id": "eb4063ec-a62c-489e-9ed1-220193b31a6a",
   "metadata": {
    "execution": {
     "iopub.execute_input": "2025-02-26T20:08:25.615728Z",
     "iopub.status.busy": "2025-02-26T20:08:25.615112Z",
     "iopub.status.idle": "2025-02-26T20:08:25.656052Z",
     "shell.execute_reply": "2025-02-26T20:08:25.654762Z",
     "shell.execute_reply.started": "2025-02-26T20:08:25.615678Z"
    }
   },
   "outputs": [],
   "source": [
    "# Create instance of scaler\n",
    "scaler = StandardScaler()\n",
    "\n",
    "# Scale the data\n",
    "scaled_X_train = scaler.fit_transform(X_train)\n",
    "scaled_X_test = scaler.transform(X_test)"
   ]
  },
  {
   "cell_type": "markdown",
   "id": "07b0234b-6d0c-4480-b1d3-9c3ed7910a52",
   "metadata": {
    "execution": {
     "iopub.execute_input": "2025-03-01T22:00:33.436550Z",
     "iopub.status.busy": "2025-03-01T22:00:33.435980Z",
     "iopub.status.idle": "2025-03-01T22:00:33.448115Z",
     "shell.execute_reply": "2025-03-01T22:00:33.446039Z",
     "shell.execute_reply.started": "2025-03-01T22:00:33.436497Z"
    }
   },
   "source": [
    "---\n",
    "\n",
    "<center>\n",
    "    \n",
    "## Model\n",
    "\n",
    "</center>\n",
    "\n",
    "---"
   ]
  },
  {
   "cell_type": "markdown",
   "id": "88b3284e-f62d-4107-9bd8-f05e34ea0d2d",
   "metadata": {},
   "source": [
    "### Find best parameters for model\n"
   ]
  },
  {
   "cell_type": "code",
   "execution_count": null,
   "id": "94bb7246-dcda-442f-bd16-d46585e3267f",
   "metadata": {},
   "outputs": [],
   "source": []
  },
  {
   "cell_type": "markdown",
   "id": "f6408c88-0990-4a89-9a7d-f093ce0d5c23",
   "metadata": {},
   "source": [
    "### Run model on training dataset"
   ]
  },
  {
   "cell_type": "code",
   "execution_count": null,
   "id": "f908db14-f954-4ed7-bb4a-1f3ccd3bd661",
   "metadata": {},
   "outputs": [],
   "source": []
  },
  {
   "cell_type": "markdown",
   "id": "4240c6a6-3d06-42c6-8801-3a07ca756eb5",
   "metadata": {},
   "source": [
    "### Investigate best model's predictive features"
   ]
  },
  {
   "cell_type": "code",
   "execution_count": null,
   "id": "4a2013c9-75c9-41be-97e2-324133860fad",
   "metadata": {},
   "outputs": [],
   "source": []
  },
  {
   "cell_type": "markdown",
   "id": "b6d812d1-0671-465e-8a8d-675612213dba",
   "metadata": {
    "execution": {
     "iopub.execute_input": "2025-03-01T22:00:33.436550Z",
     "iopub.status.busy": "2025-03-01T22:00:33.435980Z",
     "iopub.status.idle": "2025-03-01T22:00:33.448115Z",
     "shell.execute_reply": "2025-03-01T22:00:33.446039Z",
     "shell.execute_reply.started": "2025-03-01T22:00:33.436497Z"
    }
   },
   "source": [
    "---\n",
    "\n",
    "<center>\n",
    "    \n",
    "## Validation\n",
    "\n",
    "</center>\n",
    "\n",
    "---"
   ]
  },
  {
   "cell_type": "markdown",
   "id": "fcc99c0d-08fd-4adc-95ed-5986517d06e4",
   "metadata": {},
   "source": [
    "### Run model on testing dataset"
   ]
  },
  {
   "cell_type": "code",
   "execution_count": null,
   "id": "d37e9f57-5149-4676-9bb4-f309fddb6994",
   "metadata": {},
   "outputs": [],
   "source": []
  },
  {
   "cell_type": "markdown",
   "id": "ae0da614-912a-4da6-9aa2-407580f19982",
   "metadata": {},
   "source": [
    "### Model's validation"
   ]
  },
  {
   "cell_type": "code",
   "execution_count": null,
   "id": "a5eeaa6a-b919-4974-a2ed-012e35ddb893",
   "metadata": {},
   "outputs": [],
   "source": []
  },
  {
   "cell_type": "markdown",
   "id": "84076211-0f3f-4e66-8ca6-399f41c76bba",
   "metadata": {
    "execution": {
     "iopub.execute_input": "2025-03-01T22:00:33.436550Z",
     "iopub.status.busy": "2025-03-01T22:00:33.435980Z",
     "iopub.status.idle": "2025-03-01T22:00:33.448115Z",
     "shell.execute_reply": "2025-03-01T22:00:33.446039Z",
     "shell.execute_reply.started": "2025-03-01T22:00:33.436497Z"
    }
   },
   "source": [
    "---\n",
    "\n",
    "<center>\n",
    "    \n",
    "## Results\n",
    "\n",
    "</center>\n",
    "\n",
    "---"
   ]
  },
  {
   "cell_type": "markdown",
   "id": "b8928fdd-8e11-4290-a570-ec3a9f62c6a1",
   "metadata": {},
   "source": [
    "### Results"
   ]
  },
  {
   "cell_type": "code",
   "execution_count": null,
   "id": "f2725397-2959-47ed-97d4-5100b76e9ad4",
   "metadata": {},
   "outputs": [],
   "source": []
  }
 ],
 "metadata": {
  "kernelspec": {
   "display_name": "graph",
   "language": "python",
   "name": "graph"
  },
  "language_info": {
   "codemirror_mode": {
    "name": "ipython",
    "version": 3
   },
   "file_extension": ".py",
   "mimetype": "text/x-python",
   "name": "python",
   "nbconvert_exporter": "python",
   "pygments_lexer": "ipython3",
   "version": "3.12.7"
  }
 },
 "nbformat": 4,
 "nbformat_minor": 5
}
