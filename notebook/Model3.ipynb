{
 "cells": [
  {
   "cell_type": "markdown",
   "id": "e64a1628-73dd-4838-841e-e1303ada6bc5",
   "metadata": {},
   "source": [
    "---\n",
    "# Name of Method - Model 3\n",
    "---\n",
    "In this notebook, ...\n",
    "\n",
    "\n",
    "## Results\n",
    "\n",
    "---"
   ]
  },
  {
   "cell_type": "markdown",
   "id": "b42f55a5-a837-4174-b808-f0063cc86f1b",
   "metadata": {},
   "source": [
    "### Importing necessary library"
   ]
  },
  {
   "cell_type": "code",
   "execution_count": 3,
   "id": "7eae9561-ef4e-49cd-b957-3545f6e0f502",
   "metadata": {},
   "outputs": [],
   "source": [
    "import pandas as pd\n",
    "import numpy as np\n",
    "\n",
    "import seaborn as sns\n",
    "import matplotlib.pyplot as plt\n",
    "\n",
    "from sklearn.model_selection import train_test_split\n",
    "from sklearn.preprocessing import StandardScaler\n",
    "from sklearn.model_selection import GridSearchCV\n",
    "\n",
    "from sklearn.pipeline import Pipeline\n",
    "from sklearn.metrics import classification_report, confusion_matrix, accuracy_score"
   ]
  },
  {
   "cell_type": "markdown",
   "id": "e64603b6-4b84-4f00-84a3-9d42169ad8aa",
   "metadata": {},
   "source": [
    "### Read data file"
   ]
  },
  {
   "cell_type": "code",
   "execution_count": 5,
   "id": "fbe59ac6-8543-4483-9a41-e061bd5fae4c",
   "metadata": {},
   "outputs": [
    {
     "data": {
      "text/html": [
       "<div>\n",
       "<style scoped>\n",
       "    .dataframe tbody tr th:only-of-type {\n",
       "        vertical-align: middle;\n",
       "    }\n",
       "\n",
       "    .dataframe tbody tr th {\n",
       "        vertical-align: top;\n",
       "    }\n",
       "\n",
       "    .dataframe thead th {\n",
       "        text-align: right;\n",
       "    }\n",
       "</style>\n",
       "<table border=\"1\" class=\"dataframe\">\n",
       "  <thead>\n",
       "    <tr style=\"text-align: right;\">\n",
       "      <th></th>\n",
       "      <th>Tenure Months</th>\n",
       "      <th>Monthly Charges</th>\n",
       "      <th>Churn Value</th>\n",
       "      <th>Senior Citizen_Yes</th>\n",
       "      <th>Partner_Yes</th>\n",
       "      <th>Dependents_Yes</th>\n",
       "      <th>Internet Service_Fiber optic</th>\n",
       "      <th>Internet Service_No</th>\n",
       "      <th>Online Security_Yes</th>\n",
       "      <th>Online Backup_Yes</th>\n",
       "      <th>Device Protection_Yes</th>\n",
       "      <th>Tech Support_Yes</th>\n",
       "      <th>Contract_One year</th>\n",
       "      <th>Contract_Two year</th>\n",
       "      <th>Paperless Billing_Yes</th>\n",
       "      <th>Payment Method_Credit card (automatic)</th>\n",
       "      <th>Payment Method_Electronic check</th>\n",
       "      <th>Payment Method_Mailed check</th>\n",
       "    </tr>\n",
       "  </thead>\n",
       "  <tbody>\n",
       "    <tr>\n",
       "      <th>0</th>\n",
       "      <td>2</td>\n",
       "      <td>53.85</td>\n",
       "      <td>1</td>\n",
       "      <td>0</td>\n",
       "      <td>0</td>\n",
       "      <td>0</td>\n",
       "      <td>0</td>\n",
       "      <td>0</td>\n",
       "      <td>1</td>\n",
       "      <td>1</td>\n",
       "      <td>0</td>\n",
       "      <td>0</td>\n",
       "      <td>0</td>\n",
       "      <td>0</td>\n",
       "      <td>1</td>\n",
       "      <td>0</td>\n",
       "      <td>0</td>\n",
       "      <td>1</td>\n",
       "    </tr>\n",
       "    <tr>\n",
       "      <th>1</th>\n",
       "      <td>2</td>\n",
       "      <td>70.70</td>\n",
       "      <td>1</td>\n",
       "      <td>0</td>\n",
       "      <td>0</td>\n",
       "      <td>1</td>\n",
       "      <td>1</td>\n",
       "      <td>0</td>\n",
       "      <td>0</td>\n",
       "      <td>0</td>\n",
       "      <td>0</td>\n",
       "      <td>0</td>\n",
       "      <td>0</td>\n",
       "      <td>0</td>\n",
       "      <td>1</td>\n",
       "      <td>0</td>\n",
       "      <td>1</td>\n",
       "      <td>0</td>\n",
       "    </tr>\n",
       "    <tr>\n",
       "      <th>2</th>\n",
       "      <td>8</td>\n",
       "      <td>99.65</td>\n",
       "      <td>1</td>\n",
       "      <td>0</td>\n",
       "      <td>0</td>\n",
       "      <td>1</td>\n",
       "      <td>1</td>\n",
       "      <td>0</td>\n",
       "      <td>0</td>\n",
       "      <td>0</td>\n",
       "      <td>1</td>\n",
       "      <td>0</td>\n",
       "      <td>0</td>\n",
       "      <td>0</td>\n",
       "      <td>1</td>\n",
       "      <td>0</td>\n",
       "      <td>1</td>\n",
       "      <td>0</td>\n",
       "    </tr>\n",
       "    <tr>\n",
       "      <th>3</th>\n",
       "      <td>28</td>\n",
       "      <td>104.80</td>\n",
       "      <td>1</td>\n",
       "      <td>0</td>\n",
       "      <td>1</td>\n",
       "      <td>1</td>\n",
       "      <td>1</td>\n",
       "      <td>0</td>\n",
       "      <td>0</td>\n",
       "      <td>0</td>\n",
       "      <td>1</td>\n",
       "      <td>1</td>\n",
       "      <td>0</td>\n",
       "      <td>0</td>\n",
       "      <td>1</td>\n",
       "      <td>0</td>\n",
       "      <td>1</td>\n",
       "      <td>0</td>\n",
       "    </tr>\n",
       "    <tr>\n",
       "      <th>4</th>\n",
       "      <td>49</td>\n",
       "      <td>103.70</td>\n",
       "      <td>1</td>\n",
       "      <td>0</td>\n",
       "      <td>0</td>\n",
       "      <td>1</td>\n",
       "      <td>1</td>\n",
       "      <td>0</td>\n",
       "      <td>0</td>\n",
       "      <td>1</td>\n",
       "      <td>1</td>\n",
       "      <td>0</td>\n",
       "      <td>0</td>\n",
       "      <td>0</td>\n",
       "      <td>1</td>\n",
       "      <td>0</td>\n",
       "      <td>0</td>\n",
       "      <td>0</td>\n",
       "    </tr>\n",
       "    <tr>\n",
       "      <th>...</th>\n",
       "      <td>...</td>\n",
       "      <td>...</td>\n",
       "      <td>...</td>\n",
       "      <td>...</td>\n",
       "      <td>...</td>\n",
       "      <td>...</td>\n",
       "      <td>...</td>\n",
       "      <td>...</td>\n",
       "      <td>...</td>\n",
       "      <td>...</td>\n",
       "      <td>...</td>\n",
       "      <td>...</td>\n",
       "      <td>...</td>\n",
       "      <td>...</td>\n",
       "      <td>...</td>\n",
       "      <td>...</td>\n",
       "      <td>...</td>\n",
       "      <td>...</td>\n",
       "    </tr>\n",
       "    <tr>\n",
       "      <th>7038</th>\n",
       "      <td>72</td>\n",
       "      <td>21.15</td>\n",
       "      <td>0</td>\n",
       "      <td>0</td>\n",
       "      <td>0</td>\n",
       "      <td>0</td>\n",
       "      <td>0</td>\n",
       "      <td>1</td>\n",
       "      <td>0</td>\n",
       "      <td>0</td>\n",
       "      <td>0</td>\n",
       "      <td>0</td>\n",
       "      <td>0</td>\n",
       "      <td>1</td>\n",
       "      <td>1</td>\n",
       "      <td>0</td>\n",
       "      <td>0</td>\n",
       "      <td>0</td>\n",
       "    </tr>\n",
       "    <tr>\n",
       "      <th>7039</th>\n",
       "      <td>24</td>\n",
       "      <td>84.80</td>\n",
       "      <td>0</td>\n",
       "      <td>0</td>\n",
       "      <td>1</td>\n",
       "      <td>1</td>\n",
       "      <td>0</td>\n",
       "      <td>0</td>\n",
       "      <td>1</td>\n",
       "      <td>0</td>\n",
       "      <td>1</td>\n",
       "      <td>1</td>\n",
       "      <td>1</td>\n",
       "      <td>0</td>\n",
       "      <td>1</td>\n",
       "      <td>0</td>\n",
       "      <td>0</td>\n",
       "      <td>1</td>\n",
       "    </tr>\n",
       "    <tr>\n",
       "      <th>7040</th>\n",
       "      <td>72</td>\n",
       "      <td>103.20</td>\n",
       "      <td>0</td>\n",
       "      <td>0</td>\n",
       "      <td>1</td>\n",
       "      <td>1</td>\n",
       "      <td>1</td>\n",
       "      <td>0</td>\n",
       "      <td>0</td>\n",
       "      <td>1</td>\n",
       "      <td>1</td>\n",
       "      <td>0</td>\n",
       "      <td>1</td>\n",
       "      <td>0</td>\n",
       "      <td>1</td>\n",
       "      <td>1</td>\n",
       "      <td>0</td>\n",
       "      <td>0</td>\n",
       "    </tr>\n",
       "    <tr>\n",
       "      <th>7041</th>\n",
       "      <td>11</td>\n",
       "      <td>29.60</td>\n",
       "      <td>0</td>\n",
       "      <td>0</td>\n",
       "      <td>1</td>\n",
       "      <td>1</td>\n",
       "      <td>0</td>\n",
       "      <td>0</td>\n",
       "      <td>1</td>\n",
       "      <td>0</td>\n",
       "      <td>0</td>\n",
       "      <td>0</td>\n",
       "      <td>0</td>\n",
       "      <td>0</td>\n",
       "      <td>1</td>\n",
       "      <td>0</td>\n",
       "      <td>1</td>\n",
       "      <td>0</td>\n",
       "    </tr>\n",
       "    <tr>\n",
       "      <th>7042</th>\n",
       "      <td>66</td>\n",
       "      <td>105.65</td>\n",
       "      <td>0</td>\n",
       "      <td>0</td>\n",
       "      <td>0</td>\n",
       "      <td>0</td>\n",
       "      <td>1</td>\n",
       "      <td>0</td>\n",
       "      <td>1</td>\n",
       "      <td>0</td>\n",
       "      <td>1</td>\n",
       "      <td>1</td>\n",
       "      <td>0</td>\n",
       "      <td>1</td>\n",
       "      <td>1</td>\n",
       "      <td>0</td>\n",
       "      <td>0</td>\n",
       "      <td>0</td>\n",
       "    </tr>\n",
       "  </tbody>\n",
       "</table>\n",
       "<p>7043 rows × 18 columns</p>\n",
       "</div>"
      ],
      "text/plain": [
       "      Tenure Months  Monthly Charges  Churn Value  Senior Citizen_Yes  \\\n",
       "0                 2            53.85            1                   0   \n",
       "1                 2            70.70            1                   0   \n",
       "2                 8            99.65            1                   0   \n",
       "3                28           104.80            1                   0   \n",
       "4                49           103.70            1                   0   \n",
       "...             ...              ...          ...                 ...   \n",
       "7038             72            21.15            0                   0   \n",
       "7039             24            84.80            0                   0   \n",
       "7040             72           103.20            0                   0   \n",
       "7041             11            29.60            0                   0   \n",
       "7042             66           105.65            0                   0   \n",
       "\n",
       "      Partner_Yes  Dependents_Yes  Internet Service_Fiber optic  \\\n",
       "0               0               0                             0   \n",
       "1               0               1                             1   \n",
       "2               0               1                             1   \n",
       "3               1               1                             1   \n",
       "4               0               1                             1   \n",
       "...           ...             ...                           ...   \n",
       "7038            0               0                             0   \n",
       "7039            1               1                             0   \n",
       "7040            1               1                             1   \n",
       "7041            1               1                             0   \n",
       "7042            0               0                             1   \n",
       "\n",
       "      Internet Service_No  Online Security_Yes  Online Backup_Yes  \\\n",
       "0                       0                    1                  1   \n",
       "1                       0                    0                  0   \n",
       "2                       0                    0                  0   \n",
       "3                       0                    0                  0   \n",
       "4                       0                    0                  1   \n",
       "...                   ...                  ...                ...   \n",
       "7038                    1                    0                  0   \n",
       "7039                    0                    1                  0   \n",
       "7040                    0                    0                  1   \n",
       "7041                    0                    1                  0   \n",
       "7042                    0                    1                  0   \n",
       "\n",
       "      Device Protection_Yes  Tech Support_Yes  Contract_One year  \\\n",
       "0                         0                 0                  0   \n",
       "1                         0                 0                  0   \n",
       "2                         1                 0                  0   \n",
       "3                         1                 1                  0   \n",
       "4                         1                 0                  0   \n",
       "...                     ...               ...                ...   \n",
       "7038                      0                 0                  0   \n",
       "7039                      1                 1                  1   \n",
       "7040                      1                 0                  1   \n",
       "7041                      0                 0                  0   \n",
       "7042                      1                 1                  0   \n",
       "\n",
       "      Contract_Two year  Paperless Billing_Yes  \\\n",
       "0                     0                      1   \n",
       "1                     0                      1   \n",
       "2                     0                      1   \n",
       "3                     0                      1   \n",
       "4                     0                      1   \n",
       "...                 ...                    ...   \n",
       "7038                  1                      1   \n",
       "7039                  0                      1   \n",
       "7040                  0                      1   \n",
       "7041                  0                      1   \n",
       "7042                  1                      1   \n",
       "\n",
       "      Payment Method_Credit card (automatic)  Payment Method_Electronic check  \\\n",
       "0                                          0                                0   \n",
       "1                                          0                                1   \n",
       "2                                          0                                1   \n",
       "3                                          0                                1   \n",
       "4                                          0                                0   \n",
       "...                                      ...                              ...   \n",
       "7038                                       0                                0   \n",
       "7039                                       0                                0   \n",
       "7040                                       1                                0   \n",
       "7041                                       0                                1   \n",
       "7042                                       0                                0   \n",
       "\n",
       "      Payment Method_Mailed check  \n",
       "0                               1  \n",
       "1                               0  \n",
       "2                               0  \n",
       "3                               0  \n",
       "4                               0  \n",
       "...                           ...  \n",
       "7038                            0  \n",
       "7039                            1  \n",
       "7040                            0  \n",
       "7041                            0  \n",
       "7042                            0  \n",
       "\n",
       "[7043 rows x 18 columns]"
      ]
     },
     "execution_count": 5,
     "metadata": {},
     "output_type": "execute_result"
    }
   ],
   "source": [
    "churn_df = pd.read_excel('../data/churn_cleaned_featEng.xlsx')\n",
    "churn_df"
   ]
  },
  {
   "cell_type": "markdown",
   "id": "3520556f-85d0-44de-a12c-6ad75cb7faf9",
   "metadata": {
    "execution": {
     "iopub.execute_input": "2025-03-01T22:00:33.436550Z",
     "iopub.status.busy": "2025-03-01T22:00:33.435980Z",
     "iopub.status.idle": "2025-03-01T22:00:33.448115Z",
     "shell.execute_reply": "2025-03-01T22:00:33.446039Z",
     "shell.execute_reply.started": "2025-03-01T22:00:33.436497Z"
    }
   },
   "source": [
    "---\n",
    "\n",
    "<center>\n",
    "    \n",
    "## Preparing data\n",
    "\n",
    "</center>\n",
    "\n",
    "---"
   ]
  },
  {
   "cell_type": "markdown",
   "id": "c001f309-0943-444f-bad2-5491d3eb7d3d",
   "metadata": {},
   "source": [
    "### Separate X and y features"
   ]
  },
  {
   "cell_type": "code",
   "execution_count": 8,
   "id": "d89c3544-0889-471c-becf-9e7ba8cb15c3",
   "metadata": {
    "tags": []
   },
   "outputs": [],
   "source": [
    "# Seperate X and y features\n",
    "X = churn_df.drop(columns=['Churn Value'])\n",
    "y = churn_df['Churn Value']"
   ]
  },
  {
   "cell_type": "markdown",
   "id": "25903a2b-6fc5-4890-81f6-e36273bf77f4",
   "metadata": {},
   "source": [
    "### Split dataset (training/testing)"
   ]
  },
  {
   "cell_type": "code",
   "execution_count": 10,
   "id": "a5b0909a-ad4f-483e-9966-6c103493acff",
   "metadata": {
    "tags": []
   },
   "outputs": [],
   "source": [
    "X_train, X_test, y_train, y_test = train_test_split(X, y, train_size=0.9, random_state=5)"
   ]
  },
  {
   "cell_type": "markdown",
   "id": "009d366c-1c71-4b9b-a836-aa67a5bac711",
   "metadata": {
    "execution": {
     "iopub.execute_input": "2025-03-01T21:46:04.307307Z",
     "iopub.status.busy": "2025-03-01T21:46:04.306075Z",
     "iopub.status.idle": "2025-03-01T21:46:04.323562Z",
     "shell.execute_reply": "2025-03-01T21:46:04.317516Z",
     "shell.execute_reply.started": "2025-03-01T21:46:04.307221Z"
    }
   },
   "source": [
    "### Converting data subset to dataframe "
   ]
  },
  {
   "cell_type": "code",
   "execution_count": 12,
   "id": "0ca834de-07f4-4c20-9fa5-e1dabb38749a",
   "metadata": {},
   "outputs": [],
   "source": [
    "X_train = pd.DataFrame(X_train, columns=X.columns)\n",
    "X_test = pd.DataFrame(X_test, columns=X.columns)"
   ]
  },
  {
   "cell_type": "markdown",
   "id": "04d95422-60cc-452e-94e4-098709eea2d3",
   "metadata": {
    "execution": {
     "iopub.execute_input": "2025-02-26T20:08:25.615728Z",
     "iopub.status.busy": "2025-02-26T20:08:25.615112Z",
     "iopub.status.idle": "2025-02-26T20:08:25.656052Z",
     "shell.execute_reply": "2025-02-26T20:08:25.654762Z",
     "shell.execute_reply.started": "2025-02-26T20:08:25.615678Z"
    }
   },
   "source": [
    "### Scale X features"
   ]
  },
  {
   "cell_type": "code",
   "execution_count": 14,
   "id": "e9962339-1a4e-4250-967b-fc204210058e",
   "metadata": {},
   "outputs": [],
   "source": [
    "# Create instance of scaler\n",
    "scaler = StandardScaler()\n",
    "\n",
    "# Scale the data\n",
    "scaled_X_train = scaler.fit_transform(X_train)\n",
    "scaled_X_test = scaler.transform(X_test)"
   ]
  },
  {
   "cell_type": "markdown",
   "id": "c1cb2df9-3990-4f91-954a-f153ddd358bf",
   "metadata": {
    "execution": {
     "iopub.execute_input": "2025-03-01T22:00:33.436550Z",
     "iopub.status.busy": "2025-03-01T22:00:33.435980Z",
     "iopub.status.idle": "2025-03-01T22:00:33.448115Z",
     "shell.execute_reply": "2025-03-01T22:00:33.446039Z",
     "shell.execute_reply.started": "2025-03-01T22:00:33.436497Z"
    }
   },
   "source": [
    "---\n",
    "\n",
    "<center>\n",
    "    \n",
    "## Model\n",
    "\n",
    "</center>\n",
    "\n",
    "---"
   ]
  },
  {
   "cell_type": "markdown",
   "id": "2900eb04-e8a3-43d2-9c84-bd1254db4c17",
   "metadata": {},
   "source": [
    "### Find best parameters for model\n"
   ]
  },
  {
   "cell_type": "code",
   "execution_count": 18,
   "id": "36fa97e4-2f1a-4205-8d75-388fee1a49f0",
   "metadata": {},
   "outputs": [],
   "source": [
    "import features\n",
    "\n",
    "# Create instance of feature selector\n",
    "selection1= features.features\n",
    "selection2= features.features_chi\n",
    "\n",
    "selection1best5 = list(dict(sorted(selection1.items(), key=lambda item: item[1], reverse=True)[:5]).keys())\n",
    "selection1best10 = list(dict(sorted(selection1.items(), key=lambda item: item[1], reverse=True)[:10]).keys())\n",
    "selection2best5 = list(dict(sorted(selection2.items(), key=lambda item: item[1], reverse=True)[:5]).keys())\n",
    "selection2best10 = list(dict(sorted(selection2.items(), key=lambda item: item[1], reverse=True)[:10]).keys())"
   ]
  },
  {
   "cell_type": "markdown",
   "id": "020e9f77-b660-4788-bd3c-5e375c20c2f2",
   "metadata": {},
   "source": [
    "### Run model on training dataset"
   ]
  },
  {
   "cell_type": "markdown",
   "id": "134c9c44-69da-496a-b582-882eb9ac1983",
   "metadata": {},
   "source": [
    "### Investigate best model's predictive features"
   ]
  },
  {
   "cell_type": "code",
   "execution_count": 21,
   "id": "35fcf8e5-e00e-450d-b6e4-95b848c75af2",
   "metadata": {},
   "outputs": [
    {
     "name": "stdout",
     "output_type": "stream",
     "text": [
      "              precision    recall  f1-score   support\n",
      "\n",
      "           0       0.83      0.93      0.87       520\n",
      "           1       0.68      0.45      0.54       185\n",
      "\n",
      "    accuracy                           0.80       705\n",
      "   macro avg       0.75      0.69      0.71       705\n",
      "weighted avg       0.79      0.80      0.79       705\n",
      "\n"
     ]
    }
   ],
   "source": [
    "from sklearn.linear_model import LogisticRegression\n",
    "\n",
    "using_features = selection1best5\n",
    "\n",
    "# Create instance of model\n",
    "model = LogisticRegression()\n",
    "\n",
    "# Fit the model\n",
    "model.fit(X_train[using_features], y_train)\n",
    "\n",
    "# Predict the model\n",
    "y_pred = model.predict(X_test[using_features])\n",
    "\n",
    "# Print the classification report\n",
    "print(classification_report(y_test, y_pred))\n"
   ]
  },
  {
   "cell_type": "markdown",
   "id": "0e28c75a-93e7-4db3-a445-3be26fa3f195",
   "metadata": {
    "execution": {
     "iopub.execute_input": "2025-03-01T22:00:33.436550Z",
     "iopub.status.busy": "2025-03-01T22:00:33.435980Z",
     "iopub.status.idle": "2025-03-01T22:00:33.448115Z",
     "shell.execute_reply": "2025-03-01T22:00:33.446039Z",
     "shell.execute_reply.started": "2025-03-01T22:00:33.436497Z"
    }
   },
   "source": [
    "---\n",
    "\n",
    "<center>\n",
    "    \n",
    "## Validation\n",
    "\n",
    "</center>\n",
    "\n",
    "---"
   ]
  },
  {
   "cell_type": "markdown",
   "id": "94f21319-f705-4f76-b934-0cb153ede629",
   "metadata": {},
   "source": [
    "### Run model on testing dataset"
   ]
  },
  {
   "cell_type": "code",
   "execution_count": 24,
   "id": "912a5b5a-c856-43da-b4a7-c7b3a57142eb",
   "metadata": {},
   "outputs": [
    {
     "name": "stdout",
     "output_type": "stream",
     "text": [
      "              precision    recall  f1-score   support\n",
      "\n",
      "           0       0.83      0.93      0.87       520\n",
      "           1       0.68      0.45      0.54       185\n",
      "\n",
      "    accuracy                           0.80       705\n",
      "   macro avg       0.75      0.69      0.71       705\n",
      "weighted avg       0.79      0.80      0.79       705\n",
      "\n"
     ]
    }
   ],
   "source": [
    "# Run the mode on testing data\n",
    "y_pred = model.predict(X_test[using_features])\n",
    "\n",
    "# Print the classification report\n",
    "print(classification_report(y_test, y_pred))"
   ]
  },
  {
   "cell_type": "markdown",
   "id": "71cdb7c2-8f79-423c-9e18-2bb6baaebe4f",
   "metadata": {},
   "source": [
    "### Model's validation"
   ]
  },
  {
   "cell_type": "code",
   "execution_count": 26,
   "id": "ef8cb043-d8e8-435f-bde1-c65f0b2d94c0",
   "metadata": {},
   "outputs": [
    {
     "name": "stdout",
     "output_type": "stream",
     "text": [
      "{'C': 10, 'max_iter': 100, 'penalty': 'l1', 'solver': 'liblinear', 'tol': 0.1}\n",
      "0.8008827578995067\n",
      "LogisticRegression(C=10, penalty='l1', solver='liblinear', tol=0.1)\n",
      "51\n",
      "[[-0.04000971  1.08892221 -1.08742131  0.51297198 -1.54859543]]\n"
     ]
    }
   ],
   "source": [
    "# Models validation\n",
    "from sklearn.model_selection import cross_val_score\n",
    "\n",
    "# lets do cross validation, to find the best hyperparameters\n",
    "# Create instance of model\n",
    "# we will be doing cross validation to find the best hyperparameters out of the following\n",
    "# C: Inverse of regularization strength; must be a positive float. Like in support vector machines, smaller values specify stronger regularization.\n",
    "# penalty: Used to specify the norm used in the penalization. The ‘newton-cg’, ‘sag’ and ‘lbfgs’ solvers support only l2 penalties.\n",
    "# solver: Algorithm to use in the optimization problem.\n",
    "# tol: Tolerance for stopping criteria.\n",
    "# max_iter: Maximum number of iterations taken for the solvers to converge.\n",
    "model = LogisticRegression()\n",
    "\n",
    "# Create a dictionary of hyperparameters\n",
    "hyperparameters = {\n",
    "    'C': [0.001,  0.1, 10, 100, 200,500],\n",
    "    'penalty': ['l1', 'l2'],\n",
    "    'solver': ['liblinear'],\n",
    "    'tol': [0.0001, 0.001, 0.01,0.1],\n",
    "    'max_iter': [100, 1000, 10000]\n",
    "}\n",
    "\n",
    "# Create instance of GridSearchCV\n",
    "grid = GridSearchCV(model, hyperparameters, cv=5)\n",
    "\n",
    "# Fit the model\n",
    "grid.fit(X_train[using_features], y_train)\n",
    "\n",
    "# Print the best hyperparameters\n",
    "print(grid.best_params_)\n",
    "print(grid.best_score_)\n",
    "print(grid.best_estimator_)\n",
    "print(grid.best_index_)\n",
    "print(grid.best_estimator_.coef_)"
   ]
  },
  {
   "cell_type": "markdown",
   "id": "21af5fa9-0b4f-4015-9415-7c1103d546a2",
   "metadata": {
    "execution": {
     "iopub.execute_input": "2025-03-01T22:00:33.436550Z",
     "iopub.status.busy": "2025-03-01T22:00:33.435980Z",
     "iopub.status.idle": "2025-03-01T22:00:33.448115Z",
     "shell.execute_reply": "2025-03-01T22:00:33.446039Z",
     "shell.execute_reply.started": "2025-03-01T22:00:33.436497Z"
    }
   },
   "source": [
    "---\n",
    "\n",
    "<center>\n",
    "    \n",
    "## Results\n",
    "\n",
    "</center>\n",
    "\n",
    "---"
   ]
  },
  {
   "cell_type": "markdown",
   "id": "bd811d08-3868-4bbc-bd80-a3587fc54c35",
   "metadata": {},
   "source": [
    "### Results"
   ]
  },
  {
   "cell_type": "code",
   "execution_count": 37,
   "id": "16bd9f5a-481d-46a5-9c20-e9ab9897a32f",
   "metadata": {},
   "outputs": [
    {
     "name": "stdout",
     "output_type": "stream",
     "text": [
      "              precision    recall  f1-score   support\n",
      "\n",
      "           0       0.83      0.93      0.87       520\n",
      "           1       0.68      0.45      0.54       185\n",
      "\n",
      "    accuracy                           0.80       705\n",
      "   macro avg       0.75      0.69      0.71       705\n",
      "weighted avg       0.79      0.80      0.79       705\n",
      "\n"
     ]
    }
   ],
   "source": [
    "print(classification_report(y_test, y_pred))"
   ]
  }
 ],
 "metadata": {
  "kernelspec": {
   "display_name": "Python [conda env:base] *",
   "language": "python",
   "name": "conda-base-py"
  },
  "language_info": {
   "codemirror_mode": {
    "name": "ipython",
    "version": 3
   },
   "file_extension": ".py",
   "mimetype": "text/x-python",
   "name": "python",
   "nbconvert_exporter": "python",
   "pygments_lexer": "ipython3",
   "version": "3.12.7"
  }
 },
 "nbformat": 4,
 "nbformat_minor": 5
}
