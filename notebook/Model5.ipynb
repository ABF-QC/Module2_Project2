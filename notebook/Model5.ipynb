{
 "cells": [
  {
   "cell_type": "code",
   "execution_count": null,
   "id": "8a8619d5-76df-4c74-b99a-b8c2d9176b77",
   "metadata": {},
   "outputs": [],
   "source": []
  },
  {
   "cell_type": "markdown",
   "id": "8ec46a17-0262-4cd0-af8f-547ed2c5697a",
   "metadata": {},
   "source": [
    "---\n",
    "# Name of Method - Model 4\n",
    "---\n",
    "In this notebook, ...\n",
    "\n",
    "\n",
    "## Results\n",
    "\n",
    "---"
   ]
  },
  {
   "cell_type": "markdown",
   "id": "d88ac564-3e0d-4dc8-81eb-05d54d72db64",
   "metadata": {},
   "source": [
    "### Importing necessary library"
   ]
  },
  {
   "cell_type": "code",
   "execution_count": null,
   "id": "6ea79ec1-2737-4a9f-b64c-4d49cb8ff07e",
   "metadata": {},
   "outputs": [],
   "source": [
    "import pandas as pd\n",
    "import numpy as np\n",
    "\n",
    "import seaborn as sns\n",
    "import matplotlib.pyplot as plt\n",
    "\n",
    "from sklearn.model_selection import train_test_split\n",
    "from sklearn.preprocessing import StandardScaler\n",
    "from sklearn.model_selection import GridSearchCV\n",
    "from sklearn.neighbors import KNeighborsClassifier\n",
    "from sklearn.metrics import accuracy_score\n",
    "from sklearn.metrics import confusion_matrix\n",
    "from sklearn.metrics import classification_report\n",
    "from sklearn.model_selection import cross_val_score\n",
    "from sklearn.pipeline import Pipeline\n",
    "\n",
    "from sklearn.tree import DecisionTreeClassifier, plot_tree\n",
    "from sklearn.metrics import classification_report, confusion_matrix, accuracy_score, ConfusionMatrixDisplay, balanced_accuracy_score, precision_recall_curve\n",
    "from sklearn.svm import SVC \n",
    "from features import features"
   ]
  },
  {
   "cell_type": "markdown",
   "id": "63b03eb1-21b8-410c-8d9c-a81641b709ec",
   "metadata": {},
   "source": [
    "### Read data file"
   ]
  },
  {
   "cell_type": "code",
   "execution_count": null,
   "id": "db800891-c466-4258-9b66-b5c2263dc1e9",
   "metadata": {},
   "outputs": [],
   "source": [
    "churn_df = pd.read_excel('../data/churn_cleaned_featEng.xlsx')\n",
    "churn_df"
   ]
  },
  {
   "cell_type": "markdown",
   "id": "2d9e68c3-9fd2-443d-ac33-12a7103ca287",
   "metadata": {
    "execution": {
     "iopub.execute_input": "2025-03-01T22:00:33.436550Z",
     "iopub.status.busy": "2025-03-01T22:00:33.435980Z",
     "iopub.status.idle": "2025-03-01T22:00:33.448115Z",
     "shell.execute_reply": "2025-03-01T22:00:33.446039Z",
     "shell.execute_reply.started": "2025-03-01T22:00:33.436497Z"
    }
   },
   "source": [
    "---\n",
    "\n",
    "<center>\n",
    "    \n",
    "## Preparing data\n",
    "\n",
    "</center>\n",
    "\n",
    "---"
   ]
  },
  {
   "cell_type": "markdown",
   "id": "cf8f83a8-b231-4919-a018-7495521cfe95",
   "metadata": {},
   "source": [
    "### Separate X and y features"
   ]
  },
  {
   "cell_type": "code",
   "execution_count": null,
   "id": "15a5cffe-3718-4c56-a726-0e20aabab962",
   "metadata": {
    "tags": []
   },
   "outputs": [],
   "source": [
    "# Seperate X and y features\n",
    "feat_list = [ 'Dependents_Yes', 'Contract_Two year','Contract_One year', 'Internet Service_No']#['Tenure Months', 'Dependents_Yes', 'Internet Service_Fiber optic','Payment Method_Electronic check','Contract_Two year','Contract_One year']\n",
    "X = churn_df.drop(columns=['Churn Value'])[feat_list]\n",
    "y = churn_df['Churn Value']"
   ]
  },
  {
   "cell_type": "markdown",
   "id": "3b6bf29a-2756-4c64-afe6-e6a4c33b4a4e",
   "metadata": {},
   "source": [
    "### Split dataset (training/testing)"
   ]
  },
  {
   "cell_type": "code",
   "execution_count": null,
   "id": "aa24fa37-01d7-4d4d-ae0d-064d317bff2f",
   "metadata": {
    "tags": []
   },
   "outputs": [],
   "source": [
    "# Separating the dataset into a training dataset (70%) and testing+validation (30%) dataset\n",
    "X_train, X_test_validation, y_train, y_test_validation = train_test_split(X, y, train_size=0.7, random_state=5)\n",
    "\n",
    "# Separating the testing+valisation dataset into a testing dataset (15%) and a validation dataset (15%) \n",
    "X_val, X_test, y_val, y_test = train_test_split(X_test_validation, y_test_validation, test_size=0.5, random_state=5)"
   ]
  },
  {
   "cell_type": "markdown",
   "id": "a31bcec9-b09f-488a-a430-5841e519ce27",
   "metadata": {
    "execution": {
     "iopub.execute_input": "2025-03-01T21:46:04.307307Z",
     "iopub.status.busy": "2025-03-01T21:46:04.306075Z",
     "iopub.status.idle": "2025-03-01T21:46:04.323562Z",
     "shell.execute_reply": "2025-03-01T21:46:04.317516Z",
     "shell.execute_reply.started": "2025-03-01T21:46:04.307221Z"
    }
   },
   "source": [
    "### Converting data subset to dataframe "
   ]
  },
  {
   "cell_type": "code",
   "execution_count": null,
   "id": "25596481-b0d2-4636-9207-e3a1a30ac05c",
   "metadata": {},
   "outputs": [],
   "source": [
    "X_train = pd.DataFrame(X_train, columns=X.columns)\n",
    "X_test = pd.DataFrame(X_test, columns=X.columns)"
   ]
  },
  {
   "cell_type": "markdown",
   "id": "36162f48-0097-41ec-a9b4-9d283730aec7",
   "metadata": {
    "execution": {
     "iopub.execute_input": "2025-02-26T20:08:25.615728Z",
     "iopub.status.busy": "2025-02-26T20:08:25.615112Z",
     "iopub.status.idle": "2025-02-26T20:08:25.656052Z",
     "shell.execute_reply": "2025-02-26T20:08:25.654762Z",
     "shell.execute_reply.started": "2025-02-26T20:08:25.615678Z"
    }
   },
   "source": [
    "### Scale X features"
   ]
  },
  {
   "cell_type": "code",
   "execution_count": null,
   "id": "c31f31da-2e88-43ce-a9b1-8032c2aa16c2",
   "metadata": {},
   "outputs": [],
   "source": [
    "# Create instance of scaler\n",
    "scaler = StandardScaler()\n",
    "\n",
    "# Scale the data\n",
    "X_train_scaled = scaler.fit_transform(X_train)\n",
    "X_test_scaled = scaler.transform(X_test)"
   ]
  },
  {
   "cell_type": "markdown",
   "id": "6d587219-b36e-44e3-b20a-8b2d5334d5be",
   "metadata": {
    "execution": {
     "iopub.execute_input": "2025-03-01T22:00:33.436550Z",
     "iopub.status.busy": "2025-03-01T22:00:33.435980Z",
     "iopub.status.idle": "2025-03-01T22:00:33.448115Z",
     "shell.execute_reply": "2025-03-01T22:00:33.446039Z",
     "shell.execute_reply.started": "2025-03-01T22:00:33.436497Z"
    }
   },
   "source": [
    "---\n",
    "\n",
    "<center>\n",
    "    \n",
    "## Support Vector Classifiers Model\n",
    "\n",
    "</center>\n",
    "\n",
    "---"
   ]
  },
  {
   "cell_type": "markdown",
   "id": "55adb628-5e98-4512-87b0-6532f07d06f3",
   "metadata": {},
   "source": [
    "### Find best parameters for model\n",
    "---"
   ]
  },
  {
   "cell_type": "markdown",
   "id": "10b44a0e-aafa-45ce-a4b0-85ad85fb05af",
   "metadata": {},
   "source": [
    "**Create intance of model**"
   ]
  },
  {
   "cell_type": "code",
   "execution_count": null,
   "id": "5fdae783-9e5b-416f-9ff4-0cf8a920117c",
   "metadata": {},
   "outputs": [],
   "source": [
    "svm = SVC(random_state=25) "
   ]
  },
  {
   "cell_type": "markdown",
   "id": "2a3eb5fa-a44d-4073-bb50-295883917f55",
   "metadata": {},
   "source": [
    "**Setting parameters for the GridSearch**"
   ]
  },
  {
   "cell_type": "code",
   "execution_count": null,
   "id": "cf891528-8320-4892-8845-37f9ac42ffa8",
   "metadata": {},
   "outputs": [],
   "source": [
    "# param_grid = { 'criterion' : ['gini', 'entropy', 'log_loss'],\n",
    "#                'splitter' : ['best','random'],\n",
    "#                'max_depth' : [3,5,8,10,15,20,40],\n",
    "#                'class_weight': [{0: 0.1, 1: 1.9}],\n",
    "#              }\n",
    "\n",
    "param_grid = {'C':[0.001,0.01,.1], # first tried [0.01,0.1, 1], but best C was 0.01 # then tried [0.001,0.01, .01] best C was 0.001\n",
    "              'kernel':['linear','rbf'],\n",
    "              'gamma' : ['scale','auto'],\n",
    "              'class_weight': ['balanced', {0: 1, 1: 1}, {0: 0.7, 1: 1.3}, {0: 0.5, 1: 1.5}, {0: 0.3, 1: 1.7}, {0: 0.1, 1: 1.9}],\n",
    "             }\n",
    "\n",
    "scoring = ['balanced_accuracy', 'recall', 'f1_macro', 'roc_auc']\n",
    "refit = 'balanced_accuracy'"
   ]
  },
  {
   "cell_type": "markdown",
   "id": "80bbf0eb-6c52-42f0-b5b3-c91111681e6a",
   "metadata": {},
   "source": [
    "**Setting instance of GridSearchCV**"
   ]
  },
  {
   "cell_type": "code",
   "execution_count": null,
   "id": "cd46330b-af33-463a-a74f-ea4ed053452e",
   "metadata": {},
   "outputs": [],
   "source": [
    "grid = GridSearchCV(svm, param_grid, scoring=scoring, refit=refit)"
   ]
  },
  {
   "cell_type": "markdown",
   "id": "1808e047-9a9a-4e84-87ec-ceee093b2977",
   "metadata": {},
   "source": [
    "**Train the models to find best parameters**"
   ]
  },
  {
   "cell_type": "code",
   "execution_count": null,
   "id": "e3089c1c-38bd-427b-82c6-9fa5c02ac656",
   "metadata": {},
   "outputs": [],
   "source": [
    "grid.fit(X_train_scaled,y_train)"
   ]
  },
  {
   "cell_type": "markdown",
   "id": "aaa9a3c8-3d45-4b18-bde8-f3d3047a9d9e",
   "metadata": {},
   "source": [
    "---\n",
    "### Investigate best model's predictive features\n",
    "\n",
    "---"
   ]
  },
  {
   "cell_type": "code",
   "execution_count": null,
   "id": "6b249169-172f-41c9-a600-6becf7a71317",
   "metadata": {},
   "outputs": [],
   "source": [
    "grid.best_params_"
   ]
  },
  {
   "cell_type": "code",
   "execution_count": null,
   "id": "498d192c-454c-4f84-adbf-91d0569c8ce7",
   "metadata": {},
   "outputs": [],
   "source": [
    "grid.best_score_"
   ]
  },
  {
   "cell_type": "code",
   "execution_count": null,
   "id": "855bb8d5-0bae-4180-b5a1-d966658c7a32",
   "metadata": {},
   "outputs": [],
   "source": [
    "grid.n_features_in_"
   ]
  },
  {
   "cell_type": "code",
   "execution_count": null,
   "id": "b930d459-7335-4b2c-8f2d-7c4201cd6da0",
   "metadata": {},
   "outputs": [],
   "source": [
    "model = grid.best_estimator_"
   ]
  },
  {
   "cell_type": "code",
   "execution_count": null,
   "id": "c3b1ef2a-c3cf-4cc4-934c-f5bc3f9bde65",
   "metadata": {},
   "outputs": [],
   "source": [
    "model = grid.best_estimator_"
   ]
  },
  {
   "cell_type": "raw",
   "id": "79aea1fb-7fac-4b21-9dbd-0ebb77d39b70",
   "metadata": {
    "execution": {
     "iopub.status.busy": "2025-03-05T05:14:37.190816Z",
     "iopub.status.idle": "2025-03-05T05:14:37.192061Z",
     "shell.execute_reply": "2025-03-05T05:14:37.191775Z",
     "shell.execute_reply.started": "2025-03-05T05:14:37.191739Z"
    }
   },
   "source": [
    "best_model = grid.best_estimator_\n",
    "\n",
    "# Get feature importances from the best model\n",
    "feature_importance = best_model.feature_importances_\n",
    "\n",
    "feature_importance"
   ]
  },
  {
   "cell_type": "raw",
   "id": "899c7eb0-47f0-4150-948b-15f0a74435b5",
   "metadata": {
    "execution": {
     "iopub.status.busy": "2025-03-05T05:14:37.193641Z",
     "iopub.status.idle": "2025-03-05T05:14:37.194262Z",
     "shell.execute_reply": "2025-03-05T05:14:37.193979Z",
     "shell.execute_reply.started": "2025-03-05T05:14:37.193954Z"
    }
   },
   "source": [
    "feature_importance_df = pd.DataFrame({\n",
    "    'Feature': X_train.columns,\n",
    "    'Importance': feature_importance\n",
    "}).sort_values(by='Importance', ascending=False).reset_index(drop=True)\n",
    "feature_importance_df"
   ]
  },
  {
   "cell_type": "markdown",
   "id": "ef9db31f-03de-4b1a-b997-2821f11791b3",
   "metadata": {},
   "source": [
    "**Plot Decision Tree Arborescence**"
   ]
  },
  {
   "cell_type": "code",
   "execution_count": null,
   "id": "57b01e5c-15e2-4d49-a7eb-82acbcad7121",
   "metadata": {},
   "outputs": [],
   "source": [
    "# # Create figure and adjust size\n",
    "# plt.figure(figsize=(50,50))\n",
    "\n",
    "# # Plot decision tree\n",
    "# plot_tree(model, feature_names=X_train.columns)\n",
    "\n",
    "# # Save decision tree\n",
    "# plt.savefig('../graph/DecisionTreeClassifier.png')\n",
    "\n",
    "# # Show model\n",
    "# plt.show()"
   ]
  },
  {
   "cell_type": "markdown",
   "id": "4407abe4-591d-4ec1-bb8c-c3455050f979",
   "metadata": {},
   "source": [
    "---\n",
    "### Get scores for the training dataset\n",
    "---"
   ]
  },
  {
   "cell_type": "markdown",
   "id": "7aaf7d7c-cfb8-4c37-8fcf-a2ef59162b69",
   "metadata": {},
   "source": [
    "**Make prediction on training dataset**"
   ]
  },
  {
   "cell_type": "code",
   "execution_count": null,
   "id": "fe0f1eb8-e08d-4718-9be0-3dfd07122a9d",
   "metadata": {},
   "outputs": [],
   "source": [
    "y_pred_train = grid.predict(X_train_scaled)"
   ]
  },
  {
   "cell_type": "markdown",
   "id": "97d5e873-8e6c-4e88-9119-60242c766153",
   "metadata": {
    "execution": {
     "iopub.execute_input": "2025-03-04T19:02:41.608228Z",
     "iopub.status.busy": "2025-03-04T19:02:41.607698Z",
     "iopub.status.idle": "2025-03-04T19:02:41.621852Z",
     "shell.execute_reply": "2025-03-04T19:02:41.618932Z",
     "shell.execute_reply.started": "2025-03-04T19:02:41.608182Z"
    }
   },
   "source": [
    "**Create Confusion Matrix**"
   ]
  },
  {
   "cell_type": "code",
   "execution_count": null,
   "id": "f507a882-d169-460f-b3ad-054f3341d4e6",
   "metadata": {},
   "outputs": [],
   "source": [
    "cm = confusion_matrix(y_train, y_pred_train)\n",
    "cm"
   ]
  },
  {
   "cell_type": "markdown",
   "id": "5da059ab-3dec-401e-80e0-2f2ad7906ea8",
   "metadata": {},
   "source": [
    "**Plot confusion matrix**"
   ]
  },
  {
   "cell_type": "code",
   "execution_count": null,
   "id": "13782c43-f915-4caa-bbdf-719f0fccece2",
   "metadata": {},
   "outputs": [],
   "source": [
    "# Create figure and adjsut its size\n",
    "plt.figure(figsize=(4,4))\n",
    "\n",
    "# Create plot for Confusion Matrix\n",
    "disp = ConfusionMatrixDisplay(confusion_matrix=cm,\n",
    "                              display_labels=grid.classes_)\n",
    "\n",
    "disp.plot()\n",
    "\n",
    "# Show plot\n",
    "plt.show()"
   ]
  },
  {
   "cell_type": "markdown",
   "id": "774c3b14-8cb9-443d-9348-a7b5aef2bd5b",
   "metadata": {},
   "source": [
    "**Print classification Report**"
   ]
  },
  {
   "cell_type": "code",
   "execution_count": null,
   "id": "b946ebc7-6b69-40bf-bdaa-f53800072b0e",
   "metadata": {},
   "outputs": [],
   "source": [
    "print(classification_report(y_train,y_pred_train))"
   ]
  },
  {
   "cell_type": "markdown",
   "id": "cf7c90a0-415d-40b1-aab1-ce335b1521c4",
   "metadata": {
    "execution": {
     "iopub.execute_input": "2025-03-01T22:00:33.436550Z",
     "iopub.status.busy": "2025-03-01T22:00:33.435980Z",
     "iopub.status.idle": "2025-03-01T22:00:33.448115Z",
     "shell.execute_reply": "2025-03-01T22:00:33.446039Z",
     "shell.execute_reply.started": "2025-03-01T22:00:33.436497Z"
    }
   },
   "source": [
    "---\n",
    "\n",
    "<center>\n",
    "    \n",
    "## Validation\n",
    "\n",
    "</center>\n",
    "\n",
    "---"
   ]
  },
  {
   "cell_type": "markdown",
   "id": "04fab0a0-1a9c-447d-ae8c-52f361ee5313",
   "metadata": {},
   "source": [
    "**Run model on testing dataset**"
   ]
  },
  {
   "cell_type": "code",
   "execution_count": null,
   "id": "cb7c0976-dd85-4de2-bb86-71c0bf758597",
   "metadata": {},
   "outputs": [],
   "source": [
    "y_pred_test = grid.predict(X_test_scaled)"
   ]
  },
  {
   "cell_type": "markdown",
   "id": "244b46a3-eb49-49a9-bfa4-30efc9bf089e",
   "metadata": {
    "execution": {
     "iopub.execute_input": "2025-03-04T19:02:41.608228Z",
     "iopub.status.busy": "2025-03-04T19:02:41.607698Z",
     "iopub.status.idle": "2025-03-04T19:02:41.621852Z",
     "shell.execute_reply": "2025-03-04T19:02:41.618932Z",
     "shell.execute_reply.started": "2025-03-04T19:02:41.608182Z"
    }
   },
   "source": [
    "**Create Confusion Matrix**"
   ]
  },
  {
   "cell_type": "code",
   "execution_count": null,
   "id": "810f4aef-b4f6-4a12-88df-2641372aa3b7",
   "metadata": {},
   "outputs": [],
   "source": [
    "cm = confusion_matrix(y_test, y_pred_test)\n",
    "cm"
   ]
  },
  {
   "cell_type": "markdown",
   "id": "75e15996-884a-4614-ad90-69a6803997f1",
   "metadata": {},
   "source": [
    "**Plot confusion matrix**"
   ]
  },
  {
   "cell_type": "code",
   "execution_count": null,
   "id": "e17cf424-20ce-48d9-bad1-de0053e97066",
   "metadata": {},
   "outputs": [],
   "source": [
    "# Create figure and adjsut its size\n",
    "plt.figure(figsize=(4,4))\n",
    "\n",
    "# Create plot for Confusion Matrix\n",
    "disp = ConfusionMatrixDisplay(confusion_matrix=cm,\n",
    "                              display_labels=grid.classes_)\n",
    "\n",
    "disp.plot()\n",
    "\n",
    "# Show plot\n",
    "plt.show()"
   ]
  },
  {
   "cell_type": "markdown",
   "id": "66d05637-e025-43fd-b00f-a5316db59073",
   "metadata": {},
   "source": [
    "**Print classification Report**"
   ]
  },
  {
   "cell_type": "code",
   "execution_count": null,
   "id": "0d7adf50-73dc-4e7a-a0f7-a67157c04048",
   "metadata": {},
   "outputs": [],
   "source": [
    "print(classification_report(y_test,y_pred_test))"
   ]
  },
  {
   "cell_type": "code",
   "execution_count": null,
   "id": "7bd05ba0-3c3e-49fc-963b-02d4ac9e7002",
   "metadata": {},
   "outputs": [],
   "source": [
    "balanced_accuracy_score(y_test,y_pred_test)"
   ]
  },
  {
   "cell_type": "code",
   "execution_count": null,
   "id": "7a5b037d-4f5c-453c-8d27-e4edd05050fe",
   "metadata": {},
   "outputs": [],
   "source": [
    "precision_recall_curve(y_test,y_pred_test)"
   ]
  },
  {
   "cell_type": "markdown",
   "id": "12e1a849-faf8-4e0d-a728-b6b7328474b2",
   "metadata": {
    "execution": {
     "iopub.execute_input": "2025-03-01T22:00:33.436550Z",
     "iopub.status.busy": "2025-03-01T22:00:33.435980Z",
     "iopub.status.idle": "2025-03-01T22:00:33.448115Z",
     "shell.execute_reply": "2025-03-01T22:00:33.446039Z",
     "shell.execute_reply.started": "2025-03-01T22:00:33.436497Z"
    }
   },
   "source": [
    "---\n",
    "\n",
    "<center>\n",
    "    \n",
    "## Results\n",
    "\n",
    "</center>\n",
    "\n",
    "---"
   ]
  },
  {
   "cell_type": "markdown",
   "id": "95d71ff1-66dc-486b-9579-46948009cd79",
   "metadata": {},
   "source": [
    "### Results\n",
    "\n",
    "### Results\n",
    "\n",
    "all = 'Senior Citizen', 'Partner', 'Dependents', 'Tenure Months', \n",
    "            'Internet Service', \n",
    "            'Online Security', 'Online Backup', 'Device Protection',\n",
    "            'Tech Support', 'Contract', 'Paperless Billing', 'Payment Method',\n",
    "            'Monthly Charges', 'Churn Value',\n",
    "\n",
    "Training dataset (all+ lat/lon)\n",
    "| Metric       | Precision | Recall | F1-Score | Support |\n",
    "|-------------|-----------|-------|----------|--------|\n",
    "| Class 0     | 0.89     | 0.82  | 0.86    | 4132   |\n",
    "| Class 1     | 0.60     | 0.72  | 0.66    | 1502   |\n",
    "| Accuracy    |          |       | 0.80    | 5634   |\n",
    "| Macro Avg   | 0.74     | 0.77  | 0.76    | 5634   |\n",
    "| Weighted Avg| 0.81     | 0.80  | 0.80    | 5634   |\n",
    "\n",
    "test(all + lat/lon)\n",
    "| Metric       | Precision | Recall | F1-Score | Support |\n",
    "|-------------|-----------|-------|----------|--------|\n",
    "| Class 0     | 0.88     | 0.79  | 0.84    | 504    |\n",
    "| Class 1     | 0.59     | 0.74  | 0.65    | 201    |\n",
    "| Accuracy    |          |       | 0.78    | 705    |\n",
    "| Macro Avg   | 0.74     | 0.77  | 0.75    | 705    |\n",
    "| Weighted Avg| 0.80     | 0.78  | 0.78    | 705    |"
   ]
  }
 ],
 "metadata": {
  "kernelspec": {
   "display_name": "graph",
   "language": "python",
   "name": "graph"
  },
  "language_info": {
   "codemirror_mode": {
    "name": "ipython",
    "version": 3
   },
   "file_extension": ".py",
   "mimetype": "text/x-python",
   "name": "python",
   "nbconvert_exporter": "python",
   "pygments_lexer": "ipython3",
   "version": "3.12.7"
  }
 },
 "nbformat": 4,
 "nbformat_minor": 5
}
