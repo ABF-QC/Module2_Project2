{
 "cells": [
  {
   "cell_type": "code",
   "execution_count": null,
   "id": "8a8619d5-76df-4c74-b99a-b8c2d9176b77",
   "metadata": {},
   "outputs": [],
   "source": []
  },
  {
   "cell_type": "markdown",
   "id": "8ec46a17-0262-4cd0-af8f-547ed2c5697a",
   "metadata": {},
   "source": [
    "---\n",
    "# Name of Method - Model 4\n",
    "---\n",
    "In this notebook, ...\n",
    "\n",
    "\n",
    "## Results\n",
    "\n",
    "---"
   ]
  },
  {
   "cell_type": "markdown",
   "id": "d88ac564-3e0d-4dc8-81eb-05d54d72db64",
   "metadata": {},
   "source": [
    "### Importing necessary library"
   ]
  },
  {
   "cell_type": "code",
   "execution_count": 1,
   "id": "6ea79ec1-2737-4a9f-b64c-4d49cb8ff07e",
   "metadata": {
    "execution": {
     "iopub.execute_input": "2025-03-04T22:34:22.951910Z",
     "iopub.status.busy": "2025-03-04T22:34:22.951055Z",
     "iopub.status.idle": "2025-03-04T22:34:24.906576Z",
     "shell.execute_reply": "2025-03-04T22:34:24.904868Z",
     "shell.execute_reply.started": "2025-03-04T22:34:22.951865Z"
    }
   },
   "outputs": [],
   "source": [
    "import pandas as pd\n",
    "import numpy as np\n",
    "\n",
    "import seaborn as sns\n",
    "import matplotlib.pyplot as plt\n",
    "\n",
    "from sklearn.model_selection import train_test_split\n",
    "from sklearn.preprocessing import StandardScaler\n",
    "from sklearn.model_selection import GridSearchCV\n",
    "from sklearn.neighbors import KNeighborsClassifier\n",
    "from sklearn.metrics import accuracy_score\n",
    "from sklearn.metrics import confusion_matrix\n",
    "from sklearn.metrics import classification_report\n",
    "from sklearn.model_selection import cross_val_score\n",
    "from sklearn.pipeline import Pipeline\n",
    "\n",
    "from sklearn.tree import DecisionTreeClassifier, plot_tree\n",
    "from sklearn.metrics import classification_report, confusion_matrix, accuracy_score, ConfusionMatrixDisplay, balanced_accuracy_score, precision_recall_curve\n",
    "from sklearn.svm import SVC \n",
    "from features import features"
   ]
  },
  {
   "cell_type": "markdown",
   "id": "63b03eb1-21b8-410c-8d9c-a81641b709ec",
   "metadata": {},
   "source": [
    "### Read data file"
   ]
  },
  {
   "cell_type": "code",
   "execution_count": 2,
   "id": "db800891-c466-4258-9b66-b5c2263dc1e9",
   "metadata": {
    "execution": {
     "iopub.execute_input": "2025-03-04T22:34:24.908528Z",
     "iopub.status.busy": "2025-03-04T22:34:24.908016Z",
     "iopub.status.idle": "2025-03-04T22:34:26.656949Z",
     "shell.execute_reply": "2025-03-04T22:34:26.655021Z",
     "shell.execute_reply.started": "2025-03-04T22:34:24.908500Z"
    }
   },
   "outputs": [
    {
     "data": {
      "text/html": [
       "<div>\n",
       "<style scoped>\n",
       "    .dataframe tbody tr th:only-of-type {\n",
       "        vertical-align: middle;\n",
       "    }\n",
       "\n",
       "    .dataframe tbody tr th {\n",
       "        vertical-align: top;\n",
       "    }\n",
       "\n",
       "    .dataframe thead th {\n",
       "        text-align: right;\n",
       "    }\n",
       "</style>\n",
       "<table border=\"1\" class=\"dataframe\">\n",
       "  <thead>\n",
       "    <tr style=\"text-align: right;\">\n",
       "      <th></th>\n",
       "      <th>Latitude</th>\n",
       "      <th>Longitude</th>\n",
       "      <th>Tenure Months</th>\n",
       "      <th>Monthly Charges</th>\n",
       "      <th>Churn Value</th>\n",
       "      <th>Senior Citizen_Yes</th>\n",
       "      <th>Partner_Yes</th>\n",
       "      <th>Dependents_Yes</th>\n",
       "      <th>Internet Service_Fiber optic</th>\n",
       "      <th>Internet Service_No</th>\n",
       "      <th>...</th>\n",
       "      <th>Payment Method_Electronic check</th>\n",
       "      <th>Payment Method_Mailed check</th>\n",
       "      <th>Gender_Male</th>\n",
       "      <th>Phone Service_Yes</th>\n",
       "      <th>Multiple Lines_No phone service</th>\n",
       "      <th>Multiple Lines_Yes</th>\n",
       "      <th>Streaming TV_No internet service</th>\n",
       "      <th>Streaming TV_Yes</th>\n",
       "      <th>Streaming Movies_No internet service</th>\n",
       "      <th>Streaming Movies_Yes</th>\n",
       "    </tr>\n",
       "  </thead>\n",
       "  <tbody>\n",
       "    <tr>\n",
       "      <th>0</th>\n",
       "      <td>33.964131</td>\n",
       "      <td>118.272783</td>\n",
       "      <td>2</td>\n",
       "      <td>53.85</td>\n",
       "      <td>1</td>\n",
       "      <td>0</td>\n",
       "      <td>0</td>\n",
       "      <td>0</td>\n",
       "      <td>0</td>\n",
       "      <td>0</td>\n",
       "      <td>...</td>\n",
       "      <td>0</td>\n",
       "      <td>1</td>\n",
       "      <td>1</td>\n",
       "      <td>1</td>\n",
       "      <td>0</td>\n",
       "      <td>0</td>\n",
       "      <td>0</td>\n",
       "      <td>0</td>\n",
       "      <td>0</td>\n",
       "      <td>0</td>\n",
       "    </tr>\n",
       "    <tr>\n",
       "      <th>1</th>\n",
       "      <td>34.059281</td>\n",
       "      <td>118.307420</td>\n",
       "      <td>2</td>\n",
       "      <td>70.70</td>\n",
       "      <td>1</td>\n",
       "      <td>0</td>\n",
       "      <td>0</td>\n",
       "      <td>1</td>\n",
       "      <td>1</td>\n",
       "      <td>0</td>\n",
       "      <td>...</td>\n",
       "      <td>1</td>\n",
       "      <td>0</td>\n",
       "      <td>0</td>\n",
       "      <td>1</td>\n",
       "      <td>0</td>\n",
       "      <td>0</td>\n",
       "      <td>0</td>\n",
       "      <td>0</td>\n",
       "      <td>0</td>\n",
       "      <td>0</td>\n",
       "    </tr>\n",
       "    <tr>\n",
       "      <th>2</th>\n",
       "      <td>34.048013</td>\n",
       "      <td>118.293953</td>\n",
       "      <td>8</td>\n",
       "      <td>99.65</td>\n",
       "      <td>1</td>\n",
       "      <td>0</td>\n",
       "      <td>0</td>\n",
       "      <td>1</td>\n",
       "      <td>1</td>\n",
       "      <td>0</td>\n",
       "      <td>...</td>\n",
       "      <td>1</td>\n",
       "      <td>0</td>\n",
       "      <td>0</td>\n",
       "      <td>1</td>\n",
       "      <td>0</td>\n",
       "      <td>1</td>\n",
       "      <td>0</td>\n",
       "      <td>1</td>\n",
       "      <td>0</td>\n",
       "      <td>1</td>\n",
       "    </tr>\n",
       "    <tr>\n",
       "      <th>3</th>\n",
       "      <td>34.062125</td>\n",
       "      <td>118.315709</td>\n",
       "      <td>28</td>\n",
       "      <td>104.80</td>\n",
       "      <td>1</td>\n",
       "      <td>0</td>\n",
       "      <td>1</td>\n",
       "      <td>1</td>\n",
       "      <td>1</td>\n",
       "      <td>0</td>\n",
       "      <td>...</td>\n",
       "      <td>1</td>\n",
       "      <td>0</td>\n",
       "      <td>0</td>\n",
       "      <td>1</td>\n",
       "      <td>0</td>\n",
       "      <td>1</td>\n",
       "      <td>0</td>\n",
       "      <td>1</td>\n",
       "      <td>0</td>\n",
       "      <td>1</td>\n",
       "    </tr>\n",
       "    <tr>\n",
       "      <th>4</th>\n",
       "      <td>34.039224</td>\n",
       "      <td>118.266293</td>\n",
       "      <td>49</td>\n",
       "      <td>103.70</td>\n",
       "      <td>1</td>\n",
       "      <td>0</td>\n",
       "      <td>0</td>\n",
       "      <td>1</td>\n",
       "      <td>1</td>\n",
       "      <td>0</td>\n",
       "      <td>...</td>\n",
       "      <td>0</td>\n",
       "      <td>0</td>\n",
       "      <td>1</td>\n",
       "      <td>1</td>\n",
       "      <td>0</td>\n",
       "      <td>1</td>\n",
       "      <td>0</td>\n",
       "      <td>1</td>\n",
       "      <td>0</td>\n",
       "      <td>1</td>\n",
       "    </tr>\n",
       "    <tr>\n",
       "      <th>...</th>\n",
       "      <td>...</td>\n",
       "      <td>...</td>\n",
       "      <td>...</td>\n",
       "      <td>...</td>\n",
       "      <td>...</td>\n",
       "      <td>...</td>\n",
       "      <td>...</td>\n",
       "      <td>...</td>\n",
       "      <td>...</td>\n",
       "      <td>...</td>\n",
       "      <td>...</td>\n",
       "      <td>...</td>\n",
       "      <td>...</td>\n",
       "      <td>...</td>\n",
       "      <td>...</td>\n",
       "      <td>...</td>\n",
       "      <td>...</td>\n",
       "      <td>...</td>\n",
       "      <td>...</td>\n",
       "      <td>...</td>\n",
       "      <td>...</td>\n",
       "    </tr>\n",
       "    <tr>\n",
       "      <th>7038</th>\n",
       "      <td>34.341737</td>\n",
       "      <td>116.539416</td>\n",
       "      <td>72</td>\n",
       "      <td>21.15</td>\n",
       "      <td>0</td>\n",
       "      <td>0</td>\n",
       "      <td>0</td>\n",
       "      <td>0</td>\n",
       "      <td>0</td>\n",
       "      <td>1</td>\n",
       "      <td>...</td>\n",
       "      <td>0</td>\n",
       "      <td>0</td>\n",
       "      <td>0</td>\n",
       "      <td>1</td>\n",
       "      <td>0</td>\n",
       "      <td>0</td>\n",
       "      <td>1</td>\n",
       "      <td>0</td>\n",
       "      <td>1</td>\n",
       "      <td>0</td>\n",
       "    </tr>\n",
       "    <tr>\n",
       "      <th>7039</th>\n",
       "      <td>34.667815</td>\n",
       "      <td>117.536183</td>\n",
       "      <td>24</td>\n",
       "      <td>84.80</td>\n",
       "      <td>0</td>\n",
       "      <td>0</td>\n",
       "      <td>1</td>\n",
       "      <td>1</td>\n",
       "      <td>0</td>\n",
       "      <td>0</td>\n",
       "      <td>...</td>\n",
       "      <td>0</td>\n",
       "      <td>1</td>\n",
       "      <td>1</td>\n",
       "      <td>1</td>\n",
       "      <td>0</td>\n",
       "      <td>1</td>\n",
       "      <td>0</td>\n",
       "      <td>1</td>\n",
       "      <td>0</td>\n",
       "      <td>1</td>\n",
       "    </tr>\n",
       "    <tr>\n",
       "      <th>7040</th>\n",
       "      <td>34.559882</td>\n",
       "      <td>115.637164</td>\n",
       "      <td>72</td>\n",
       "      <td>103.20</td>\n",
       "      <td>0</td>\n",
       "      <td>0</td>\n",
       "      <td>1</td>\n",
       "      <td>1</td>\n",
       "      <td>1</td>\n",
       "      <td>0</td>\n",
       "      <td>...</td>\n",
       "      <td>0</td>\n",
       "      <td>0</td>\n",
       "      <td>0</td>\n",
       "      <td>1</td>\n",
       "      <td>0</td>\n",
       "      <td>1</td>\n",
       "      <td>0</td>\n",
       "      <td>1</td>\n",
       "      <td>0</td>\n",
       "      <td>1</td>\n",
       "    </tr>\n",
       "    <tr>\n",
       "      <th>7041</th>\n",
       "      <td>34.167800</td>\n",
       "      <td>116.864330</td>\n",
       "      <td>11</td>\n",
       "      <td>29.60</td>\n",
       "      <td>0</td>\n",
       "      <td>0</td>\n",
       "      <td>1</td>\n",
       "      <td>1</td>\n",
       "      <td>0</td>\n",
       "      <td>0</td>\n",
       "      <td>...</td>\n",
       "      <td>1</td>\n",
       "      <td>0</td>\n",
       "      <td>0</td>\n",
       "      <td>0</td>\n",
       "      <td>1</td>\n",
       "      <td>0</td>\n",
       "      <td>0</td>\n",
       "      <td>0</td>\n",
       "      <td>0</td>\n",
       "      <td>0</td>\n",
       "    </tr>\n",
       "    <tr>\n",
       "      <th>7042</th>\n",
       "      <td>34.424926</td>\n",
       "      <td>117.184503</td>\n",
       "      <td>66</td>\n",
       "      <td>105.65</td>\n",
       "      <td>0</td>\n",
       "      <td>0</td>\n",
       "      <td>0</td>\n",
       "      <td>0</td>\n",
       "      <td>1</td>\n",
       "      <td>0</td>\n",
       "      <td>...</td>\n",
       "      <td>0</td>\n",
       "      <td>0</td>\n",
       "      <td>1</td>\n",
       "      <td>1</td>\n",
       "      <td>0</td>\n",
       "      <td>0</td>\n",
       "      <td>0</td>\n",
       "      <td>1</td>\n",
       "      <td>0</td>\n",
       "      <td>1</td>\n",
       "    </tr>\n",
       "  </tbody>\n",
       "</table>\n",
       "<p>7043 rows × 28 columns</p>\n",
       "</div>"
      ],
      "text/plain": [
       "       Latitude   Longitude  Tenure Months  Monthly Charges  Churn Value  \\\n",
       "0     33.964131  118.272783              2            53.85            1   \n",
       "1     34.059281  118.307420              2            70.70            1   \n",
       "2     34.048013  118.293953              8            99.65            1   \n",
       "3     34.062125  118.315709             28           104.80            1   \n",
       "4     34.039224  118.266293             49           103.70            1   \n",
       "...         ...         ...            ...              ...          ...   \n",
       "7038  34.341737  116.539416             72            21.15            0   \n",
       "7039  34.667815  117.536183             24            84.80            0   \n",
       "7040  34.559882  115.637164             72           103.20            0   \n",
       "7041  34.167800  116.864330             11            29.60            0   \n",
       "7042  34.424926  117.184503             66           105.65            0   \n",
       "\n",
       "      Senior Citizen_Yes  Partner_Yes  Dependents_Yes  \\\n",
       "0                      0            0               0   \n",
       "1                      0            0               1   \n",
       "2                      0            0               1   \n",
       "3                      0            1               1   \n",
       "4                      0            0               1   \n",
       "...                  ...          ...             ...   \n",
       "7038                   0            0               0   \n",
       "7039                   0            1               1   \n",
       "7040                   0            1               1   \n",
       "7041                   0            1               1   \n",
       "7042                   0            0               0   \n",
       "\n",
       "      Internet Service_Fiber optic  Internet Service_No  ...  \\\n",
       "0                                0                    0  ...   \n",
       "1                                1                    0  ...   \n",
       "2                                1                    0  ...   \n",
       "3                                1                    0  ...   \n",
       "4                                1                    0  ...   \n",
       "...                            ...                  ...  ...   \n",
       "7038                             0                    1  ...   \n",
       "7039                             0                    0  ...   \n",
       "7040                             1                    0  ...   \n",
       "7041                             0                    0  ...   \n",
       "7042                             1                    0  ...   \n",
       "\n",
       "      Payment Method_Electronic check  Payment Method_Mailed check  \\\n",
       "0                                   0                            1   \n",
       "1                                   1                            0   \n",
       "2                                   1                            0   \n",
       "3                                   1                            0   \n",
       "4                                   0                            0   \n",
       "...                               ...                          ...   \n",
       "7038                                0                            0   \n",
       "7039                                0                            1   \n",
       "7040                                0                            0   \n",
       "7041                                1                            0   \n",
       "7042                                0                            0   \n",
       "\n",
       "      Gender_Male  Phone Service_Yes  Multiple Lines_No phone service  \\\n",
       "0               1                  1                                0   \n",
       "1               0                  1                                0   \n",
       "2               0                  1                                0   \n",
       "3               0                  1                                0   \n",
       "4               1                  1                                0   \n",
       "...           ...                ...                              ...   \n",
       "7038            0                  1                                0   \n",
       "7039            1                  1                                0   \n",
       "7040            0                  1                                0   \n",
       "7041            0                  0                                1   \n",
       "7042            1                  1                                0   \n",
       "\n",
       "      Multiple Lines_Yes  Streaming TV_No internet service  Streaming TV_Yes  \\\n",
       "0                      0                                 0                 0   \n",
       "1                      0                                 0                 0   \n",
       "2                      1                                 0                 1   \n",
       "3                      1                                 0                 1   \n",
       "4                      1                                 0                 1   \n",
       "...                  ...                               ...               ...   \n",
       "7038                   0                                 1                 0   \n",
       "7039                   1                                 0                 1   \n",
       "7040                   1                                 0                 1   \n",
       "7041                   0                                 0                 0   \n",
       "7042                   0                                 0                 1   \n",
       "\n",
       "      Streaming Movies_No internet service  Streaming Movies_Yes  \n",
       "0                                        0                     0  \n",
       "1                                        0                     0  \n",
       "2                                        0                     1  \n",
       "3                                        0                     1  \n",
       "4                                        0                     1  \n",
       "...                                    ...                   ...  \n",
       "7038                                     1                     0  \n",
       "7039                                     0                     1  \n",
       "7040                                     0                     1  \n",
       "7041                                     0                     0  \n",
       "7042                                     0                     1  \n",
       "\n",
       "[7043 rows x 28 columns]"
      ]
     },
     "execution_count": 2,
     "metadata": {},
     "output_type": "execute_result"
    }
   ],
   "source": [
    "churn_df = pd.read_excel('../data/churn_cleaned_featEng.xlsx')\n",
    "churn_df"
   ]
  },
  {
   "cell_type": "markdown",
   "id": "2d9e68c3-9fd2-443d-ac33-12a7103ca287",
   "metadata": {
    "execution": {
     "iopub.execute_input": "2025-03-01T22:00:33.436550Z",
     "iopub.status.busy": "2025-03-01T22:00:33.435980Z",
     "iopub.status.idle": "2025-03-01T22:00:33.448115Z",
     "shell.execute_reply": "2025-03-01T22:00:33.446039Z",
     "shell.execute_reply.started": "2025-03-01T22:00:33.436497Z"
    }
   },
   "source": [
    "---\n",
    "\n",
    "<center>\n",
    "    \n",
    "## Preparing data\n",
    "\n",
    "</center>\n",
    "\n",
    "---"
   ]
  },
  {
   "cell_type": "markdown",
   "id": "cf8f83a8-b231-4919-a018-7495521cfe95",
   "metadata": {},
   "source": [
    "### Separate X and y features"
   ]
  },
  {
   "cell_type": "code",
   "execution_count": 3,
   "id": "15a5cffe-3718-4c56-a726-0e20aabab962",
   "metadata": {
    "execution": {
     "iopub.execute_input": "2025-03-04T22:34:26.659581Z",
     "iopub.status.busy": "2025-03-04T22:34:26.658517Z",
     "iopub.status.idle": "2025-03-04T22:34:26.667406Z",
     "shell.execute_reply": "2025-03-04T22:34:26.665592Z",
     "shell.execute_reply.started": "2025-03-04T22:34:26.659516Z"
    },
    "tags": []
   },
   "outputs": [],
   "source": [
    "# Seperate X and y features\n",
    "X = churn_df.drop(columns=['Churn Value'])\n",
    "y = churn_df['Churn Value']"
   ]
  },
  {
   "cell_type": "markdown",
   "id": "3b6bf29a-2756-4c64-afe6-e6a4c33b4a4e",
   "metadata": {},
   "source": [
    "### Split dataset (training/testing)"
   ]
  },
  {
   "cell_type": "code",
   "execution_count": 4,
   "id": "aa24fa37-01d7-4d4d-ae0d-064d317bff2f",
   "metadata": {
    "execution": {
     "iopub.execute_input": "2025-03-04T22:34:26.669418Z",
     "iopub.status.busy": "2025-03-04T22:34:26.668907Z",
     "iopub.status.idle": "2025-03-04T22:34:26.696205Z",
     "shell.execute_reply": "2025-03-04T22:34:26.694896Z",
     "shell.execute_reply.started": "2025-03-04T22:34:26.669371Z"
    },
    "tags": []
   },
   "outputs": [],
   "source": [
    "# Separating the dataset into a training dataset (70%) and testing+validation (30%) dataset\n",
    "X_train, X_test_validation, y_train, y_test_validation = train_test_split(X, y, train_size=0.7, random_state=5)\n",
    "\n",
    "# Separating the testing+valisation dataset into a testing dataset (15%) and a validation dataset (15%) \n",
    "X_val, X_test, y_val, y_test = train_test_split(X_test_validation, y_test_validation, test_size=0.5, random_state=5)"
   ]
  },
  {
   "cell_type": "markdown",
   "id": "a31bcec9-b09f-488a-a430-5841e519ce27",
   "metadata": {
    "execution": {
     "iopub.execute_input": "2025-03-01T21:46:04.307307Z",
     "iopub.status.busy": "2025-03-01T21:46:04.306075Z",
     "iopub.status.idle": "2025-03-01T21:46:04.323562Z",
     "shell.execute_reply": "2025-03-01T21:46:04.317516Z",
     "shell.execute_reply.started": "2025-03-01T21:46:04.307221Z"
    }
   },
   "source": [
    "### Converting data subset to dataframe "
   ]
  },
  {
   "cell_type": "code",
   "execution_count": 5,
   "id": "25596481-b0d2-4636-9207-e3a1a30ac05c",
   "metadata": {
    "execution": {
     "iopub.execute_input": "2025-03-04T22:34:26.698412Z",
     "iopub.status.busy": "2025-03-04T22:34:26.697517Z",
     "iopub.status.idle": "2025-03-04T22:34:26.710387Z",
     "shell.execute_reply": "2025-03-04T22:34:26.709513Z",
     "shell.execute_reply.started": "2025-03-04T22:34:26.698379Z"
    }
   },
   "outputs": [],
   "source": [
    "X_train = pd.DataFrame(X_train, columns=X.columns)\n",
    "X_test = pd.DataFrame(X_test, columns=X.columns)"
   ]
  },
  {
   "cell_type": "markdown",
   "id": "36162f48-0097-41ec-a9b4-9d283730aec7",
   "metadata": {
    "execution": {
     "iopub.execute_input": "2025-02-26T20:08:25.615728Z",
     "iopub.status.busy": "2025-02-26T20:08:25.615112Z",
     "iopub.status.idle": "2025-02-26T20:08:25.656052Z",
     "shell.execute_reply": "2025-02-26T20:08:25.654762Z",
     "shell.execute_reply.started": "2025-02-26T20:08:25.615678Z"
    }
   },
   "source": [
    "### Scale X features"
   ]
  },
  {
   "cell_type": "code",
   "execution_count": 6,
   "id": "c31f31da-2e88-43ce-a9b1-8032c2aa16c2",
   "metadata": {
    "execution": {
     "iopub.execute_input": "2025-03-04T22:34:26.715501Z",
     "iopub.status.busy": "2025-03-04T22:34:26.714438Z",
     "iopub.status.idle": "2025-03-04T22:34:26.736935Z",
     "shell.execute_reply": "2025-03-04T22:34:26.735780Z",
     "shell.execute_reply.started": "2025-03-04T22:34:26.715462Z"
    }
   },
   "outputs": [],
   "source": [
    "# Create instance of scaler\n",
    "scaler = StandardScaler()\n",
    "\n",
    "# Scale the data\n",
    "X_train_scaled = scaler.fit_transform(X_train)\n",
    "X_test_scaled = scaler.transform(X_test)"
   ]
  },
  {
   "cell_type": "markdown",
   "id": "6d587219-b36e-44e3-b20a-8b2d5334d5be",
   "metadata": {
    "execution": {
     "iopub.execute_input": "2025-03-01T22:00:33.436550Z",
     "iopub.status.busy": "2025-03-01T22:00:33.435980Z",
     "iopub.status.idle": "2025-03-01T22:00:33.448115Z",
     "shell.execute_reply": "2025-03-01T22:00:33.446039Z",
     "shell.execute_reply.started": "2025-03-01T22:00:33.436497Z"
    }
   },
   "source": [
    "---\n",
    "\n",
    "<center>\n",
    "    \n",
    "## Support Vector Classifiers Model\n",
    "\n",
    "</center>\n",
    "\n",
    "---"
   ]
  },
  {
   "cell_type": "markdown",
   "id": "55adb628-5e98-4512-87b0-6532f07d06f3",
   "metadata": {},
   "source": [
    "### Find best parameters for model\n",
    "---"
   ]
  },
  {
   "cell_type": "markdown",
   "id": "10b44a0e-aafa-45ce-a4b0-85ad85fb05af",
   "metadata": {},
   "source": [
    "**Create intance of model**"
   ]
  },
  {
   "cell_type": "code",
   "execution_count": 7,
   "id": "5fdae783-9e5b-416f-9ff4-0cf8a920117c",
   "metadata": {
    "execution": {
     "iopub.execute_input": "2025-03-04T22:34:26.738298Z",
     "iopub.status.busy": "2025-03-04T22:34:26.737933Z",
     "iopub.status.idle": "2025-03-04T22:34:26.750771Z",
     "shell.execute_reply": "2025-03-04T22:34:26.749515Z",
     "shell.execute_reply.started": "2025-03-04T22:34:26.738270Z"
    }
   },
   "outputs": [],
   "source": [
    "svm = SVC(random_state=25) "
   ]
  },
  {
   "cell_type": "markdown",
   "id": "2a3eb5fa-a44d-4073-bb50-295883917f55",
   "metadata": {},
   "source": [
    "**Setting parameters for the GridSearch**"
   ]
  },
  {
   "cell_type": "code",
   "execution_count": 8,
   "id": "cf891528-8320-4892-8845-37f9ac42ffa8",
   "metadata": {
    "execution": {
     "iopub.execute_input": "2025-03-04T22:34:26.752553Z",
     "iopub.status.busy": "2025-03-04T22:34:26.752052Z",
     "iopub.status.idle": "2025-03-04T22:34:26.777613Z",
     "shell.execute_reply": "2025-03-04T22:34:26.776397Z",
     "shell.execute_reply.started": "2025-03-04T22:34:26.752503Z"
    }
   },
   "outputs": [],
   "source": [
    "# param_grid = { 'criterion' : ['gini', 'entropy', 'log_loss'],\n",
    "#                'splitter' : ['best','random'],\n",
    "#                'max_depth' : [3,5,8,10,15,20,40],\n",
    "#                'class_weight': [{0: 0.1, 1: 1.9}],\n",
    "#              }\n",
    "\n",
    "param_grid = {'C':[0.001,0.01,.1], # first tried [0.01,0.1, 1], but best C was 0.01 # then tried [0.001,0.01, .01] best C was 0.001\n",
    "              'kernel':['linear','rbf'],\n",
    "              'gamma' : ['scale','auto'],\n",
    "              'class_weight': ['balanced', {0: 1, 1: 1}, {0: 0.7, 1: 1.3}, {0: 0.5, 1: 1.5}, {0: 0.3, 1: 1.7}, {0: 0.1, 1: 1.9}],\n",
    "             }"
   ]
  },
  {
   "cell_type": "markdown",
   "id": "80bbf0eb-6c52-42f0-b5b3-c91111681e6a",
   "metadata": {},
   "source": [
    "**Setting instance of GridSearchCV**"
   ]
  },
  {
   "cell_type": "code",
   "execution_count": 9,
   "id": "cd46330b-af33-463a-a74f-ea4ed053452e",
   "metadata": {
    "execution": {
     "iopub.execute_input": "2025-03-04T22:34:26.779406Z",
     "iopub.status.busy": "2025-03-04T22:34:26.778815Z",
     "iopub.status.idle": "2025-03-04T22:34:26.799028Z",
     "shell.execute_reply": "2025-03-04T22:34:26.797731Z",
     "shell.execute_reply.started": "2025-03-04T22:34:26.779365Z"
    }
   },
   "outputs": [],
   "source": [
    "grid = GridSearchCV(svm, param_grid, scoring='f1')"
   ]
  },
  {
   "cell_type": "markdown",
   "id": "1808e047-9a9a-4e84-87ec-ceee093b2977",
   "metadata": {},
   "source": [
    "**Train the models to find best parameters**"
   ]
  },
  {
   "cell_type": "code",
   "execution_count": 10,
   "id": "e3089c1c-38bd-427b-82c6-9fa5c02ac656",
   "metadata": {
    "execution": {
     "iopub.execute_input": "2025-03-04T22:34:26.801030Z",
     "iopub.status.busy": "2025-03-04T22:34:26.800514Z",
     "iopub.status.idle": "2025-03-04T22:40:20.916453Z",
     "shell.execute_reply": "2025-03-04T22:40:20.914656Z",
     "shell.execute_reply.started": "2025-03-04T22:34:26.800989Z"
    }
   },
   "outputs": [
    {
     "data": {
      "text/html": [
       "<style>#sk-container-id-1 {\n",
       "  /* Definition of color scheme common for light and dark mode */\n",
       "  --sklearn-color-text: #000;\n",
       "  --sklearn-color-text-muted: #666;\n",
       "  --sklearn-color-line: gray;\n",
       "  /* Definition of color scheme for unfitted estimators */\n",
       "  --sklearn-color-unfitted-level-0: #fff5e6;\n",
       "  --sklearn-color-unfitted-level-1: #f6e4d2;\n",
       "  --sklearn-color-unfitted-level-2: #ffe0b3;\n",
       "  --sklearn-color-unfitted-level-3: chocolate;\n",
       "  /* Definition of color scheme for fitted estimators */\n",
       "  --sklearn-color-fitted-level-0: #f0f8ff;\n",
       "  --sklearn-color-fitted-level-1: #d4ebff;\n",
       "  --sklearn-color-fitted-level-2: #b3dbfd;\n",
       "  --sklearn-color-fitted-level-3: cornflowerblue;\n",
       "\n",
       "  /* Specific color for light theme */\n",
       "  --sklearn-color-text-on-default-background: var(--sg-text-color, var(--theme-code-foreground, var(--jp-content-font-color1, black)));\n",
       "  --sklearn-color-background: var(--sg-background-color, var(--theme-background, var(--jp-layout-color0, white)));\n",
       "  --sklearn-color-border-box: var(--sg-text-color, var(--theme-code-foreground, var(--jp-content-font-color1, black)));\n",
       "  --sklearn-color-icon: #696969;\n",
       "\n",
       "  @media (prefers-color-scheme: dark) {\n",
       "    /* Redefinition of color scheme for dark theme */\n",
       "    --sklearn-color-text-on-default-background: var(--sg-text-color, var(--theme-code-foreground, var(--jp-content-font-color1, white)));\n",
       "    --sklearn-color-background: var(--sg-background-color, var(--theme-background, var(--jp-layout-color0, #111)));\n",
       "    --sklearn-color-border-box: var(--sg-text-color, var(--theme-code-foreground, var(--jp-content-font-color1, white)));\n",
       "    --sklearn-color-icon: #878787;\n",
       "  }\n",
       "}\n",
       "\n",
       "#sk-container-id-1 {\n",
       "  color: var(--sklearn-color-text);\n",
       "}\n",
       "\n",
       "#sk-container-id-1 pre {\n",
       "  padding: 0;\n",
       "}\n",
       "\n",
       "#sk-container-id-1 input.sk-hidden--visually {\n",
       "  border: 0;\n",
       "  clip: rect(1px 1px 1px 1px);\n",
       "  clip: rect(1px, 1px, 1px, 1px);\n",
       "  height: 1px;\n",
       "  margin: -1px;\n",
       "  overflow: hidden;\n",
       "  padding: 0;\n",
       "  position: absolute;\n",
       "  width: 1px;\n",
       "}\n",
       "\n",
       "#sk-container-id-1 div.sk-dashed-wrapped {\n",
       "  border: 1px dashed var(--sklearn-color-line);\n",
       "  margin: 0 0.4em 0.5em 0.4em;\n",
       "  box-sizing: border-box;\n",
       "  padding-bottom: 0.4em;\n",
       "  background-color: var(--sklearn-color-background);\n",
       "}\n",
       "\n",
       "#sk-container-id-1 div.sk-container {\n",
       "  /* jupyter's `normalize.less` sets `[hidden] { display: none; }`\n",
       "     but bootstrap.min.css set `[hidden] { display: none !important; }`\n",
       "     so we also need the `!important` here to be able to override the\n",
       "     default hidden behavior on the sphinx rendered scikit-learn.org.\n",
       "     See: https://github.com/scikit-learn/scikit-learn/issues/21755 */\n",
       "  display: inline-block !important;\n",
       "  position: relative;\n",
       "}\n",
       "\n",
       "#sk-container-id-1 div.sk-text-repr-fallback {\n",
       "  display: none;\n",
       "}\n",
       "\n",
       "div.sk-parallel-item,\n",
       "div.sk-serial,\n",
       "div.sk-item {\n",
       "  /* draw centered vertical line to link estimators */\n",
       "  background-image: linear-gradient(var(--sklearn-color-text-on-default-background), var(--sklearn-color-text-on-default-background));\n",
       "  background-size: 2px 100%;\n",
       "  background-repeat: no-repeat;\n",
       "  background-position: center center;\n",
       "}\n",
       "\n",
       "/* Parallel-specific style estimator block */\n",
       "\n",
       "#sk-container-id-1 div.sk-parallel-item::after {\n",
       "  content: \"\";\n",
       "  width: 100%;\n",
       "  border-bottom: 2px solid var(--sklearn-color-text-on-default-background);\n",
       "  flex-grow: 1;\n",
       "}\n",
       "\n",
       "#sk-container-id-1 div.sk-parallel {\n",
       "  display: flex;\n",
       "  align-items: stretch;\n",
       "  justify-content: center;\n",
       "  background-color: var(--sklearn-color-background);\n",
       "  position: relative;\n",
       "}\n",
       "\n",
       "#sk-container-id-1 div.sk-parallel-item {\n",
       "  display: flex;\n",
       "  flex-direction: column;\n",
       "}\n",
       "\n",
       "#sk-container-id-1 div.sk-parallel-item:first-child::after {\n",
       "  align-self: flex-end;\n",
       "  width: 50%;\n",
       "}\n",
       "\n",
       "#sk-container-id-1 div.sk-parallel-item:last-child::after {\n",
       "  align-self: flex-start;\n",
       "  width: 50%;\n",
       "}\n",
       "\n",
       "#sk-container-id-1 div.sk-parallel-item:only-child::after {\n",
       "  width: 0;\n",
       "}\n",
       "\n",
       "/* Serial-specific style estimator block */\n",
       "\n",
       "#sk-container-id-1 div.sk-serial {\n",
       "  display: flex;\n",
       "  flex-direction: column;\n",
       "  align-items: center;\n",
       "  background-color: var(--sklearn-color-background);\n",
       "  padding-right: 1em;\n",
       "  padding-left: 1em;\n",
       "}\n",
       "\n",
       "\n",
       "/* Toggleable style: style used for estimator/Pipeline/ColumnTransformer box that is\n",
       "clickable and can be expanded/collapsed.\n",
       "- Pipeline and ColumnTransformer use this feature and define the default style\n",
       "- Estimators will overwrite some part of the style using the `sk-estimator` class\n",
       "*/\n",
       "\n",
       "/* Pipeline and ColumnTransformer style (default) */\n",
       "\n",
       "#sk-container-id-1 div.sk-toggleable {\n",
       "  /* Default theme specific background. It is overwritten whether we have a\n",
       "  specific estimator or a Pipeline/ColumnTransformer */\n",
       "  background-color: var(--sklearn-color-background);\n",
       "}\n",
       "\n",
       "/* Toggleable label */\n",
       "#sk-container-id-1 label.sk-toggleable__label {\n",
       "  cursor: pointer;\n",
       "  display: flex;\n",
       "  width: 100%;\n",
       "  margin-bottom: 0;\n",
       "  padding: 0.5em;\n",
       "  box-sizing: border-box;\n",
       "  text-align: center;\n",
       "  align-items: start;\n",
       "  justify-content: space-between;\n",
       "  gap: 0.5em;\n",
       "}\n",
       "\n",
       "#sk-container-id-1 label.sk-toggleable__label .caption {\n",
       "  font-size: 0.6rem;\n",
       "  font-weight: lighter;\n",
       "  color: var(--sklearn-color-text-muted);\n",
       "}\n",
       "\n",
       "#sk-container-id-1 label.sk-toggleable__label-arrow:before {\n",
       "  /* Arrow on the left of the label */\n",
       "  content: \"▸\";\n",
       "  float: left;\n",
       "  margin-right: 0.25em;\n",
       "  color: var(--sklearn-color-icon);\n",
       "}\n",
       "\n",
       "#sk-container-id-1 label.sk-toggleable__label-arrow:hover:before {\n",
       "  color: var(--sklearn-color-text);\n",
       "}\n",
       "\n",
       "/* Toggleable content - dropdown */\n",
       "\n",
       "#sk-container-id-1 div.sk-toggleable__content {\n",
       "  max-height: 0;\n",
       "  max-width: 0;\n",
       "  overflow: hidden;\n",
       "  text-align: left;\n",
       "  /* unfitted */\n",
       "  background-color: var(--sklearn-color-unfitted-level-0);\n",
       "}\n",
       "\n",
       "#sk-container-id-1 div.sk-toggleable__content.fitted {\n",
       "  /* fitted */\n",
       "  background-color: var(--sklearn-color-fitted-level-0);\n",
       "}\n",
       "\n",
       "#sk-container-id-1 div.sk-toggleable__content pre {\n",
       "  margin: 0.2em;\n",
       "  border-radius: 0.25em;\n",
       "  color: var(--sklearn-color-text);\n",
       "  /* unfitted */\n",
       "  background-color: var(--sklearn-color-unfitted-level-0);\n",
       "}\n",
       "\n",
       "#sk-container-id-1 div.sk-toggleable__content.fitted pre {\n",
       "  /* unfitted */\n",
       "  background-color: var(--sklearn-color-fitted-level-0);\n",
       "}\n",
       "\n",
       "#sk-container-id-1 input.sk-toggleable__control:checked~div.sk-toggleable__content {\n",
       "  /* Expand drop-down */\n",
       "  max-height: 200px;\n",
       "  max-width: 100%;\n",
       "  overflow: auto;\n",
       "}\n",
       "\n",
       "#sk-container-id-1 input.sk-toggleable__control:checked~label.sk-toggleable__label-arrow:before {\n",
       "  content: \"▾\";\n",
       "}\n",
       "\n",
       "/* Pipeline/ColumnTransformer-specific style */\n",
       "\n",
       "#sk-container-id-1 div.sk-label input.sk-toggleable__control:checked~label.sk-toggleable__label {\n",
       "  color: var(--sklearn-color-text);\n",
       "  background-color: var(--sklearn-color-unfitted-level-2);\n",
       "}\n",
       "\n",
       "#sk-container-id-1 div.sk-label.fitted input.sk-toggleable__control:checked~label.sk-toggleable__label {\n",
       "  background-color: var(--sklearn-color-fitted-level-2);\n",
       "}\n",
       "\n",
       "/* Estimator-specific style */\n",
       "\n",
       "/* Colorize estimator box */\n",
       "#sk-container-id-1 div.sk-estimator input.sk-toggleable__control:checked~label.sk-toggleable__label {\n",
       "  /* unfitted */\n",
       "  background-color: var(--sklearn-color-unfitted-level-2);\n",
       "}\n",
       "\n",
       "#sk-container-id-1 div.sk-estimator.fitted input.sk-toggleable__control:checked~label.sk-toggleable__label {\n",
       "  /* fitted */\n",
       "  background-color: var(--sklearn-color-fitted-level-2);\n",
       "}\n",
       "\n",
       "#sk-container-id-1 div.sk-label label.sk-toggleable__label,\n",
       "#sk-container-id-1 div.sk-label label {\n",
       "  /* The background is the default theme color */\n",
       "  color: var(--sklearn-color-text-on-default-background);\n",
       "}\n",
       "\n",
       "/* On hover, darken the color of the background */\n",
       "#sk-container-id-1 div.sk-label:hover label.sk-toggleable__label {\n",
       "  color: var(--sklearn-color-text);\n",
       "  background-color: var(--sklearn-color-unfitted-level-2);\n",
       "}\n",
       "\n",
       "/* Label box, darken color on hover, fitted */\n",
       "#sk-container-id-1 div.sk-label.fitted:hover label.sk-toggleable__label.fitted {\n",
       "  color: var(--sklearn-color-text);\n",
       "  background-color: var(--sklearn-color-fitted-level-2);\n",
       "}\n",
       "\n",
       "/* Estimator label */\n",
       "\n",
       "#sk-container-id-1 div.sk-label label {\n",
       "  font-family: monospace;\n",
       "  font-weight: bold;\n",
       "  display: inline-block;\n",
       "  line-height: 1.2em;\n",
       "}\n",
       "\n",
       "#sk-container-id-1 div.sk-label-container {\n",
       "  text-align: center;\n",
       "}\n",
       "\n",
       "/* Estimator-specific */\n",
       "#sk-container-id-1 div.sk-estimator {\n",
       "  font-family: monospace;\n",
       "  border: 1px dotted var(--sklearn-color-border-box);\n",
       "  border-radius: 0.25em;\n",
       "  box-sizing: border-box;\n",
       "  margin-bottom: 0.5em;\n",
       "  /* unfitted */\n",
       "  background-color: var(--sklearn-color-unfitted-level-0);\n",
       "}\n",
       "\n",
       "#sk-container-id-1 div.sk-estimator.fitted {\n",
       "  /* fitted */\n",
       "  background-color: var(--sklearn-color-fitted-level-0);\n",
       "}\n",
       "\n",
       "/* on hover */\n",
       "#sk-container-id-1 div.sk-estimator:hover {\n",
       "  /* unfitted */\n",
       "  background-color: var(--sklearn-color-unfitted-level-2);\n",
       "}\n",
       "\n",
       "#sk-container-id-1 div.sk-estimator.fitted:hover {\n",
       "  /* fitted */\n",
       "  background-color: var(--sklearn-color-fitted-level-2);\n",
       "}\n",
       "\n",
       "/* Specification for estimator info (e.g. \"i\" and \"?\") */\n",
       "\n",
       "/* Common style for \"i\" and \"?\" */\n",
       "\n",
       ".sk-estimator-doc-link,\n",
       "a:link.sk-estimator-doc-link,\n",
       "a:visited.sk-estimator-doc-link {\n",
       "  float: right;\n",
       "  font-size: smaller;\n",
       "  line-height: 1em;\n",
       "  font-family: monospace;\n",
       "  background-color: var(--sklearn-color-background);\n",
       "  border-radius: 1em;\n",
       "  height: 1em;\n",
       "  width: 1em;\n",
       "  text-decoration: none !important;\n",
       "  margin-left: 0.5em;\n",
       "  text-align: center;\n",
       "  /* unfitted */\n",
       "  border: var(--sklearn-color-unfitted-level-1) 1pt solid;\n",
       "  color: var(--sklearn-color-unfitted-level-1);\n",
       "}\n",
       "\n",
       ".sk-estimator-doc-link.fitted,\n",
       "a:link.sk-estimator-doc-link.fitted,\n",
       "a:visited.sk-estimator-doc-link.fitted {\n",
       "  /* fitted */\n",
       "  border: var(--sklearn-color-fitted-level-1) 1pt solid;\n",
       "  color: var(--sklearn-color-fitted-level-1);\n",
       "}\n",
       "\n",
       "/* On hover */\n",
       "div.sk-estimator:hover .sk-estimator-doc-link:hover,\n",
       ".sk-estimator-doc-link:hover,\n",
       "div.sk-label-container:hover .sk-estimator-doc-link:hover,\n",
       ".sk-estimator-doc-link:hover {\n",
       "  /* unfitted */\n",
       "  background-color: var(--sklearn-color-unfitted-level-3);\n",
       "  color: var(--sklearn-color-background);\n",
       "  text-decoration: none;\n",
       "}\n",
       "\n",
       "div.sk-estimator.fitted:hover .sk-estimator-doc-link.fitted:hover,\n",
       ".sk-estimator-doc-link.fitted:hover,\n",
       "div.sk-label-container:hover .sk-estimator-doc-link.fitted:hover,\n",
       ".sk-estimator-doc-link.fitted:hover {\n",
       "  /* fitted */\n",
       "  background-color: var(--sklearn-color-fitted-level-3);\n",
       "  color: var(--sklearn-color-background);\n",
       "  text-decoration: none;\n",
       "}\n",
       "\n",
       "/* Span, style for the box shown on hovering the info icon */\n",
       ".sk-estimator-doc-link span {\n",
       "  display: none;\n",
       "  z-index: 9999;\n",
       "  position: relative;\n",
       "  font-weight: normal;\n",
       "  right: .2ex;\n",
       "  padding: .5ex;\n",
       "  margin: .5ex;\n",
       "  width: min-content;\n",
       "  min-width: 20ex;\n",
       "  max-width: 50ex;\n",
       "  color: var(--sklearn-color-text);\n",
       "  box-shadow: 2pt 2pt 4pt #999;\n",
       "  /* unfitted */\n",
       "  background: var(--sklearn-color-unfitted-level-0);\n",
       "  border: .5pt solid var(--sklearn-color-unfitted-level-3);\n",
       "}\n",
       "\n",
       ".sk-estimator-doc-link.fitted span {\n",
       "  /* fitted */\n",
       "  background: var(--sklearn-color-fitted-level-0);\n",
       "  border: var(--sklearn-color-fitted-level-3);\n",
       "}\n",
       "\n",
       ".sk-estimator-doc-link:hover span {\n",
       "  display: block;\n",
       "}\n",
       "\n",
       "/* \"?\"-specific style due to the `<a>` HTML tag */\n",
       "\n",
       "#sk-container-id-1 a.estimator_doc_link {\n",
       "  float: right;\n",
       "  font-size: 1rem;\n",
       "  line-height: 1em;\n",
       "  font-family: monospace;\n",
       "  background-color: var(--sklearn-color-background);\n",
       "  border-radius: 1rem;\n",
       "  height: 1rem;\n",
       "  width: 1rem;\n",
       "  text-decoration: none;\n",
       "  /* unfitted */\n",
       "  color: var(--sklearn-color-unfitted-level-1);\n",
       "  border: var(--sklearn-color-unfitted-level-1) 1pt solid;\n",
       "}\n",
       "\n",
       "#sk-container-id-1 a.estimator_doc_link.fitted {\n",
       "  /* fitted */\n",
       "  border: var(--sklearn-color-fitted-level-1) 1pt solid;\n",
       "  color: var(--sklearn-color-fitted-level-1);\n",
       "}\n",
       "\n",
       "/* On hover */\n",
       "#sk-container-id-1 a.estimator_doc_link:hover {\n",
       "  /* unfitted */\n",
       "  background-color: var(--sklearn-color-unfitted-level-3);\n",
       "  color: var(--sklearn-color-background);\n",
       "  text-decoration: none;\n",
       "}\n",
       "\n",
       "#sk-container-id-1 a.estimator_doc_link.fitted:hover {\n",
       "  /* fitted */\n",
       "  background-color: var(--sklearn-color-fitted-level-3);\n",
       "}\n",
       "</style><div id=\"sk-container-id-1\" class=\"sk-top-container\"><div class=\"sk-text-repr-fallback\"><pre>GridSearchCV(estimator=SVC(random_state=25),\n",
       "             param_grid={&#x27;C&#x27;: [0.001, 0.01, 0.1],\n",
       "                         &#x27;class_weight&#x27;: [&#x27;balanced&#x27;, {0: 1, 1: 1},\n",
       "                                          {0: 0.7, 1: 1.3}, {0: 0.5, 1: 1.5},\n",
       "                                          {0: 0.3, 1: 1.7}, {0: 0.1, 1: 1.9}],\n",
       "                         &#x27;gamma&#x27;: [&#x27;scale&#x27;, &#x27;auto&#x27;],\n",
       "                         &#x27;kernel&#x27;: [&#x27;linear&#x27;, &#x27;rbf&#x27;]},\n",
       "             scoring=&#x27;f1&#x27;)</pre><b>In a Jupyter environment, please rerun this cell to show the HTML representation or trust the notebook. <br />On GitHub, the HTML representation is unable to render, please try loading this page with nbviewer.org.</b></div><div class=\"sk-container\" hidden><div class=\"sk-item sk-dashed-wrapped\"><div class=\"sk-label-container\"><div class=\"sk-label fitted sk-toggleable\"><input class=\"sk-toggleable__control sk-hidden--visually\" id=\"sk-estimator-id-1\" type=\"checkbox\" ><label for=\"sk-estimator-id-1\" class=\"sk-toggleable__label fitted sk-toggleable__label-arrow\"><div><div>GridSearchCV</div></div><div><a class=\"sk-estimator-doc-link fitted\" rel=\"noreferrer\" target=\"_blank\" href=\"https://scikit-learn.org/1.6/modules/generated/sklearn.model_selection.GridSearchCV.html\">?<span>Documentation for GridSearchCV</span></a><span class=\"sk-estimator-doc-link fitted\">i<span>Fitted</span></span></div></label><div class=\"sk-toggleable__content fitted\"><pre>GridSearchCV(estimator=SVC(random_state=25),\n",
       "             param_grid={&#x27;C&#x27;: [0.001, 0.01, 0.1],\n",
       "                         &#x27;class_weight&#x27;: [&#x27;balanced&#x27;, {0: 1, 1: 1},\n",
       "                                          {0: 0.7, 1: 1.3}, {0: 0.5, 1: 1.5},\n",
       "                                          {0: 0.3, 1: 1.7}, {0: 0.1, 1: 1.9}],\n",
       "                         &#x27;gamma&#x27;: [&#x27;scale&#x27;, &#x27;auto&#x27;],\n",
       "                         &#x27;kernel&#x27;: [&#x27;linear&#x27;, &#x27;rbf&#x27;]},\n",
       "             scoring=&#x27;f1&#x27;)</pre></div> </div></div><div class=\"sk-parallel\"><div class=\"sk-parallel-item\"><div class=\"sk-item\"><div class=\"sk-label-container\"><div class=\"sk-label fitted sk-toggleable\"><input class=\"sk-toggleable__control sk-hidden--visually\" id=\"sk-estimator-id-2\" type=\"checkbox\" ><label for=\"sk-estimator-id-2\" class=\"sk-toggleable__label fitted sk-toggleable__label-arrow\"><div><div>best_estimator_: SVC</div></div></label><div class=\"sk-toggleable__content fitted\"><pre>SVC(C=0.1, class_weight={0: 0.7, 1: 1.3}, random_state=25)</pre></div> </div></div><div class=\"sk-serial\"><div class=\"sk-item\"><div class=\"sk-estimator fitted sk-toggleable\"><input class=\"sk-toggleable__control sk-hidden--visually\" id=\"sk-estimator-id-3\" type=\"checkbox\" ><label for=\"sk-estimator-id-3\" class=\"sk-toggleable__label fitted sk-toggleable__label-arrow\"><div><div>SVC</div></div><div><a class=\"sk-estimator-doc-link fitted\" rel=\"noreferrer\" target=\"_blank\" href=\"https://scikit-learn.org/1.6/modules/generated/sklearn.svm.SVC.html\">?<span>Documentation for SVC</span></a></div></label><div class=\"sk-toggleable__content fitted\"><pre>SVC(C=0.1, class_weight={0: 0.7, 1: 1.3}, random_state=25)</pre></div> </div></div></div></div></div></div></div></div></div>"
      ],
      "text/plain": [
       "GridSearchCV(estimator=SVC(random_state=25),\n",
       "             param_grid={'C': [0.001, 0.01, 0.1],\n",
       "                         'class_weight': ['balanced', {0: 1, 1: 1},\n",
       "                                          {0: 0.7, 1: 1.3}, {0: 0.5, 1: 1.5},\n",
       "                                          {0: 0.3, 1: 1.7}, {0: 0.1, 1: 1.9}],\n",
       "                         'gamma': ['scale', 'auto'],\n",
       "                         'kernel': ['linear', 'rbf']},\n",
       "             scoring='f1')"
      ]
     },
     "execution_count": 10,
     "metadata": {},
     "output_type": "execute_result"
    }
   ],
   "source": [
    "grid.fit(X_train_scaled,y_train)"
   ]
  },
  {
   "cell_type": "markdown",
   "id": "aaa9a3c8-3d45-4b18-bde8-f3d3047a9d9e",
   "metadata": {},
   "source": [
    "---\n",
    "### Investigate best model's predictive features\n",
    "\n",
    "---"
   ]
  },
  {
   "cell_type": "code",
   "execution_count": 11,
   "id": "6b249169-172f-41c9-a600-6becf7a71317",
   "metadata": {
    "execution": {
     "iopub.execute_input": "2025-03-04T22:40:20.918022Z",
     "iopub.status.busy": "2025-03-04T22:40:20.917550Z",
     "iopub.status.idle": "2025-03-04T22:40:20.928064Z",
     "shell.execute_reply": "2025-03-04T22:40:20.926261Z",
     "shell.execute_reply.started": "2025-03-04T22:40:20.917977Z"
    }
   },
   "outputs": [
    {
     "data": {
      "text/plain": [
       "{'C': 0.1, 'class_weight': {0: 0.7, 1: 1.3}, 'gamma': 'scale', 'kernel': 'rbf'}"
      ]
     },
     "execution_count": 11,
     "metadata": {},
     "output_type": "execute_result"
    }
   ],
   "source": [
    "grid.best_params_"
   ]
  },
  {
   "cell_type": "code",
   "execution_count": 12,
   "id": "498d192c-454c-4f84-adbf-91d0569c8ce7",
   "metadata": {
    "execution": {
     "iopub.execute_input": "2025-03-04T22:40:20.929871Z",
     "iopub.status.busy": "2025-03-04T22:40:20.929385Z",
     "iopub.status.idle": "2025-03-04T22:40:20.953299Z",
     "shell.execute_reply": "2025-03-04T22:40:20.951868Z",
     "shell.execute_reply.started": "2025-03-04T22:40:20.929827Z"
    }
   },
   "outputs": [
    {
     "data": {
      "text/plain": [
       "np.float64(0.6438535322930984)"
      ]
     },
     "execution_count": 12,
     "metadata": {},
     "output_type": "execute_result"
    }
   ],
   "source": [
    "grid.best_score_"
   ]
  },
  {
   "cell_type": "code",
   "execution_count": 13,
   "id": "855bb8d5-0bae-4180-b5a1-d966658c7a32",
   "metadata": {
    "execution": {
     "iopub.execute_input": "2025-03-04T22:40:20.955160Z",
     "iopub.status.busy": "2025-03-04T22:40:20.954732Z",
     "iopub.status.idle": "2025-03-04T22:40:20.979682Z",
     "shell.execute_reply": "2025-03-04T22:40:20.977993Z",
     "shell.execute_reply.started": "2025-03-04T22:40:20.955117Z"
    }
   },
   "outputs": [
    {
     "data": {
      "text/plain": [
       "27"
      ]
     },
     "execution_count": 13,
     "metadata": {},
     "output_type": "execute_result"
    }
   ],
   "source": [
    "grid.n_features_in_"
   ]
  },
  {
   "cell_type": "code",
   "execution_count": 14,
   "id": "b930d459-7335-4b2c-8f2d-7c4201cd6da0",
   "metadata": {
    "execution": {
     "iopub.execute_input": "2025-03-04T22:40:20.981835Z",
     "iopub.status.busy": "2025-03-04T22:40:20.981326Z",
     "iopub.status.idle": "2025-03-04T22:40:21.003383Z",
     "shell.execute_reply": "2025-03-04T22:40:21.001914Z",
     "shell.execute_reply.started": "2025-03-04T22:40:20.981792Z"
    }
   },
   "outputs": [],
   "source": [
    "model = grid.best_estimator_"
   ]
  },
  {
   "cell_type": "markdown",
   "id": "ef9db31f-03de-4b1a-b997-2821f11791b3",
   "metadata": {},
   "source": [
    "**Plot Decision Tree Arborescence**"
   ]
  },
  {
   "cell_type": "code",
   "execution_count": 15,
   "id": "57b01e5c-15e2-4d49-a7eb-82acbcad7121",
   "metadata": {
    "execution": {
     "iopub.execute_input": "2025-03-04T22:40:21.006186Z",
     "iopub.status.busy": "2025-03-04T22:40:21.005638Z",
     "iopub.status.idle": "2025-03-04T22:40:21.029754Z",
     "shell.execute_reply": "2025-03-04T22:40:21.028750Z",
     "shell.execute_reply.started": "2025-03-04T22:40:21.006137Z"
    }
   },
   "outputs": [],
   "source": [
    "# # Create figure and adjust size\n",
    "# plt.figure(figsize=(50,50))\n",
    "\n",
    "# # Plot decision tree\n",
    "# plot_tree(model, feature_names=X_train.columns)\n",
    "\n",
    "# # Save decision tree\n",
    "# plt.savefig('../graph/DecisionTreeClassifier.png')\n",
    "\n",
    "# # Show model\n",
    "# plt.show()"
   ]
  },
  {
   "cell_type": "markdown",
   "id": "4407abe4-591d-4ec1-bb8c-c3455050f979",
   "metadata": {},
   "source": [
    "---\n",
    "### Get scores for the training dataset\n",
    "---"
   ]
  },
  {
   "cell_type": "markdown",
   "id": "7aaf7d7c-cfb8-4c37-8fcf-a2ef59162b69",
   "metadata": {},
   "source": [
    "**Make prediction on training dataset**"
   ]
  },
  {
   "cell_type": "code",
   "execution_count": 16,
   "id": "fe0f1eb8-e08d-4718-9be0-3dfd07122a9d",
   "metadata": {
    "execution": {
     "iopub.execute_input": "2025-03-04T22:40:21.031306Z",
     "iopub.status.busy": "2025-03-04T22:40:21.030833Z",
     "iopub.status.idle": "2025-03-04T22:40:22.182964Z",
     "shell.execute_reply": "2025-03-04T22:40:22.181422Z",
     "shell.execute_reply.started": "2025-03-04T22:40:21.031276Z"
    }
   },
   "outputs": [],
   "source": [
    "y_pred_train = grid.predict(X_train_scaled)"
   ]
  },
  {
   "cell_type": "markdown",
   "id": "97d5e873-8e6c-4e88-9119-60242c766153",
   "metadata": {
    "execution": {
     "iopub.execute_input": "2025-03-04T19:02:41.608228Z",
     "iopub.status.busy": "2025-03-04T19:02:41.607698Z",
     "iopub.status.idle": "2025-03-04T19:02:41.621852Z",
     "shell.execute_reply": "2025-03-04T19:02:41.618932Z",
     "shell.execute_reply.started": "2025-03-04T19:02:41.608182Z"
    }
   },
   "source": [
    "**Create Confusion Matrix**"
   ]
  },
  {
   "cell_type": "code",
   "execution_count": 17,
   "id": "f507a882-d169-460f-b3ad-054f3341d4e6",
   "metadata": {
    "execution": {
     "iopub.execute_input": "2025-03-04T22:40:22.184484Z",
     "iopub.status.busy": "2025-03-04T22:40:22.184103Z",
     "iopub.status.idle": "2025-03-04T22:40:22.196624Z",
     "shell.execute_reply": "2025-03-04T22:40:22.195214Z",
     "shell.execute_reply.started": "2025-03-04T22:40:22.184459Z"
    }
   },
   "outputs": [
    {
     "data": {
      "text/plain": [
       "array([[2931,  670],\n",
       "       [ 355,  974]])"
      ]
     },
     "execution_count": 17,
     "metadata": {},
     "output_type": "execute_result"
    }
   ],
   "source": [
    "cm = confusion_matrix(y_train, y_pred_train)\n",
    "cm"
   ]
  },
  {
   "cell_type": "markdown",
   "id": "5da059ab-3dec-401e-80e0-2f2ad7906ea8",
   "metadata": {},
   "source": [
    "**Plot confusion matrix**"
   ]
  },
  {
   "cell_type": "code",
   "execution_count": 18,
   "id": "13782c43-f915-4caa-bbdf-719f0fccece2",
   "metadata": {
    "execution": {
     "iopub.execute_input": "2025-03-04T22:40:22.198176Z",
     "iopub.status.busy": "2025-03-04T22:40:22.197804Z",
     "iopub.status.idle": "2025-03-04T22:40:22.401634Z",
     "shell.execute_reply": "2025-03-04T22:40:22.400312Z",
     "shell.execute_reply.started": "2025-03-04T22:40:22.198151Z"
    }
   },
   "outputs": [
    {
     "data": {
      "text/plain": [
       "<Figure size 400x400 with 0 Axes>"
      ]
     },
     "metadata": {},
     "output_type": "display_data"
    },
    {
     "data": {
      "image/png": "[encoded data removed]",
      "text/plain": [
       "<Figure size 640x480 with 2 Axes>"
      ]
     },
     "metadata": {},
     "output_type": "display_data"
    }
   ],
   "source": [
    "# Create figure and adjsut its size\n",
    "plt.figure(figsize=(4,4))\n",
    "\n",
    "# Create plot for Confusion Matrix\n",
    "disp = ConfusionMatrixDisplay(confusion_matrix=cm,\n",
    "                              display_labels=grid.classes_)\n",
    "\n",
    "disp.plot()\n",
    "\n",
    "# Show plot\n",
    "plt.show()"
   ]
  },
  {
   "cell_type": "markdown",
   "id": "774c3b14-8cb9-443d-9348-a7b5aef2bd5b",
   "metadata": {},
   "source": [
    "**Print classification Report**"
   ]
  },
  {
   "cell_type": "code",
   "execution_count": 19,
   "id": "b946ebc7-6b69-40bf-bdaa-f53800072b0e",
   "metadata": {
    "execution": {
     "iopub.execute_input": "2025-03-04T22:40:22.403480Z",
     "iopub.status.busy": "2025-03-04T22:40:22.402994Z",
     "iopub.status.idle": "2025-03-04T22:40:22.425450Z",
     "shell.execute_reply": "2025-03-04T22:40:22.424337Z",
     "shell.execute_reply.started": "2025-03-04T22:40:22.403451Z"
    }
   },
   "outputs": [
    {
     "name": "stdout",
     "output_type": "stream",
     "text": [
      "              precision    recall  f1-score   support\n",
      "\n",
      "           0       0.89      0.81      0.85      3601\n",
      "           1       0.59      0.73      0.66      1329\n",
      "\n",
      "    accuracy                           0.79      4930\n",
      "   macro avg       0.74      0.77      0.75      4930\n",
      "weighted avg       0.81      0.79      0.80      4930\n",
      "\n"
     ]
    }
   ],
   "source": [
    "print(classification_report(y_train,y_pred_train))"
   ]
  },
  {
   "cell_type": "markdown",
   "id": "cf7c90a0-415d-40b1-aab1-ce335b1521c4",
   "metadata": {
    "execution": {
     "iopub.execute_input": "2025-03-01T22:00:33.436550Z",
     "iopub.status.busy": "2025-03-01T22:00:33.435980Z",
     "iopub.status.idle": "2025-03-01T22:00:33.448115Z",
     "shell.execute_reply": "2025-03-01T22:00:33.446039Z",
     "shell.execute_reply.started": "2025-03-01T22:00:33.436497Z"
    }
   },
   "source": [
    "---\n",
    "\n",
    "<center>\n",
    "    \n",
    "## Validation\n",
    "\n",
    "</center>\n",
    "\n",
    "---"
   ]
  },
  {
   "cell_type": "markdown",
   "id": "04fab0a0-1a9c-447d-ae8c-52f361ee5313",
   "metadata": {},
   "source": [
    "**Run model on testing dataset**"
   ]
  },
  {
   "cell_type": "code",
   "execution_count": 20,
   "id": "cb7c0976-dd85-4de2-bb86-71c0bf758597",
   "metadata": {
    "execution": {
     "iopub.execute_input": "2025-03-04T22:40:22.427313Z",
     "iopub.status.busy": "2025-03-04T22:40:22.426799Z",
     "iopub.status.idle": "2025-03-04T22:40:22.682368Z",
     "shell.execute_reply": "2025-03-04T22:40:22.680437Z",
     "shell.execute_reply.started": "2025-03-04T22:40:22.427267Z"
    }
   },
   "outputs": [],
   "source": [
    "y_pred_test = grid.predict(X_test_scaled)"
   ]
  },
  {
   "cell_type": "markdown",
   "id": "244b46a3-eb49-49a9-bfa4-30efc9bf089e",
   "metadata": {
    "execution": {
     "iopub.execute_input": "2025-03-04T19:02:41.608228Z",
     "iopub.status.busy": "2025-03-04T19:02:41.607698Z",
     "iopub.status.idle": "2025-03-04T19:02:41.621852Z",
     "shell.execute_reply": "2025-03-04T19:02:41.618932Z",
     "shell.execute_reply.started": "2025-03-04T19:02:41.608182Z"
    }
   },
   "source": [
    "**Create Confusion Matrix**"
   ]
  },
  {
   "cell_type": "code",
   "execution_count": 21,
   "id": "810f4aef-b4f6-4a12-88df-2641372aa3b7",
   "metadata": {
    "execution": {
     "iopub.execute_input": "2025-03-04T22:40:22.689628Z",
     "iopub.status.busy": "2025-03-04T22:40:22.688415Z",
     "iopub.status.idle": "2025-03-04T22:40:22.699781Z",
     "shell.execute_reply": "2025-03-04T22:40:22.698601Z",
     "shell.execute_reply.started": "2025-03-04T22:40:22.689597Z"
    }
   },
   "outputs": [
    {
     "data": {
      "text/plain": [
       "array([[623, 160],\n",
       "       [ 81, 193]])"
      ]
     },
     "execution_count": 21,
     "metadata": {},
     "output_type": "execute_result"
    }
   ],
   "source": [
    "cm = confusion_matrix(y_test, y_pred_test)\n",
    "cm"
   ]
  },
  {
   "cell_type": "markdown",
   "id": "75e15996-884a-4614-ad90-69a6803997f1",
   "metadata": {},
   "source": [
    "**Plot confusion matrix**"
   ]
  },
  {
   "cell_type": "code",
   "execution_count": 22,
   "id": "e17cf424-20ce-48d9-bad1-de0053e97066",
   "metadata": {
    "execution": {
     "iopub.execute_input": "2025-03-04T22:40:22.701501Z",
     "iopub.status.busy": "2025-03-04T22:40:22.701090Z",
     "iopub.status.idle": "2025-03-04T22:40:22.893710Z",
     "shell.execute_reply": "2025-03-04T22:40:22.892391Z",
     "shell.execute_reply.started": "2025-03-04T22:40:22.701465Z"
    }
   },
   "outputs": [
    {
     "data": {
      "text/plain": [
       "<Figure size 400x400 with 0 Axes>"
      ]
     },
     "metadata": {},
     "output_type": "display_data"
    },
    {
     "data": {
      "image/png": "[encoded data removed]",
      "text/plain": [
       "<Figure size 640x480 with 2 Axes>"
      ]
     },
     "metadata": {},
     "output_type": "display_data"
    }
   ],
   "source": [
    "# Create figure and adjsut its size\n",
    "plt.figure(figsize=(4,4))\n",
    "\n",
    "# Create plot for Confusion Matrix\n",
    "disp = ConfusionMatrixDisplay(confusion_matrix=cm,\n",
    "                              display_labels=grid.classes_)\n",
    "\n",
    "disp.plot()\n",
    "\n",
    "# Show plot\n",
    "plt.show()"
   ]
  },
  {
   "cell_type": "markdown",
   "id": "66d05637-e025-43fd-b00f-a5316db59073",
   "metadata": {},
   "source": [
    "**Print classification Report**"
   ]
  },
  {
   "cell_type": "code",
   "execution_count": 23,
   "id": "0d7adf50-73dc-4e7a-a0f7-a67157c04048",
   "metadata": {
    "execution": {
     "iopub.execute_input": "2025-03-04T22:40:22.895795Z",
     "iopub.status.busy": "2025-03-04T22:40:22.895261Z",
     "iopub.status.idle": "2025-03-04T22:40:22.917808Z",
     "shell.execute_reply": "2025-03-04T22:40:22.916488Z",
     "shell.execute_reply.started": "2025-03-04T22:40:22.895749Z"
    }
   },
   "outputs": [
    {
     "name": "stdout",
     "output_type": "stream",
     "text": [
      "              precision    recall  f1-score   support\n",
      "\n",
      "           0       0.88      0.80      0.84       783\n",
      "           1       0.55      0.70      0.62       274\n",
      "\n",
      "    accuracy                           0.77      1057\n",
      "   macro avg       0.72      0.75      0.73      1057\n",
      "weighted avg       0.80      0.77      0.78      1057\n",
      "\n"
     ]
    }
   ],
   "source": [
    "print(classification_report(y_test,y_pred_test))"
   ]
  },
  {
   "cell_type": "code",
   "execution_count": 24,
   "id": "7bd05ba0-3c3e-49fc-963b-02d4ac9e7002",
   "metadata": {
    "execution": {
     "iopub.execute_input": "2025-03-04T22:40:22.919884Z",
     "iopub.status.busy": "2025-03-04T22:40:22.919160Z",
     "iopub.status.idle": "2025-03-04T22:40:22.930643Z",
     "shell.execute_reply": "2025-03-04T22:40:22.929429Z",
     "shell.execute_reply.started": "2025-03-04T22:40:22.919843Z"
    }
   },
   "outputs": [
    {
     "data": {
      "text/plain": [
       "np.float64(0.7500186443680026)"
      ]
     },
     "execution_count": 24,
     "metadata": {},
     "output_type": "execute_result"
    }
   ],
   "source": [
    "balanced_accuracy_score(y_test,y_pred_test)"
   ]
  },
  {
   "cell_type": "code",
   "execution_count": 25,
   "id": "7a5b037d-4f5c-453c-8d27-e4edd05050fe",
   "metadata": {
    "execution": {
     "iopub.execute_input": "2025-03-04T22:40:22.932445Z",
     "iopub.status.busy": "2025-03-04T22:40:22.932047Z",
     "iopub.status.idle": "2025-03-04T22:40:22.950485Z",
     "shell.execute_reply": "2025-03-04T22:40:22.949414Z",
     "shell.execute_reply.started": "2025-03-04T22:40:22.932418Z"
    }
   },
   "outputs": [
    {
     "data": {
      "text/plain": [
       "(array([0.25922422, 0.54674221, 1.        ]),\n",
       " array([1.        , 0.70437956, 0.        ]),\n",
       " array([0, 1]))"
      ]
     },
     "execution_count": 25,
     "metadata": {},
     "output_type": "execute_result"
    }
   ],
   "source": [
    "precision_recall_curve(y_test,y_pred_test)"
   ]
  },
  {
   "cell_type": "markdown",
   "id": "12e1a849-faf8-4e0d-a728-b6b7328474b2",
   "metadata": {
    "execution": {
     "iopub.execute_input": "2025-03-01T22:00:33.436550Z",
     "iopub.status.busy": "2025-03-01T22:00:33.435980Z",
     "iopub.status.idle": "2025-03-01T22:00:33.448115Z",
     "shell.execute_reply": "2025-03-01T22:00:33.446039Z",
     "shell.execute_reply.started": "2025-03-01T22:00:33.436497Z"
    }
   },
   "source": [
    "---\n",
    "\n",
    "<center>\n",
    "    \n",
    "## Results\n",
    "\n",
    "</center>\n",
    "\n",
    "---"
   ]
  },
  {
   "cell_type": "markdown",
   "id": "95d71ff1-66dc-486b-9579-46948009cd79",
   "metadata": {},
   "source": [
    "### Results\n",
    "\n",
    "### Results\n",
    "\n",
    "all = 'Senior Citizen', 'Partner', 'Dependents', 'Tenure Months', \n",
    "            'Internet Service', \n",
    "            'Online Security', 'Online Backup', 'Device Protection',\n",
    "            'Tech Support', 'Contract', 'Paperless Billing', 'Payment Method',\n",
    "            'Monthly Charges', 'Churn Value',\n",
    "\n",
    "Training dataset (all+ lat/lon)\n",
    "| Metric       | Precision | Recall | F1-Score | Support |\n",
    "|-------------|-----------|-------|----------|--------|\n",
    "| Class 0     | 0.89     | 0.82  | 0.86    | 4132   |\n",
    "| Class 1     | 0.60     | 0.72  | 0.66    | 1502   |\n",
    "| Accuracy    |          |       | 0.80    | 5634   |\n",
    "| Macro Avg   | 0.74     | 0.77  | 0.76    | 5634   |\n",
    "| Weighted Avg| 0.81     | 0.80  | 0.80    | 5634   |\n",
    "\n",
    "test(all + lat/lon)\n",
    "| Metric       | Precision | Recall | F1-Score | Support |\n",
    "|-------------|-----------|-------|----------|--------|\n",
    "| Class 0     | 0.88     | 0.79  | 0.84    | 504    |\n",
    "| Class 1     | 0.59     | 0.74  | 0.65    | 201    |\n",
    "| Accuracy    |          |       | 0.78    | 705    |\n",
    "| Macro Avg   | 0.74     | 0.77  | 0.75    | 705    |\n",
    "| Weighted Avg| 0.80     | 0.78  | 0.78    | 705    |"
   ]
  }
 ],
 "metadata": {
  "kernelspec": {
   "display_name": "graph",
   "language": "python",
   "name": "graph"
  },
  "language_info": {
   "codemirror_mode": {
    "name": "ipython",
    "version": 3
   },
   "file_extension": ".py",
   "mimetype": "text/x-python",
   "name": "python",
   "nbconvert_exporter": "python",
   "pygments_lexer": "ipython3",
   "version": "3.12.7"
  }
 },
 "nbformat": 4,
 "nbformat_minor": 5
}
