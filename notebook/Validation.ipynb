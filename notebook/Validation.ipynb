{
 "cells": [
  {
   "cell_type": "markdown",
   "id": "9a1cd1be-4b12-4a04-809d-8f3eb58d27b7",
   "metadata": {},
   "source": [
    "---\n",
    "# Validation of best model\n",
    "---\n",
    "In this notebook, we will be validating the best model on the validation dataset.\n",
    "\n",
    "\n",
    "## Results\n",
    "\n",
    "---"
   ]
  },
  {
   "cell_type": "markdown",
   "id": "85bfd8d4-56b0-4fa9-9bfe-b36d624deec6",
   "metadata": {},
   "source": [
    "### Importing necessary library"
   ]
  },
  {
   "cell_type": "code",
   "execution_count": 31,
   "id": "7c3f8638-c49d-4060-9537-12ba752dd0ed",
   "metadata": {
    "execution": {
     "iopub.execute_input": "2025-03-05T17:17:56.671475Z",
     "iopub.status.busy": "2025-03-05T17:17:56.670872Z",
     "iopub.status.idle": "2025-03-05T17:17:56.681835Z",
     "shell.execute_reply": "2025-03-05T17:17:56.680361Z",
     "shell.execute_reply.started": "2025-03-05T17:17:56.671421Z"
    }
   },
   "outputs": [],
   "source": [
    "import pandas as pd\n",
    "import numpy as np\n",
    "\n",
    "import seaborn as sns\n",
    "import matplotlib.pyplot as plt\n",
    "\n",
    "from sklearn.preprocessing import StandardScaler\n",
    "\n",
    "from sklearn.pipeline import Pipeline\n",
    "from sklearn.metrics import classification_report, confusion_matrix, accuracy_score, ConfusionMatrixDisplay\n",
    "\n",
    "from sklearn.model_selection import train_test_split\n",
    "\n",
    "import joblib"
   ]
  },
  {
   "cell_type": "markdown",
   "id": "64275bae-907d-4071-8b91-08f84eadfc8b",
   "metadata": {},
   "source": [
    "### Read data file"
   ]
  },
  {
   "cell_type": "code",
   "execution_count": 7,
   "id": "bb3fcc01-1ce6-481f-a61d-688459c5236e",
   "metadata": {
    "execution": {
     "iopub.execute_input": "2025-03-05T16:54:55.626744Z",
     "iopub.status.busy": "2025-03-05T16:54:55.626196Z",
     "iopub.status.idle": "2025-03-05T16:54:57.500936Z",
     "shell.execute_reply": "2025-03-05T16:54:57.499699Z",
     "shell.execute_reply.started": "2025-03-05T16:54:55.626697Z"
    }
   },
   "outputs": [
    {
     "data": {
      "text/html": [
       "<div>\n",
       "<style scoped>\n",
       "    .dataframe tbody tr th:only-of-type {\n",
       "        vertical-align: middle;\n",
       "    }\n",
       "\n",
       "    .dataframe tbody tr th {\n",
       "        vertical-align: top;\n",
       "    }\n",
       "\n",
       "    .dataframe thead th {\n",
       "        text-align: right;\n",
       "    }\n",
       "</style>\n",
       "<table border=\"1\" class=\"dataframe\">\n",
       "  <thead>\n",
       "    <tr style=\"text-align: right;\">\n",
       "      <th></th>\n",
       "      <th>Latitude</th>\n",
       "      <th>Longitude</th>\n",
       "      <th>Tenure Months</th>\n",
       "      <th>Monthly Charges</th>\n",
       "      <th>Churn Value</th>\n",
       "      <th>Senior Citizen_Yes</th>\n",
       "      <th>Partner_Yes</th>\n",
       "      <th>Dependents_Yes</th>\n",
       "      <th>Internet Service_Fiber optic</th>\n",
       "      <th>Internet Service_No</th>\n",
       "      <th>...</th>\n",
       "      <th>Contract_Two year</th>\n",
       "      <th>Paperless Billing_Yes</th>\n",
       "      <th>Payment Method_Credit card (automatic)</th>\n",
       "      <th>Payment Method_Electronic check</th>\n",
       "      <th>Payment Method_Mailed check</th>\n",
       "      <th>Gender_Male</th>\n",
       "      <th>Phone Service_Yes</th>\n",
       "      <th>Multiple Lines_Yes</th>\n",
       "      <th>Streaming TV_Yes</th>\n",
       "      <th>Streaming Movies_Yes</th>\n",
       "    </tr>\n",
       "  </thead>\n",
       "  <tbody>\n",
       "    <tr>\n",
       "      <th>0</th>\n",
       "      <td>33.964131</td>\n",
       "      <td>118.272783</td>\n",
       "      <td>2</td>\n",
       "      <td>53.85</td>\n",
       "      <td>1</td>\n",
       "      <td>0</td>\n",
       "      <td>0</td>\n",
       "      <td>0</td>\n",
       "      <td>0</td>\n",
       "      <td>0</td>\n",
       "      <td>...</td>\n",
       "      <td>0</td>\n",
       "      <td>1</td>\n",
       "      <td>0</td>\n",
       "      <td>0</td>\n",
       "      <td>1</td>\n",
       "      <td>1</td>\n",
       "      <td>1</td>\n",
       "      <td>0</td>\n",
       "      <td>0</td>\n",
       "      <td>0</td>\n",
       "    </tr>\n",
       "    <tr>\n",
       "      <th>1</th>\n",
       "      <td>34.059281</td>\n",
       "      <td>118.307420</td>\n",
       "      <td>2</td>\n",
       "      <td>70.70</td>\n",
       "      <td>1</td>\n",
       "      <td>0</td>\n",
       "      <td>0</td>\n",
       "      <td>1</td>\n",
       "      <td>1</td>\n",
       "      <td>0</td>\n",
       "      <td>...</td>\n",
       "      <td>0</td>\n",
       "      <td>1</td>\n",
       "      <td>0</td>\n",
       "      <td>1</td>\n",
       "      <td>0</td>\n",
       "      <td>0</td>\n",
       "      <td>1</td>\n",
       "      <td>0</td>\n",
       "      <td>0</td>\n",
       "      <td>0</td>\n",
       "    </tr>\n",
       "    <tr>\n",
       "      <th>2</th>\n",
       "      <td>34.048013</td>\n",
       "      <td>118.293953</td>\n",
       "      <td>8</td>\n",
       "      <td>99.65</td>\n",
       "      <td>1</td>\n",
       "      <td>0</td>\n",
       "      <td>0</td>\n",
       "      <td>1</td>\n",
       "      <td>1</td>\n",
       "      <td>0</td>\n",
       "      <td>...</td>\n",
       "      <td>0</td>\n",
       "      <td>1</td>\n",
       "      <td>0</td>\n",
       "      <td>1</td>\n",
       "      <td>0</td>\n",
       "      <td>0</td>\n",
       "      <td>1</td>\n",
       "      <td>1</td>\n",
       "      <td>1</td>\n",
       "      <td>1</td>\n",
       "    </tr>\n",
       "    <tr>\n",
       "      <th>3</th>\n",
       "      <td>34.062125</td>\n",
       "      <td>118.315709</td>\n",
       "      <td>28</td>\n",
       "      <td>104.80</td>\n",
       "      <td>1</td>\n",
       "      <td>0</td>\n",
       "      <td>1</td>\n",
       "      <td>1</td>\n",
       "      <td>1</td>\n",
       "      <td>0</td>\n",
       "      <td>...</td>\n",
       "      <td>0</td>\n",
       "      <td>1</td>\n",
       "      <td>0</td>\n",
       "      <td>1</td>\n",
       "      <td>0</td>\n",
       "      <td>0</td>\n",
       "      <td>1</td>\n",
       "      <td>1</td>\n",
       "      <td>1</td>\n",
       "      <td>1</td>\n",
       "    </tr>\n",
       "    <tr>\n",
       "      <th>4</th>\n",
       "      <td>34.039224</td>\n",
       "      <td>118.266293</td>\n",
       "      <td>49</td>\n",
       "      <td>103.70</td>\n",
       "      <td>1</td>\n",
       "      <td>0</td>\n",
       "      <td>0</td>\n",
       "      <td>1</td>\n",
       "      <td>1</td>\n",
       "      <td>0</td>\n",
       "      <td>...</td>\n",
       "      <td>0</td>\n",
       "      <td>1</td>\n",
       "      <td>0</td>\n",
       "      <td>0</td>\n",
       "      <td>0</td>\n",
       "      <td>1</td>\n",
       "      <td>1</td>\n",
       "      <td>1</td>\n",
       "      <td>1</td>\n",
       "      <td>1</td>\n",
       "    </tr>\n",
       "    <tr>\n",
       "      <th>...</th>\n",
       "      <td>...</td>\n",
       "      <td>...</td>\n",
       "      <td>...</td>\n",
       "      <td>...</td>\n",
       "      <td>...</td>\n",
       "      <td>...</td>\n",
       "      <td>...</td>\n",
       "      <td>...</td>\n",
       "      <td>...</td>\n",
       "      <td>...</td>\n",
       "      <td>...</td>\n",
       "      <td>...</td>\n",
       "      <td>...</td>\n",
       "      <td>...</td>\n",
       "      <td>...</td>\n",
       "      <td>...</td>\n",
       "      <td>...</td>\n",
       "      <td>...</td>\n",
       "      <td>...</td>\n",
       "      <td>...</td>\n",
       "      <td>...</td>\n",
       "    </tr>\n",
       "    <tr>\n",
       "      <th>7038</th>\n",
       "      <td>34.341737</td>\n",
       "      <td>116.539416</td>\n",
       "      <td>72</td>\n",
       "      <td>21.15</td>\n",
       "      <td>0</td>\n",
       "      <td>0</td>\n",
       "      <td>0</td>\n",
       "      <td>0</td>\n",
       "      <td>0</td>\n",
       "      <td>1</td>\n",
       "      <td>...</td>\n",
       "      <td>1</td>\n",
       "      <td>1</td>\n",
       "      <td>0</td>\n",
       "      <td>0</td>\n",
       "      <td>0</td>\n",
       "      <td>0</td>\n",
       "      <td>1</td>\n",
       "      <td>0</td>\n",
       "      <td>0</td>\n",
       "      <td>0</td>\n",
       "    </tr>\n",
       "    <tr>\n",
       "      <th>7039</th>\n",
       "      <td>34.667815</td>\n",
       "      <td>117.536183</td>\n",
       "      <td>24</td>\n",
       "      <td>84.80</td>\n",
       "      <td>0</td>\n",
       "      <td>0</td>\n",
       "      <td>1</td>\n",
       "      <td>1</td>\n",
       "      <td>0</td>\n",
       "      <td>0</td>\n",
       "      <td>...</td>\n",
       "      <td>0</td>\n",
       "      <td>1</td>\n",
       "      <td>0</td>\n",
       "      <td>0</td>\n",
       "      <td>1</td>\n",
       "      <td>1</td>\n",
       "      <td>1</td>\n",
       "      <td>1</td>\n",
       "      <td>1</td>\n",
       "      <td>1</td>\n",
       "    </tr>\n",
       "    <tr>\n",
       "      <th>7040</th>\n",
       "      <td>34.559882</td>\n",
       "      <td>115.637164</td>\n",
       "      <td>72</td>\n",
       "      <td>103.20</td>\n",
       "      <td>0</td>\n",
       "      <td>0</td>\n",
       "      <td>1</td>\n",
       "      <td>1</td>\n",
       "      <td>1</td>\n",
       "      <td>0</td>\n",
       "      <td>...</td>\n",
       "      <td>0</td>\n",
       "      <td>1</td>\n",
       "      <td>1</td>\n",
       "      <td>0</td>\n",
       "      <td>0</td>\n",
       "      <td>0</td>\n",
       "      <td>1</td>\n",
       "      <td>1</td>\n",
       "      <td>1</td>\n",
       "      <td>1</td>\n",
       "    </tr>\n",
       "    <tr>\n",
       "      <th>7041</th>\n",
       "      <td>34.167800</td>\n",
       "      <td>116.864330</td>\n",
       "      <td>11</td>\n",
       "      <td>29.60</td>\n",
       "      <td>0</td>\n",
       "      <td>0</td>\n",
       "      <td>1</td>\n",
       "      <td>1</td>\n",
       "      <td>0</td>\n",
       "      <td>0</td>\n",
       "      <td>...</td>\n",
       "      <td>0</td>\n",
       "      <td>1</td>\n",
       "      <td>0</td>\n",
       "      <td>1</td>\n",
       "      <td>0</td>\n",
       "      <td>0</td>\n",
       "      <td>0</td>\n",
       "      <td>0</td>\n",
       "      <td>0</td>\n",
       "      <td>0</td>\n",
       "    </tr>\n",
       "    <tr>\n",
       "      <th>7042</th>\n",
       "      <td>34.424926</td>\n",
       "      <td>117.184503</td>\n",
       "      <td>66</td>\n",
       "      <td>105.65</td>\n",
       "      <td>0</td>\n",
       "      <td>0</td>\n",
       "      <td>0</td>\n",
       "      <td>0</td>\n",
       "      <td>1</td>\n",
       "      <td>0</td>\n",
       "      <td>...</td>\n",
       "      <td>1</td>\n",
       "      <td>1</td>\n",
       "      <td>0</td>\n",
       "      <td>0</td>\n",
       "      <td>0</td>\n",
       "      <td>1</td>\n",
       "      <td>1</td>\n",
       "      <td>0</td>\n",
       "      <td>1</td>\n",
       "      <td>1</td>\n",
       "    </tr>\n",
       "  </tbody>\n",
       "</table>\n",
       "<p>7043 rows × 25 columns</p>\n",
       "</div>"
      ],
      "text/plain": [
       "       Latitude   Longitude  Tenure Months  Monthly Charges  Churn Value  \\\n",
       "0     33.964131  118.272783              2            53.85            1   \n",
       "1     34.059281  118.307420              2            70.70            1   \n",
       "2     34.048013  118.293953              8            99.65            1   \n",
       "3     34.062125  118.315709             28           104.80            1   \n",
       "4     34.039224  118.266293             49           103.70            1   \n",
       "...         ...         ...            ...              ...          ...   \n",
       "7038  34.341737  116.539416             72            21.15            0   \n",
       "7039  34.667815  117.536183             24            84.80            0   \n",
       "7040  34.559882  115.637164             72           103.20            0   \n",
       "7041  34.167800  116.864330             11            29.60            0   \n",
       "7042  34.424926  117.184503             66           105.65            0   \n",
       "\n",
       "      Senior Citizen_Yes  Partner_Yes  Dependents_Yes  \\\n",
       "0                      0            0               0   \n",
       "1                      0            0               1   \n",
       "2                      0            0               1   \n",
       "3                      0            1               1   \n",
       "4                      0            0               1   \n",
       "...                  ...          ...             ...   \n",
       "7038                   0            0               0   \n",
       "7039                   0            1               1   \n",
       "7040                   0            1               1   \n",
       "7041                   0            1               1   \n",
       "7042                   0            0               0   \n",
       "\n",
       "      Internet Service_Fiber optic  Internet Service_No  ...  \\\n",
       "0                                0                    0  ...   \n",
       "1                                1                    0  ...   \n",
       "2                                1                    0  ...   \n",
       "3                                1                    0  ...   \n",
       "4                                1                    0  ...   \n",
       "...                            ...                  ...  ...   \n",
       "7038                             0                    1  ...   \n",
       "7039                             0                    0  ...   \n",
       "7040                             1                    0  ...   \n",
       "7041                             0                    0  ...   \n",
       "7042                             1                    0  ...   \n",
       "\n",
       "      Contract_Two year  Paperless Billing_Yes  \\\n",
       "0                     0                      1   \n",
       "1                     0                      1   \n",
       "2                     0                      1   \n",
       "3                     0                      1   \n",
       "4                     0                      1   \n",
       "...                 ...                    ...   \n",
       "7038                  1                      1   \n",
       "7039                  0                      1   \n",
       "7040                  0                      1   \n",
       "7041                  0                      1   \n",
       "7042                  1                      1   \n",
       "\n",
       "      Payment Method_Credit card (automatic)  Payment Method_Electronic check  \\\n",
       "0                                          0                                0   \n",
       "1                                          0                                1   \n",
       "2                                          0                                1   \n",
       "3                                          0                                1   \n",
       "4                                          0                                0   \n",
       "...                                      ...                              ...   \n",
       "7038                                       0                                0   \n",
       "7039                                       0                                0   \n",
       "7040                                       1                                0   \n",
       "7041                                       0                                1   \n",
       "7042                                       0                                0   \n",
       "\n",
       "      Payment Method_Mailed check  Gender_Male  Phone Service_Yes  \\\n",
       "0                               1            1                  1   \n",
       "1                               0            0                  1   \n",
       "2                               0            0                  1   \n",
       "3                               0            0                  1   \n",
       "4                               0            1                  1   \n",
       "...                           ...          ...                ...   \n",
       "7038                            0            0                  1   \n",
       "7039                            1            1                  1   \n",
       "7040                            0            0                  1   \n",
       "7041                            0            0                  0   \n",
       "7042                            0            1                  1   \n",
       "\n",
       "      Multiple Lines_Yes  Streaming TV_Yes  Streaming Movies_Yes  \n",
       "0                      0                 0                     0  \n",
       "1                      0                 0                     0  \n",
       "2                      1                 1                     1  \n",
       "3                      1                 1                     1  \n",
       "4                      1                 1                     1  \n",
       "...                  ...               ...                   ...  \n",
       "7038                   0                 0                     0  \n",
       "7039                   1                 1                     1  \n",
       "7040                   1                 1                     1  \n",
       "7041                   0                 0                     0  \n",
       "7042                   0                 1                     1  \n",
       "\n",
       "[7043 rows x 25 columns]"
      ]
     },
     "execution_count": 7,
     "metadata": {},
     "output_type": "execute_result"
    }
   ],
   "source": [
    "churn_df = pd.read_excel('../data/churn_cleaned_featEng.xlsx')\n",
    "churn_df"
   ]
  },
  {
   "cell_type": "markdown",
   "id": "62362f63-6291-445a-b39a-6cb18faae165",
   "metadata": {
    "execution": {
     "iopub.execute_input": "2025-03-01T22:00:33.436550Z",
     "iopub.status.busy": "2025-03-01T22:00:33.435980Z",
     "iopub.status.idle": "2025-03-01T22:00:33.448115Z",
     "shell.execute_reply": "2025-03-01T22:00:33.446039Z",
     "shell.execute_reply.started": "2025-03-01T22:00:33.436497Z"
    }
   },
   "source": [
    "---\n",
    "\n",
    "<center>\n",
    "    \n",
    "## Preparing data\n",
    "\n",
    "</center>\n",
    "\n",
    "---"
   ]
  },
  {
   "cell_type": "markdown",
   "id": "d313bcb0-3016-4f0c-a2eb-ae278fdb6f3e",
   "metadata": {},
   "source": [
    "### Separate X and y features"
   ]
  },
  {
   "cell_type": "code",
   "execution_count": 8,
   "id": "5a90893e-8417-4a4a-afa8-9df80f6bbc6e",
   "metadata": {
    "execution": {
     "iopub.execute_input": "2025-03-05T16:55:00.703833Z",
     "iopub.status.busy": "2025-03-05T16:55:00.702906Z",
     "iopub.status.idle": "2025-03-05T16:55:00.717964Z",
     "shell.execute_reply": "2025-03-05T16:55:00.716353Z",
     "shell.execute_reply.started": "2025-03-05T16:55:00.703780Z"
    },
    "tags": []
   },
   "outputs": [],
   "source": [
    "# Seperate X and y features\n",
    "X = churn_df.drop(columns=['Churn Value'])\n",
    "y = churn_df['Churn Value']"
   ]
  },
  {
   "cell_type": "markdown",
   "id": "551d2047-68b5-4749-be39-2d87442e3d0b",
   "metadata": {},
   "source": [
    "### Split dataset (training/testing/validation)"
   ]
  },
  {
   "cell_type": "code",
   "execution_count": 11,
   "id": "221ea159-33f2-4e94-a81f-49038ab1b3ba",
   "metadata": {
    "execution": {
     "iopub.execute_input": "2025-03-05T16:55:26.596764Z",
     "iopub.status.busy": "2025-03-05T16:55:26.594967Z",
     "iopub.status.idle": "2025-03-05T16:55:26.617204Z",
     "shell.execute_reply": "2025-03-05T16:55:26.616289Z",
     "shell.execute_reply.started": "2025-03-05T16:55:26.596711Z"
    },
    "tags": []
   },
   "outputs": [],
   "source": [
    "# Separating the dataset into a training dataset (80%) and testing+validation (20%) dataset\n",
    "X_train, X_test_validation, y_train, y_test_validation = train_test_split(X, y, train_size=0.8, random_state=5)\n",
    "\n",
    "# Separating the testing+valisation dataset into a testing dataset (10%) and a validation dataset (10%) \n",
    "X_val, X_test, y_val, y_test = train_test_split(X_test_validation, y_test_validation, test_size=0.5, random_state=5)\n"
   ]
  },
  {
   "cell_type": "markdown",
   "id": "10b6013c-e54e-4743-b77a-aa30d7dd9784",
   "metadata": {
    "execution": {
     "iopub.execute_input": "2025-03-01T21:46:04.307307Z",
     "iopub.status.busy": "2025-03-01T21:46:04.306075Z",
     "iopub.status.idle": "2025-03-01T21:46:04.323562Z",
     "shell.execute_reply": "2025-03-01T21:46:04.317516Z",
     "shell.execute_reply.started": "2025-03-01T21:46:04.307221Z"
    }
   },
   "source": [
    "### Converting data subset to dataframe "
   ]
  },
  {
   "cell_type": "code",
   "execution_count": 14,
   "id": "af69efcf-a35c-44ad-8ea8-4f304dc46cb3",
   "metadata": {
    "execution": {
     "iopub.execute_input": "2025-03-05T16:56:33.880524Z",
     "iopub.status.busy": "2025-03-05T16:56:33.879370Z",
     "iopub.status.idle": "2025-03-05T16:56:33.890193Z",
     "shell.execute_reply": "2025-03-05T16:56:33.888288Z",
     "shell.execute_reply.started": "2025-03-05T16:56:33.880473Z"
    }
   },
   "outputs": [],
   "source": [
    "X_val = pd.DataFrame(X_val, columns=X.columns)"
   ]
  },
  {
   "cell_type": "markdown",
   "id": "7d61c639-48e8-4209-98e1-8b9d1e8e8704",
   "metadata": {
    "execution": {
     "iopub.execute_input": "2025-03-01T22:00:33.436550Z",
     "iopub.status.busy": "2025-03-01T22:00:33.435980Z",
     "iopub.status.idle": "2025-03-01T22:00:33.448115Z",
     "shell.execute_reply": "2025-03-01T22:00:33.446039Z",
     "shell.execute_reply.started": "2025-03-01T22:00:33.436497Z"
    }
   },
   "source": [
    "---\n",
    "\n",
    "<center>\n",
    "    \n",
    "## Using best model on validation dataset\n",
    "\n",
    "</center>\n",
    "\n",
    "---"
   ]
  },
  {
   "cell_type": "markdown",
   "id": "8050db92-2f43-403c-9ff7-901e38ba600b",
   "metadata": {},
   "source": [
    "### Loading the best model"
   ]
  },
  {
   "cell_type": "code",
   "execution_count": 21,
   "id": "701e8c0c-dac3-43cc-92a0-e99cd1b14800",
   "metadata": {
    "execution": {
     "iopub.execute_input": "2025-03-05T16:59:40.466983Z",
     "iopub.status.busy": "2025-03-05T16:59:40.464640Z",
     "iopub.status.idle": "2025-03-05T16:59:40.484065Z",
     "shell.execute_reply": "2025-03-05T16:59:40.482707Z",
     "shell.execute_reply.started": "2025-03-05T16:59:40.466901Z"
    }
   },
   "outputs": [],
   "source": [
    "# Load the model and preprocessors (if saved)\n",
    "balanced_model = joblib.load(\"../model/best_balanced_model.joblib\")\n",
    "balanced_scaler = joblib.load(\"../model/best_balanced_model_scaler.joblib\")"
   ]
  },
  {
   "cell_type": "markdown",
   "id": "a3a8258b-6688-444b-9be5-f1608fb39421",
   "metadata": {},
   "source": [
    "### Applying model's scaling to the validation dataset"
   ]
  },
  {
   "cell_type": "code",
   "execution_count": 22,
   "id": "2ebffbd6-4832-47dc-bbdf-3f16c29da0f1",
   "metadata": {
    "execution": {
     "iopub.execute_input": "2025-03-05T16:59:41.783105Z",
     "iopub.status.busy": "2025-03-05T16:59:41.781940Z",
     "iopub.status.idle": "2025-03-05T16:59:41.792794Z",
     "shell.execute_reply": "2025-03-05T16:59:41.791113Z",
     "shell.execute_reply.started": "2025-03-05T16:59:41.783056Z"
    }
   },
   "outputs": [],
   "source": [
    "X_val_scaled = balanced_scaler.transform(X_val)"
   ]
  },
  {
   "cell_type": "markdown",
   "id": "571d018c-02af-459c-a52e-d307d0c4fd0d",
   "metadata": {
    "execution": {
     "iopub.execute_input": "2025-02-25T14:28:34.215442Z",
     "iopub.status.busy": "2025-02-25T14:28:34.214924Z",
     "iopub.status.idle": "2025-02-25T14:28:34.235942Z",
     "shell.execute_reply": "2025-02-25T14:28:34.234824Z",
     "shell.execute_reply.started": "2025-02-25T14:28:34.215394Z"
    }
   },
   "source": [
    "### Using the model to make a prediction on the validation dataset"
   ]
  },
  {
   "cell_type": "code",
   "execution_count": 24,
   "id": "f41be455-8991-4617-af9c-1aec19fc9250",
   "metadata": {
    "execution": {
     "iopub.execute_input": "2025-03-05T17:14:56.421710Z",
     "iopub.status.busy": "2025-03-05T17:14:56.420402Z",
     "iopub.status.idle": "2025-03-05T17:14:56.439079Z",
     "shell.execute_reply": "2025-03-05T17:14:56.436762Z",
     "shell.execute_reply.started": "2025-03-05T17:14:56.421656Z"
    }
   },
   "outputs": [],
   "source": [
    "y_pred_bal = balanced_model.predict(X_val_scaled)"
   ]
  },
  {
   "cell_type": "markdown",
   "id": "a048aef2-033c-4552-b884-b44007a8de14",
   "metadata": {
    "execution": {
     "iopub.execute_input": "2025-03-01T22:00:33.436550Z",
     "iopub.status.busy": "2025-03-01T22:00:33.435980Z",
     "iopub.status.idle": "2025-03-01T22:00:33.448115Z",
     "shell.execute_reply": "2025-03-01T22:00:33.446039Z",
     "shell.execute_reply.started": "2025-03-01T22:00:33.436497Z"
    }
   },
   "source": [
    "---\n",
    "\n",
    "<center>\n",
    "    \n",
    "## Evaluating best model's performance\n",
    "\n",
    "</center>\n",
    "\n",
    "---"
   ]
  },
  {
   "cell_type": "markdown",
   "id": "dea17d18-4eef-4c48-985a-9ee89beef683",
   "metadata": {},
   "source": [
    "### Accuracy Scores"
   ]
  },
  {
   "cell_type": "code",
   "execution_count": 25,
   "id": "339beb67-b2f4-457d-816e-c7b17a7592d7",
   "metadata": {
    "execution": {
     "iopub.execute_input": "2025-03-05T17:15:02.877246Z",
     "iopub.status.busy": "2025-03-05T17:15:02.876696Z",
     "iopub.status.idle": "2025-03-05T17:15:02.895944Z",
     "shell.execute_reply": "2025-03-05T17:15:02.893956Z",
     "shell.execute_reply.started": "2025-03-05T17:15:02.877193Z"
    }
   },
   "outputs": [
    {
     "name": "stdout",
     "output_type": "stream",
     "text": [
      "Model accuracy score: 0.7429\n"
     ]
    }
   ],
   "source": [
    "print('Model accuracy score: {0:0.4f}'. format(accuracy_score(y_val, y_pred_bal)))\n"
   ]
  },
  {
   "cell_type": "code",
   "execution_count": 33,
   "id": "9b8ba2d8-7e23-44cd-89ac-5a01687b01cc",
   "metadata": {
    "execution": {
     "iopub.execute_input": "2025-03-05T17:18:09.022961Z",
     "iopub.status.busy": "2025-03-05T17:18:09.021507Z",
     "iopub.status.idle": "2025-03-05T17:18:09.042946Z",
     "shell.execute_reply": "2025-03-05T17:18:09.041379Z",
     "shell.execute_reply.started": "2025-03-05T17:18:09.022868Z"
    }
   },
   "outputs": [
    {
     "data": {
      "text/plain": [
       "array([[386, 152],\n",
       "       [ 29, 137]])"
      ]
     },
     "execution_count": 33,
     "metadata": {},
     "output_type": "execute_result"
    }
   ],
   "source": [
    "cm = confusion_matrix(y_val, y_pred_bal)\n",
    "cm"
   ]
  },
  {
   "cell_type": "code",
   "execution_count": 34,
   "id": "3681c8f5-5e7a-4572-a5b3-a12b51cce224",
   "metadata": {
    "execution": {
     "iopub.execute_input": "2025-03-05T17:18:13.121801Z",
     "iopub.status.busy": "2025-03-05T17:18:13.121266Z",
     "iopub.status.idle": "2025-03-05T17:18:13.166186Z",
     "shell.execute_reply": "2025-03-05T17:18:13.162854Z",
     "shell.execute_reply.started": "2025-03-05T17:18:13.121755Z"
    }
   },
   "outputs": [
    {
     "name": "stdout",
     "output_type": "stream",
     "text": [
      "              precision    recall  f1-score   support\n",
      "\n",
      "           0       0.93      0.72      0.81       538\n",
      "           1       0.47      0.83      0.60       166\n",
      "\n",
      "    accuracy                           0.74       704\n",
      "   macro avg       0.70      0.77      0.71       704\n",
      "weighted avg       0.82      0.74      0.76       704\n",
      "\n"
     ]
    }
   ],
   "source": [
    "# Classification report\n",
    "\n",
    "print(classification_report(y_val, y_pred_bal))"
   ]
  },
  {
   "cell_type": "markdown",
   "id": "2b2ca70d-633b-4794-93f5-8a8efe7486d2",
   "metadata": {
    "execution": {
     "iopub.execute_input": "2025-03-04T17:40:36.875402Z",
     "iopub.status.busy": "2025-03-04T17:40:36.874636Z",
     "iopub.status.idle": "2025-03-04T17:40:36.890077Z",
     "shell.execute_reply": "2025-03-04T17:40:36.888207Z",
     "shell.execute_reply.started": "2025-03-04T17:40:36.875344Z"
    }
   },
   "source": [
    "### Plot of Confusion Matrix"
   ]
  },
  {
   "cell_type": "code",
   "execution_count": 35,
   "id": "8b76c5f1-44f9-499e-85c8-da97d3974f5a",
   "metadata": {
    "execution": {
     "iopub.execute_input": "2025-03-05T17:18:17.161247Z",
     "iopub.status.busy": "2025-03-05T17:18:17.159280Z",
     "iopub.status.idle": "2025-03-05T17:18:17.171963Z",
     "shell.execute_reply": "2025-03-05T17:18:17.170200Z",
     "shell.execute_reply.started": "2025-03-05T17:18:17.161157Z"
    }
   },
   "outputs": [],
   "source": [
    "# Retrieve classes' name\n",
    "true = balanced_model.classes_[0]\n",
    "false = balanced_model.classes_[1]"
   ]
  },
  {
   "cell_type": "code",
   "execution_count": 41,
   "id": "772d3d2e-3885-4393-a60b-2f6da7139518",
   "metadata": {
    "execution": {
     "iopub.execute_input": "2025-03-05T17:21:39.556556Z",
     "iopub.status.busy": "2025-03-05T17:21:39.550083Z",
     "iopub.status.idle": "2025-03-05T17:21:39.811726Z",
     "shell.execute_reply": "2025-03-05T17:21:39.810487Z",
     "shell.execute_reply.started": "2025-03-05T17:21:39.556498Z"
    }
   },
   "outputs": [
    {
     "data": {
      "image/png": "[encoded data removed]",
      "text/plain": [
       "<Figure size 400x400 with 1 Axes>"
      ]
     },
     "metadata": {},
     "output_type": "display_data"
    }
   ],
   "source": [
    "# Create visualization for the confusion Matrix\n",
    "\n",
    "# Create figure and adjsut its size\n",
    "plt.figure(figsize=(4,4))\n",
    "\n",
    "# Create heatmap\n",
    "ax = sns.heatmap(cm, annot=True, fmt='g', cbar=False, cmap='Blues')\n",
    "\n",
    "# Add Title\n",
    "ax.set_title('Confusion Matrix')\n",
    "\n",
    "# Adjust ticks labels\n",
    "ax.set_xticklabels(labels=[true, false])\n",
    "ax.set_yticklabels(labels=[true, false])\n",
    "\n",
    "# Adjust axis labels\n",
    "ax.set_xlabel(xlabel='Predictions')\n",
    "ax.set_ylabel(ylabel='True Values')\n",
    "\n",
    "# Save plot\n",
    "plt.savefig('../graph/ConfusionMatrix_val_BalancedModel.png')\n",
    "\n",
    "# Show plot\n",
    "plt.show()"
   ]
  },
  {
   "cell_type": "markdown",
   "id": "bc88ecea-5cd4-4cd2-aa28-376e6d524a2f",
   "metadata": {
    "execution": {
     "iopub.execute_input": "2025-03-01T22:00:33.436550Z",
     "iopub.status.busy": "2025-03-01T22:00:33.435980Z",
     "iopub.status.idle": "2025-03-01T22:00:33.448115Z",
     "shell.execute_reply": "2025-03-01T22:00:33.446039Z",
     "shell.execute_reply.started": "2025-03-01T22:00:33.436497Z"
    }
   },
   "source": [
    "---\n",
    "\n",
    "<center>\n",
    "    \n",
    "## Converting Churn Score to Churn Value\n",
    "\n",
    "</center>\n",
    "\n",
    "---"
   ]
  },
  {
   "cell_type": "markdown",
   "id": "cf736c86-3fc9-4caf-a839-e34f1af526aa",
   "metadata": {},
   "source": [
    "### Read data file"
   ]
  },
  {
   "cell_type": "code",
   "execution_count": 43,
   "id": "7c882510-c1ce-4d4e-ad51-f7dfd8c32679",
   "metadata": {
    "execution": {
     "iopub.execute_input": "2025-03-05T17:30:16.193367Z",
     "iopub.status.busy": "2025-03-05T17:30:16.191832Z",
     "iopub.status.idle": "2025-03-05T17:30:18.754184Z",
     "shell.execute_reply": "2025-03-05T17:30:18.752744Z",
     "shell.execute_reply.started": "2025-03-05T17:30:16.193282Z"
    }
   },
   "outputs": [
    {
     "data": {
      "text/html": [
       "<div>\n",
       "<style scoped>\n",
       "    .dataframe tbody tr th:only-of-type {\n",
       "        vertical-align: middle;\n",
       "    }\n",
       "\n",
       "    .dataframe tbody tr th {\n",
       "        vertical-align: top;\n",
       "    }\n",
       "\n",
       "    .dataframe thead th {\n",
       "        text-align: right;\n",
       "    }\n",
       "</style>\n",
       "<table border=\"1\" class=\"dataframe\">\n",
       "  <thead>\n",
       "    <tr style=\"text-align: right;\">\n",
       "      <th></th>\n",
       "      <th>CustomerID</th>\n",
       "      <th>Count</th>\n",
       "      <th>Country</th>\n",
       "      <th>State</th>\n",
       "      <th>City</th>\n",
       "      <th>Zip Code</th>\n",
       "      <th>Lat Long</th>\n",
       "      <th>Latitude</th>\n",
       "      <th>Longitude</th>\n",
       "      <th>Gender</th>\n",
       "      <th>...</th>\n",
       "      <th>Contract</th>\n",
       "      <th>Paperless Billing</th>\n",
       "      <th>Payment Method</th>\n",
       "      <th>Monthly Charges</th>\n",
       "      <th>Total Charges</th>\n",
       "      <th>Churn Label</th>\n",
       "      <th>Churn Value</th>\n",
       "      <th>Churn Score</th>\n",
       "      <th>CLTV</th>\n",
       "      <th>Churn Reason</th>\n",
       "    </tr>\n",
       "  </thead>\n",
       "  <tbody>\n",
       "    <tr>\n",
       "      <th>0</th>\n",
       "      <td>3668-QPYBK</td>\n",
       "      <td>1</td>\n",
       "      <td>United States</td>\n",
       "      <td>California</td>\n",
       "      <td>Los Angeles</td>\n",
       "      <td>90003</td>\n",
       "      <td>33.964131, -118.272783</td>\n",
       "      <td>33.964131</td>\n",
       "      <td>-118.272783</td>\n",
       "      <td>Male</td>\n",
       "      <td>...</td>\n",
       "      <td>Month-to-month</td>\n",
       "      <td>Yes</td>\n",
       "      <td>Mailed check</td>\n",
       "      <td>53.850000</td>\n",
       "      <td>108.150000</td>\n",
       "      <td>Yes</td>\n",
       "      <td>1</td>\n",
       "      <td>86</td>\n",
       "      <td>3239</td>\n",
       "      <td>Competitor made better offer</td>\n",
       "    </tr>\n",
       "    <tr>\n",
       "      <th>1</th>\n",
       "      <td>9237-HQITU</td>\n",
       "      <td>1</td>\n",
       "      <td>United States</td>\n",
       "      <td>California</td>\n",
       "      <td>Los Angeles</td>\n",
       "      <td>90005</td>\n",
       "      <td>34.059281, -118.30742</td>\n",
       "      <td>34.059281</td>\n",
       "      <td>-118.307420</td>\n",
       "      <td>Female</td>\n",
       "      <td>...</td>\n",
       "      <td>Month-to-month</td>\n",
       "      <td>Yes</td>\n",
       "      <td>Electronic check</td>\n",
       "      <td>70.700000</td>\n",
       "      <td>151.650000</td>\n",
       "      <td>Yes</td>\n",
       "      <td>1</td>\n",
       "      <td>67</td>\n",
       "      <td>2701</td>\n",
       "      <td>Moved</td>\n",
       "    </tr>\n",
       "    <tr>\n",
       "      <th>2</th>\n",
       "      <td>9305-CDSKC</td>\n",
       "      <td>1</td>\n",
       "      <td>United States</td>\n",
       "      <td>California</td>\n",
       "      <td>Los Angeles</td>\n",
       "      <td>90006</td>\n",
       "      <td>34.048013, -118.293953</td>\n",
       "      <td>34.048013</td>\n",
       "      <td>-118.293953</td>\n",
       "      <td>Female</td>\n",
       "      <td>...</td>\n",
       "      <td>Month-to-month</td>\n",
       "      <td>Yes</td>\n",
       "      <td>Electronic check</td>\n",
       "      <td>99.650000</td>\n",
       "      <td>820.500000</td>\n",
       "      <td>Yes</td>\n",
       "      <td>1</td>\n",
       "      <td>86</td>\n",
       "      <td>5372</td>\n",
       "      <td>Moved</td>\n",
       "    </tr>\n",
       "    <tr>\n",
       "      <th>3</th>\n",
       "      <td>7892-POOKP</td>\n",
       "      <td>1</td>\n",
       "      <td>United States</td>\n",
       "      <td>California</td>\n",
       "      <td>Los Angeles</td>\n",
       "      <td>90010</td>\n",
       "      <td>34.062125, -118.315709</td>\n",
       "      <td>34.062125</td>\n",
       "      <td>-118.315709</td>\n",
       "      <td>Female</td>\n",
       "      <td>...</td>\n",
       "      <td>Month-to-month</td>\n",
       "      <td>Yes</td>\n",
       "      <td>Electronic check</td>\n",
       "      <td>104.800000</td>\n",
       "      <td>3046.050000</td>\n",
       "      <td>Yes</td>\n",
       "      <td>1</td>\n",
       "      <td>84</td>\n",
       "      <td>5003</td>\n",
       "      <td>Moved</td>\n",
       "    </tr>\n",
       "    <tr>\n",
       "      <th>4</th>\n",
       "      <td>0280-XJGEX</td>\n",
       "      <td>1</td>\n",
       "      <td>United States</td>\n",
       "      <td>California</td>\n",
       "      <td>Los Angeles</td>\n",
       "      <td>90015</td>\n",
       "      <td>34.039224, -118.266293</td>\n",
       "      <td>34.039224</td>\n",
       "      <td>-118.266293</td>\n",
       "      <td>Male</td>\n",
       "      <td>...</td>\n",
       "      <td>Month-to-month</td>\n",
       "      <td>Yes</td>\n",
       "      <td>Bank transfer (automatic)</td>\n",
       "      <td>103.700000</td>\n",
       "      <td>5036.300000</td>\n",
       "      <td>Yes</td>\n",
       "      <td>1</td>\n",
       "      <td>89</td>\n",
       "      <td>5340</td>\n",
       "      <td>Competitor had better devices</td>\n",
       "    </tr>\n",
       "  </tbody>\n",
       "</table>\n",
       "<p>5 rows × 33 columns</p>\n",
       "</div>"
      ],
      "text/plain": [
       "   CustomerID  Count        Country       State         City  Zip Code  \\\n",
       "0  3668-QPYBK      1  United States  California  Los Angeles     90003   \n",
       "1  9237-HQITU      1  United States  California  Los Angeles     90005   \n",
       "2  9305-CDSKC      1  United States  California  Los Angeles     90006   \n",
       "3  7892-POOKP      1  United States  California  Los Angeles     90010   \n",
       "4  0280-XJGEX      1  United States  California  Los Angeles     90015   \n",
       "\n",
       "                 Lat Long  Latitude   Longitude  Gender  ...        Contract  \\\n",
       "0  33.964131, -118.272783 33.964131 -118.272783    Male  ...  Month-to-month   \n",
       "1   34.059281, -118.30742 34.059281 -118.307420  Female  ...  Month-to-month   \n",
       "2  34.048013, -118.293953 34.048013 -118.293953  Female  ...  Month-to-month   \n",
       "3  34.062125, -118.315709 34.062125 -118.315709  Female  ...  Month-to-month   \n",
       "4  34.039224, -118.266293 34.039224 -118.266293    Male  ...  Month-to-month   \n",
       "\n",
       "  Paperless Billing             Payment Method  Monthly Charges Total Charges  \\\n",
       "0               Yes               Mailed check        53.850000    108.150000   \n",
       "1               Yes           Electronic check        70.700000    151.650000   \n",
       "2               Yes           Electronic check        99.650000    820.500000   \n",
       "3               Yes           Electronic check       104.800000   3046.050000   \n",
       "4               Yes  Bank transfer (automatic)       103.700000   5036.300000   \n",
       "\n",
       "  Churn Label Churn Value Churn Score  CLTV                   Churn Reason  \n",
       "0         Yes           1          86  3239   Competitor made better offer  \n",
       "1         Yes           1          67  2701                          Moved  \n",
       "2         Yes           1          86  5372                          Moved  \n",
       "3         Yes           1          84  5003                          Moved  \n",
       "4         Yes           1          89  5340  Competitor had better devices  \n",
       "\n",
       "[5 rows x 33 columns]"
      ]
     },
     "execution_count": 43,
     "metadata": {},
     "output_type": "execute_result"
    }
   ],
   "source": [
    "orig_df = pd.read_excel('../data/churn.xlsx')\n",
    "orig_df.head(5)"
   ]
  },
  {
   "cell_type": "markdown",
   "id": "53e173c8-cb02-450c-9c9e-a6f157b1b40c",
   "metadata": {},
   "source": [
    "### Keep Churn Score for index matching the validation dataset"
   ]
  },
  {
   "cell_type": "code",
   "execution_count": 46,
   "id": "a7683b0b-fe13-4b53-bd86-a67f8da8883d",
   "metadata": {
    "execution": {
     "iopub.execute_input": "2025-03-05T17:32:16.179740Z",
     "iopub.status.busy": "2025-03-05T17:32:16.178578Z",
     "iopub.status.idle": "2025-03-05T17:32:16.201703Z",
     "shell.execute_reply": "2025-03-05T17:32:16.200376Z",
     "shell.execute_reply.started": "2025-03-05T17:32:16.179646Z"
    }
   },
   "outputs": [
    {
     "data": {
      "text/plain": [
       "608     99\n",
       "1445    67\n",
       "6601    31\n",
       "1498    94\n",
       "69      80\n",
       "        ..\n",
       "2433    46\n",
       "4835    37\n",
       "4639    62\n",
       "2239    76\n",
       "1791    92\n",
       "Name: Churn Score, Length: 704, dtype: int64"
      ]
     },
     "execution_count": 46,
     "metadata": {},
     "output_type": "execute_result"
    }
   ],
   "source": [
    "churn_score = orig_df['Churn Score'].iloc[X_val.index]\n",
    "churn_score"
   ]
  },
  {
   "cell_type": "markdown",
   "id": "bed980d5-32b6-42df-bdda-d69e57c50554",
   "metadata": {
    "execution": {
     "iopub.execute_input": "2025-03-05T17:33:12.241937Z",
     "iopub.status.busy": "2025-03-05T17:33:12.241235Z",
     "iopub.status.idle": "2025-03-05T17:33:12.261609Z",
     "shell.execute_reply": "2025-03-05T17:33:12.251507Z",
     "shell.execute_reply.started": "2025-03-05T17:33:12.241886Z"
    }
   },
   "source": [
    "### Converting to binary forecast \n",
    "(0 for less than or equal to 50, 1 for greater than 50)"
   ]
  },
  {
   "cell_type": "code",
   "execution_count": 48,
   "id": "c1073b99-e409-4f4f-9cfa-9f6dedfe8493",
   "metadata": {
    "execution": {
     "iopub.execute_input": "2025-03-05T17:36:55.207775Z",
     "iopub.status.busy": "2025-03-05T17:36:55.204723Z",
     "iopub.status.idle": "2025-03-05T17:36:55.230911Z",
     "shell.execute_reply": "2025-03-05T17:36:55.228891Z",
     "shell.execute_reply.started": "2025-03-05T17:36:55.207663Z"
    }
   },
   "outputs": [
    {
     "data": {
      "text/plain": [
       "608     1\n",
       "1445    1\n",
       "6601    0\n",
       "1498    1\n",
       "69      1\n",
       "       ..\n",
       "2433    0\n",
       "4835    0\n",
       "4639    1\n",
       "2239    1\n",
       "1791    1\n",
       "Name: Churn Score, Length: 704, dtype: int64"
      ]
     },
     "execution_count": 48,
     "metadata": {},
     "output_type": "execute_result"
    }
   ],
   "source": [
    "threshold = 50\n",
    "\n",
    "churn_score_bin = (churn_score >= threshold).astype(int)\n",
    "\n",
    "churn_score_bin"
   ]
  },
  {
   "cell_type": "code",
   "execution_count": 49,
   "id": "b9ed4b53-f799-4f39-80c4-3c66e230ea0b",
   "metadata": {
    "execution": {
     "iopub.execute_input": "2025-03-05T17:37:30.058291Z",
     "iopub.status.busy": "2025-03-05T17:37:30.057605Z",
     "iopub.status.idle": "2025-03-05T17:37:30.079555Z",
     "shell.execute_reply": "2025-03-05T17:37:30.077936Z",
     "shell.execute_reply.started": "2025-03-05T17:37:30.058243Z"
    }
   },
   "outputs": [
    {
     "data": {
      "text/plain": [
       "array([[261, 277],\n",
       "       [  0, 166]])"
      ]
     },
     "execution_count": 49,
     "metadata": {},
     "output_type": "execute_result"
    }
   ],
   "source": [
    "cm = confusion_matrix(y_val, churn_score_bin)\n",
    "cm"
   ]
  },
  {
   "cell_type": "code",
   "execution_count": 35,
   "id": "0a9dfc82-52a9-4acc-b228-2e6cc5a49edd",
   "metadata": {
    "execution": {
     "iopub.execute_input": "2025-03-05T17:18:17.161247Z",
     "iopub.status.busy": "2025-03-05T17:18:17.159280Z",
     "iopub.status.idle": "2025-03-05T17:18:17.171963Z",
     "shell.execute_reply": "2025-03-05T17:18:17.170200Z",
     "shell.execute_reply.started": "2025-03-05T17:18:17.161157Z"
    }
   },
   "outputs": [],
   "source": [
    "# Retrieve classes' name\n",
    "true = balanced_model.classes_[0]\n",
    "false = balanced_model.classes_[1]"
   ]
  },
  {
   "cell_type": "code",
   "execution_count": 51,
   "id": "826ada0e-6e85-4888-897f-9663ee8d5657",
   "metadata": {
    "execution": {
     "iopub.execute_input": "2025-03-05T17:52:19.857309Z",
     "iopub.status.busy": "2025-03-05T17:52:19.856774Z",
     "iopub.status.idle": "2025-03-05T17:52:20.060997Z",
     "shell.execute_reply": "2025-03-05T17:52:20.059937Z",
     "shell.execute_reply.started": "2025-03-05T17:52:19.857255Z"
    }
   },
   "outputs": [
    {
     "data": {
      "image/png": "[encoded data removed]",
      "text/plain": [
       "<Figure size 400x400 with 1 Axes>"
      ]
     },
     "metadata": {},
     "output_type": "display_data"
    }
   ],
   "source": [
    "# Create visualization for the confusion Matrix\n",
    "\n",
    "# Create figure and adjsut its size\n",
    "plt.figure(figsize=(4,4))\n",
    "\n",
    "# Create heatmap\n",
    "ax = sns.heatmap(cm, annot=True, fmt='g', cbar=False, cmap='Blues')\n",
    "\n",
    "# Add Title\n",
    "ax.set_title('Confusion Matrix')\n",
    "\n",
    "# Adjust ticks labels\n",
    "ax.set_xticklabels(labels=[true, false])\n",
    "ax.set_yticklabels(labels=[true, false])\n",
    "\n",
    "# Adjust axis labels\n",
    "ax.set_xlabel(xlabel='Predictions')\n",
    "ax.set_ylabel(ylabel='True Values')\n",
    "\n",
    "# Save plot\n",
    "plt.savefig('../graph/ConfusionMatrix_val_ChurnScore.png')\n",
    "\n",
    "# Show plot\n",
    "plt.show()"
   ]
  },
  {
   "cell_type": "code",
   "execution_count": 50,
   "id": "5a8d1bfe-0050-4dfa-a5f3-dee6acb6b94b",
   "metadata": {
    "execution": {
     "iopub.execute_input": "2025-03-05T17:41:50.376963Z",
     "iopub.status.busy": "2025-03-05T17:41:50.376403Z",
     "iopub.status.idle": "2025-03-05T17:41:50.411665Z",
     "shell.execute_reply": "2025-03-05T17:41:50.410415Z",
     "shell.execute_reply.started": "2025-03-05T17:41:50.376911Z"
    }
   },
   "outputs": [
    {
     "name": "stdout",
     "output_type": "stream",
     "text": [
      "              precision    recall  f1-score   support\n",
      "\n",
      "           0       1.00      0.49      0.65       538\n",
      "           1       0.37      1.00      0.55       166\n",
      "\n",
      "    accuracy                           0.61       704\n",
      "   macro avg       0.69      0.74      0.60       704\n",
      "weighted avg       0.85      0.61      0.63       704\n",
      "\n"
     ]
    }
   ],
   "source": [
    "# Classification report\n",
    "\n",
    "print(classification_report(y_val, churn_score_bin))"
   ]
  },
  {
   "cell_type": "markdown",
   "id": "356ca096-1db4-4590-95e3-d4979466ae53",
   "metadata": {
    "execution": {
     "iopub.execute_input": "2025-03-01T22:00:33.436550Z",
     "iopub.status.busy": "2025-03-01T22:00:33.435980Z",
     "iopub.status.idle": "2025-03-01T22:00:33.448115Z",
     "shell.execute_reply": "2025-03-01T22:00:33.446039Z",
     "shell.execute_reply.started": "2025-03-01T22:00:33.436497Z"
    }
   },
   "source": [
    "---\n",
    "\n",
    "<center>\n",
    "    \n",
    "##  Results Best model's performance\n",
    "\n",
    "</center>\n",
    "\n",
    "---"
   ]
  },
  {
   "cell_type": "markdown",
   "id": "84bf0ff3-7bb4-46b9-85b7-6f1bcd391fb7",
   "metadata": {},
   "source": [
    "| Balanced Model</br>DecisionTreeClassifier              | Balanced Model</br>Random Forest                  | Client pre-existing model</br> Churn Score               |\n",
    "|-----------------------|-----------------------|-----------------------|\n",
    "| ![Confusion Matrix Balanced Model](../graph/ConfusionMatrix_val_BalancedModel.png) | ![Confusion Matrix Balanced Model](../graph/ConfusionMatrix_val_BalancedModel.png) |  ![Confusion Matrix Balanced Model](../graph/ConfusionMatrix_val_ChurnScore.png) | "
   ]
  },
  {
   "cell_type": "markdown",
   "id": "b2918cf8-c60a-40d6-be62-f9ca13b2d091",
   "metadata": {},
   "source": [
    "<table style=\"display:inline-block; margin-right: 10px;\">\n",
    "  <caption><strong>Balanced Model</br>DecisionTreeClassifier </strong></caption>\n",
    "  <tr>\n",
    "    <th>Metric</th>\n",
    "    <th>Class 0</th>\n",
    "    <th>Class 1</th>\n",
    "    <th>Accuracy</th>\n",
    "    <th>Macro Avg</th>\n",
    "    <th>Weighted Avg</th>\n",
    "  </tr>\n",
    "  <tr>\n",
    "    <td>Precision</td>\n",
    "    <td>0.93</td>\n",
    "    <td>0.47</td>\n",
    "    <td>-</td>\n",
    "    <td>0.70</td>\n",
    "    <td>0.82</td>\n",
    "  </tr>\n",
    "  <tr>\n",
    "    <td>Recall</td>\n",
    "    <td>0.72</td>\n",
    "    <td>0.83</td>\n",
    "    <td>-</td>\n",
    "    <td>0.77</td>\n",
    "    <td>0.74</td>\n",
    "  </tr>\n",
    "  <tr>\n",
    "    <td>F1-Score</td>\n",
    "    <td>0.81</td>\n",
    "    <td>0.60</td>\n",
    "    <td>0.74</td>\n",
    "    <td>0.71</td>\n",
    "    <td>0.76</td>\n",
    "  </tr>\n",
    "  <tr>\n",
    "    <td>Support</td>\n",
    "    <td>538</td>\n",
    "    <td>166</td>\n",
    "    <td>704</td>\n",
    "    <td>704</td>\n",
    "    <td>704</td>\n",
    "  </tr>\n",
    "</table>\n",
    "\n",
    "<table style=\"display:inline-block; margin-right: 10px;\">\n",
    "  <caption><strong>Balanced Model</br>Random Forest </strong></caption>\n",
    "  <tr>\n",
    "    <th>Metric</th>\n",
    "    <th>Class 0</th>\n",
    "    <th>Class 1</th>\n",
    "    <th>Accuracy</th>\n",
    "    <th>Macro Avg</th>\n",
    "    <th>Weighted Avg</th>\n",
    "  </tr>\n",
    "  <tr>\n",
    "    <td>Precision</td>\n",
    "    <td>0.86</td>\n",
    "    <td>0.66</td>\n",
    "    <td>-</td>\n",
    "    <td>0.76</td>\n",
    "    <td>0.81</td>\n",
    "  </tr>\n",
    "  <tr>\n",
    "    <td>Recall</td>\n",
    "    <td>0.90</td>\n",
    "    <td>0.57</td>\n",
    "    <td>-</td>\n",
    "    <td>0.73</td>\n",
    "    <td>0.81</td>\n",
    "  </tr>\n",
    "  <tr>\n",
    "    <td>F1-Score</td>\n",
    "    <td>0.88</td>\n",
    "    <td>0.61</td>\n",
    "    <td>0.81</td>\n",
    "    <td>0.74</td>\n",
    "    <td>0.81</td>\n",
    "  </tr>\n",
    "  <tr>\n",
    "    <td>Support</td>\n",
    "    <td>783</td>\n",
    "    <td>274</td>\n",
    "    <td>1057</td>\n",
    "    <td>1057</td>\n",
    "    <td>1057</td>\n",
    "  </tr>\n",
    "</table>\n",
    "\n",
    "<table style=\"display:inline-block;\">\n",
    "  <caption><strong>Client pre-existing model</br> Churn Score</strong></caption>\n",
    "  <tr>\n",
    "    <th>Metric</th>\n",
    "    <th>Class 0</th>\n",
    "    <th>Class 1</th>\n",
    "    <th>Accuracy</th>\n",
    "    <th>Macro Avg</th>\n",
    "    <th>Weighted Avg</th>\n",
    "  </tr>\n",
    "  <tr>\n",
    "    <td>Precision</td>\n",
    "    <td>1.00</td>\n",
    "    <td>0.37</td>\n",
    "    <td>-</td>\n",
    "    <td>0.69</td>\n",
    "    <td>0.85</td>\n",
    "  </tr>\n",
    "  <tr>\n",
    "    <td>Recall</td>\n",
    "    <td>0.49</td>\n",
    "    <td>1.00</td>\n",
    "    <td>-</td>\n",
    "    <td>0.74</td>\n",
    "    <td>0.61</td>\n",
    "  </tr>\n",
    "  <tr>\n",
    "    <td>F1-Score</td>\n",
    "    <td>0.65</td>\n",
    "    <td>0.55</td>\n",
    "    <td>0.61</td>\n",
    "    <td>0.60</td>\n",
    "    <td>0.63</td>\n",
    "  </tr>\n",
    "  <tr>\n",
    "    <td>Support</td>\n",
    "    <td>538</td>\n",
    "    <td>166</td>\n",
    "    <td>704</td>\n",
    "    <td>704</td>\n",
    "    <td>704</td>\n",
    "  </tr>\n",
    "</table>\n"
   ]
  }
 ],
 "metadata": {
  "kernelspec": {
   "display_name": "graph",
   "language": "python",
   "name": "graph"
  },
  "language_info": {
   "codemirror_mode": {
    "name": "ipython",
    "version": 3
   },
   "file_extension": ".py",
   "mimetype": "text/x-python",
   "name": "python",
   "nbconvert_exporter": "python",
   "pygments_lexer": "ipython3",
   "version": "3.12.7"
  }
 },
 "nbformat": 4,
 "nbformat_minor": 5
}
