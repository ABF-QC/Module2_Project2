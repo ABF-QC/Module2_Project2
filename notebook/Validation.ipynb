{
 "cells": [
  {
   "cell_type": "markdown",
   "id": "9a1cd1be-4b12-4a04-809d-8f3eb58d27b7",
   "metadata": {},
   "source": [
    "---\n",
    "# Validation of best model\n",
    "---\n",
    "In this notebook, ...\n",
    "\n",
    "\n",
    "## Results\n",
    "\n",
    "---"
   ]
  },
  {
   "cell_type": "markdown",
   "id": "85bfd8d4-56b0-4fa9-9bfe-b36d624deec6",
   "metadata": {},
   "source": [
    "### Importing necessary library"
   ]
  },
  {
   "cell_type": "code",
   "execution_count": 1,
   "id": "7c3f8638-c49d-4060-9537-12ba752dd0ed",
   "metadata": {
    "execution": {
     "iopub.execute_input": "2025-03-01T21:38:09.739957Z",
     "iopub.status.busy": "2025-03-01T21:38:09.739351Z",
     "iopub.status.idle": "2025-03-01T21:38:10.222390Z",
     "shell.execute_reply": "2025-03-01T21:38:10.220357Z",
     "shell.execute_reply.started": "2025-03-01T21:38:09.739895Z"
    }
   },
   "outputs": [],
   "source": [
    "import pandas as pd\n",
    "import numpy as np\n",
    "\n",
    "import seaborn as sns\n",
    "import matplotlib.pyplot as plt\n",
    "\n",
    "from sklearn.preprocessing import StandardScaler\n",
    "\n",
    "from sklearn.pipeline import Pipeline\n",
    "from sklearn.metrics import classification_report, confusion_matrix, accuracy_score\n",
    "\n",
    "import joblib"
   ]
  },
  {
   "cell_type": "markdown",
   "id": "64275bae-907d-4071-8b91-08f84eadfc8b",
   "metadata": {},
   "source": [
    "### Read data file"
   ]
  },
  {
   "cell_type": "code",
   "execution_count": 14,
   "id": "bb3fcc01-1ce6-481f-a61d-688459c5236e",
   "metadata": {},
   "outputs": [
    {
     "data": {
      "text/html": [
       "<div>\n",
       "<style scoped>\n",
       "    .dataframe tbody tr th:only-of-type {\n",
       "        vertical-align: middle;\n",
       "    }\n",
       "\n",
       "    .dataframe tbody tr th {\n",
       "        vertical-align: top;\n",
       "    }\n",
       "\n",
       "    .dataframe thead th {\n",
       "        text-align: right;\n",
       "    }\n",
       "</style>\n",
       "<table border=\"1\" class=\"dataframe\">\n",
       "  <thead>\n",
       "    <tr style=\"text-align: right;\">\n",
       "      <th></th>\n",
       "      <th>Tenure Months</th>\n",
       "      <th>Monthly Charges</th>\n",
       "      <th>Churn Value</th>\n",
       "      <th>Senior Citizen_Yes</th>\n",
       "      <th>Partner_Yes</th>\n",
       "      <th>Dependents_Yes</th>\n",
       "      <th>Internet Service_Fiber optic</th>\n",
       "      <th>Internet Service_No</th>\n",
       "      <th>Online Security_Yes</th>\n",
       "      <th>Online Backup_Yes</th>\n",
       "      <th>Device Protection_Yes</th>\n",
       "      <th>Tech Support_Yes</th>\n",
       "      <th>Contract_One year</th>\n",
       "      <th>Contract_Two year</th>\n",
       "      <th>Paperless Billing_Yes</th>\n",
       "      <th>Payment Method_Credit card (automatic)</th>\n",
       "      <th>Payment Method_Electronic check</th>\n",
       "      <th>Payment Method_Mailed check</th>\n",
       "    </tr>\n",
       "  </thead>\n",
       "  <tbody>\n",
       "    <tr>\n",
       "      <th>0</th>\n",
       "      <td>2</td>\n",
       "      <td>53.85</td>\n",
       "      <td>1</td>\n",
       "      <td>0</td>\n",
       "      <td>0</td>\n",
       "      <td>0</td>\n",
       "      <td>0</td>\n",
       "      <td>0</td>\n",
       "      <td>1</td>\n",
       "      <td>1</td>\n",
       "      <td>0</td>\n",
       "      <td>0</td>\n",
       "      <td>0</td>\n",
       "      <td>0</td>\n",
       "      <td>1</td>\n",
       "      <td>0</td>\n",
       "      <td>0</td>\n",
       "      <td>1</td>\n",
       "    </tr>\n",
       "    <tr>\n",
       "      <th>1</th>\n",
       "      <td>2</td>\n",
       "      <td>70.70</td>\n",
       "      <td>1</td>\n",
       "      <td>0</td>\n",
       "      <td>0</td>\n",
       "      <td>1</td>\n",
       "      <td>1</td>\n",
       "      <td>0</td>\n",
       "      <td>0</td>\n",
       "      <td>0</td>\n",
       "      <td>0</td>\n",
       "      <td>0</td>\n",
       "      <td>0</td>\n",
       "      <td>0</td>\n",
       "      <td>1</td>\n",
       "      <td>0</td>\n",
       "      <td>1</td>\n",
       "      <td>0</td>\n",
       "    </tr>\n",
       "    <tr>\n",
       "      <th>2</th>\n",
       "      <td>8</td>\n",
       "      <td>99.65</td>\n",
       "      <td>1</td>\n",
       "      <td>0</td>\n",
       "      <td>0</td>\n",
       "      <td>1</td>\n",
       "      <td>1</td>\n",
       "      <td>0</td>\n",
       "      <td>0</td>\n",
       "      <td>0</td>\n",
       "      <td>1</td>\n",
       "      <td>0</td>\n",
       "      <td>0</td>\n",
       "      <td>0</td>\n",
       "      <td>1</td>\n",
       "      <td>0</td>\n",
       "      <td>1</td>\n",
       "      <td>0</td>\n",
       "    </tr>\n",
       "    <tr>\n",
       "      <th>3</th>\n",
       "      <td>28</td>\n",
       "      <td>104.80</td>\n",
       "      <td>1</td>\n",
       "      <td>0</td>\n",
       "      <td>1</td>\n",
       "      <td>1</td>\n",
       "      <td>1</td>\n",
       "      <td>0</td>\n",
       "      <td>0</td>\n",
       "      <td>0</td>\n",
       "      <td>1</td>\n",
       "      <td>1</td>\n",
       "      <td>0</td>\n",
       "      <td>0</td>\n",
       "      <td>1</td>\n",
       "      <td>0</td>\n",
       "      <td>1</td>\n",
       "      <td>0</td>\n",
       "    </tr>\n",
       "    <tr>\n",
       "      <th>4</th>\n",
       "      <td>49</td>\n",
       "      <td>103.70</td>\n",
       "      <td>1</td>\n",
       "      <td>0</td>\n",
       "      <td>0</td>\n",
       "      <td>1</td>\n",
       "      <td>1</td>\n",
       "      <td>0</td>\n",
       "      <td>0</td>\n",
       "      <td>1</td>\n",
       "      <td>1</td>\n",
       "      <td>0</td>\n",
       "      <td>0</td>\n",
       "      <td>0</td>\n",
       "      <td>1</td>\n",
       "      <td>0</td>\n",
       "      <td>0</td>\n",
       "      <td>0</td>\n",
       "    </tr>\n",
       "    <tr>\n",
       "      <th>...</th>\n",
       "      <td>...</td>\n",
       "      <td>...</td>\n",
       "      <td>...</td>\n",
       "      <td>...</td>\n",
       "      <td>...</td>\n",
       "      <td>...</td>\n",
       "      <td>...</td>\n",
       "      <td>...</td>\n",
       "      <td>...</td>\n",
       "      <td>...</td>\n",
       "      <td>...</td>\n",
       "      <td>...</td>\n",
       "      <td>...</td>\n",
       "      <td>...</td>\n",
       "      <td>...</td>\n",
       "      <td>...</td>\n",
       "      <td>...</td>\n",
       "      <td>...</td>\n",
       "    </tr>\n",
       "    <tr>\n",
       "      <th>7038</th>\n",
       "      <td>72</td>\n",
       "      <td>21.15</td>\n",
       "      <td>0</td>\n",
       "      <td>0</td>\n",
       "      <td>0</td>\n",
       "      <td>0</td>\n",
       "      <td>0</td>\n",
       "      <td>1</td>\n",
       "      <td>0</td>\n",
       "      <td>0</td>\n",
       "      <td>0</td>\n",
       "      <td>0</td>\n",
       "      <td>0</td>\n",
       "      <td>1</td>\n",
       "      <td>1</td>\n",
       "      <td>0</td>\n",
       "      <td>0</td>\n",
       "      <td>0</td>\n",
       "    </tr>\n",
       "    <tr>\n",
       "      <th>7039</th>\n",
       "      <td>24</td>\n",
       "      <td>84.80</td>\n",
       "      <td>0</td>\n",
       "      <td>0</td>\n",
       "      <td>1</td>\n",
       "      <td>1</td>\n",
       "      <td>0</td>\n",
       "      <td>0</td>\n",
       "      <td>1</td>\n",
       "      <td>0</td>\n",
       "      <td>1</td>\n",
       "      <td>1</td>\n",
       "      <td>1</td>\n",
       "      <td>0</td>\n",
       "      <td>1</td>\n",
       "      <td>0</td>\n",
       "      <td>0</td>\n",
       "      <td>1</td>\n",
       "    </tr>\n",
       "    <tr>\n",
       "      <th>7040</th>\n",
       "      <td>72</td>\n",
       "      <td>103.20</td>\n",
       "      <td>0</td>\n",
       "      <td>0</td>\n",
       "      <td>1</td>\n",
       "      <td>1</td>\n",
       "      <td>1</td>\n",
       "      <td>0</td>\n",
       "      <td>0</td>\n",
       "      <td>1</td>\n",
       "      <td>1</td>\n",
       "      <td>0</td>\n",
       "      <td>1</td>\n",
       "      <td>0</td>\n",
       "      <td>1</td>\n",
       "      <td>1</td>\n",
       "      <td>0</td>\n",
       "      <td>0</td>\n",
       "    </tr>\n",
       "    <tr>\n",
       "      <th>7041</th>\n",
       "      <td>11</td>\n",
       "      <td>29.60</td>\n",
       "      <td>0</td>\n",
       "      <td>0</td>\n",
       "      <td>1</td>\n",
       "      <td>1</td>\n",
       "      <td>0</td>\n",
       "      <td>0</td>\n",
       "      <td>1</td>\n",
       "      <td>0</td>\n",
       "      <td>0</td>\n",
       "      <td>0</td>\n",
       "      <td>0</td>\n",
       "      <td>0</td>\n",
       "      <td>1</td>\n",
       "      <td>0</td>\n",
       "      <td>1</td>\n",
       "      <td>0</td>\n",
       "    </tr>\n",
       "    <tr>\n",
       "      <th>7042</th>\n",
       "      <td>66</td>\n",
       "      <td>105.65</td>\n",
       "      <td>0</td>\n",
       "      <td>0</td>\n",
       "      <td>0</td>\n",
       "      <td>0</td>\n",
       "      <td>1</td>\n",
       "      <td>0</td>\n",
       "      <td>1</td>\n",
       "      <td>0</td>\n",
       "      <td>1</td>\n",
       "      <td>1</td>\n",
       "      <td>0</td>\n",
       "      <td>1</td>\n",
       "      <td>1</td>\n",
       "      <td>0</td>\n",
       "      <td>0</td>\n",
       "      <td>0</td>\n",
       "    </tr>\n",
       "  </tbody>\n",
       "</table>\n",
       "<p>7043 rows × 18 columns</p>\n",
       "</div>"
      ],
      "text/plain": [
       "      Tenure Months  Monthly Charges  Churn Value  Senior Citizen_Yes  \\\n",
       "0                 2            53.85            1                   0   \n",
       "1                 2            70.70            1                   0   \n",
       "2                 8            99.65            1                   0   \n",
       "3                28           104.80            1                   0   \n",
       "4                49           103.70            1                   0   \n",
       "...             ...              ...          ...                 ...   \n",
       "7038             72            21.15            0                   0   \n",
       "7039             24            84.80            0                   0   \n",
       "7040             72           103.20            0                   0   \n",
       "7041             11            29.60            0                   0   \n",
       "7042             66           105.65            0                   0   \n",
       "\n",
       "      Partner_Yes  Dependents_Yes  Internet Service_Fiber optic  \\\n",
       "0               0               0                             0   \n",
       "1               0               1                             1   \n",
       "2               0               1                             1   \n",
       "3               1               1                             1   \n",
       "4               0               1                             1   \n",
       "...           ...             ...                           ...   \n",
       "7038            0               0                             0   \n",
       "7039            1               1                             0   \n",
       "7040            1               1                             1   \n",
       "7041            1               1                             0   \n",
       "7042            0               0                             1   \n",
       "\n",
       "      Internet Service_No  Online Security_Yes  Online Backup_Yes  \\\n",
       "0                       0                    1                  1   \n",
       "1                       0                    0                  0   \n",
       "2                       0                    0                  0   \n",
       "3                       0                    0                  0   \n",
       "4                       0                    0                  1   \n",
       "...                   ...                  ...                ...   \n",
       "7038                    1                    0                  0   \n",
       "7039                    0                    1                  0   \n",
       "7040                    0                    0                  1   \n",
       "7041                    0                    1                  0   \n",
       "7042                    0                    1                  0   \n",
       "\n",
       "      Device Protection_Yes  Tech Support_Yes  Contract_One year  \\\n",
       "0                         0                 0                  0   \n",
       "1                         0                 0                  0   \n",
       "2                         1                 0                  0   \n",
       "3                         1                 1                  0   \n",
       "4                         1                 0                  0   \n",
       "...                     ...               ...                ...   \n",
       "7038                      0                 0                  0   \n",
       "7039                      1                 1                  1   \n",
       "7040                      1                 0                  1   \n",
       "7041                      0                 0                  0   \n",
       "7042                      1                 1                  0   \n",
       "\n",
       "      Contract_Two year  Paperless Billing_Yes  \\\n",
       "0                     0                      1   \n",
       "1                     0                      1   \n",
       "2                     0                      1   \n",
       "3                     0                      1   \n",
       "4                     0                      1   \n",
       "...                 ...                    ...   \n",
       "7038                  1                      1   \n",
       "7039                  0                      1   \n",
       "7040                  0                      1   \n",
       "7041                  0                      1   \n",
       "7042                  1                      1   \n",
       "\n",
       "      Payment Method_Credit card (automatic)  Payment Method_Electronic check  \\\n",
       "0                                          0                                0   \n",
       "1                                          0                                1   \n",
       "2                                          0                                1   \n",
       "3                                          0                                1   \n",
       "4                                          0                                0   \n",
       "...                                      ...                              ...   \n",
       "7038                                       0                                0   \n",
       "7039                                       0                                0   \n",
       "7040                                       1                                0   \n",
       "7041                                       0                                1   \n",
       "7042                                       0                                0   \n",
       "\n",
       "      Payment Method_Mailed check  \n",
       "0                               1  \n",
       "1                               0  \n",
       "2                               0  \n",
       "3                               0  \n",
       "4                               0  \n",
       "...                           ...  \n",
       "7038                            0  \n",
       "7039                            1  \n",
       "7040                            0  \n",
       "7041                            0  \n",
       "7042                            0  \n",
       "\n",
       "[7043 rows x 18 columns]"
      ]
     },
     "execution_count": 14,
     "metadata": {},
     "output_type": "execute_result"
    }
   ],
   "source": [
    "churn_df = pd.read_excel('../data/churn_cleaned_featEng.xlsx')\n",
    "churn_df"
   ]
  },
  {
   "cell_type": "markdown",
   "id": "62362f63-6291-445a-b39a-6cb18faae165",
   "metadata": {
    "execution": {
     "iopub.execute_input": "2025-03-01T22:00:33.436550Z",
     "iopub.status.busy": "2025-03-01T22:00:33.435980Z",
     "iopub.status.idle": "2025-03-01T22:00:33.448115Z",
     "shell.execute_reply": "2025-03-01T22:00:33.446039Z",
     "shell.execute_reply.started": "2025-03-01T22:00:33.436497Z"
    }
   },
   "source": [
    "---\n",
    "\n",
    "<center>\n",
    "    \n",
    "## Preparing data\n",
    "\n",
    "</center>\n",
    "\n",
    "---"
   ]
  },
  {
   "cell_type": "markdown",
   "id": "d313bcb0-3016-4f0c-a2eb-ae278fdb6f3e",
   "metadata": {},
   "source": [
    "### Separate X and y features"
   ]
  },
  {
   "cell_type": "code",
   "execution_count": 15,
   "id": "5a90893e-8417-4a4a-afa8-9df80f6bbc6e",
   "metadata": {
    "tags": []
   },
   "outputs": [],
   "source": [
    "# Seperate X and y features\n",
    "X = churn_df.drop(columns=['Churn Value'])\n",
    "y = churn_df['Churn Value']"
   ]
  },
  {
   "cell_type": "markdown",
   "id": "551d2047-68b5-4749-be39-2d87442e3d0b",
   "metadata": {},
   "source": [
    "### Split dataset (training/testing/validation)"
   ]
  },
  {
   "cell_type": "code",
   "execution_count": 16,
   "id": "221ea159-33f2-4e94-a81f-49038ab1b3ba",
   "metadata": {
    "tags": []
   },
   "outputs": [],
   "source": [
    "# Separating the dataset into a training dataset (80%) and testing+validation (20%) dataset\n",
    "X_train, X_test_validation, y_train, y_test_validation = train_test_split(X, y, train_size=0.8, random_state=5)\n",
    "\n",
    "# Separating the testing+valisation dataset into a testing dataset (10%) and a validation dataset (10%) \n",
    "X_val, X_test, y_val, y_test = train_test_split(X_test_validation, y_test_validation, test_size=0.5, random_state=5)"
   ]
  },
  {
   "cell_type": "markdown",
   "id": "10b6013c-e54e-4743-b77a-aa30d7dd9784",
   "metadata": {
    "execution": {
     "iopub.execute_input": "2025-03-01T21:46:04.307307Z",
     "iopub.status.busy": "2025-03-01T21:46:04.306075Z",
     "iopub.status.idle": "2025-03-01T21:46:04.323562Z",
     "shell.execute_reply": "2025-03-01T21:46:04.317516Z",
     "shell.execute_reply.started": "2025-03-01T21:46:04.307221Z"
    }
   },
   "source": [
    "### Converting data subset to dataframe "
   ]
  },
  {
   "cell_type": "code",
   "execution_count": 17,
   "id": "af69efcf-a35c-44ad-8ea8-4f304dc46cb3",
   "metadata": {},
   "outputs": [],
   "source": [
    "X_val = pd.DataFrame(X_val, columns=X.columns)"
   ]
  },
  {
   "cell_type": "markdown",
   "id": "a5e96202-c8b9-452f-b081-012d119c4848",
   "metadata": {
    "execution": {
     "iopub.execute_input": "2025-02-26T20:08:25.615728Z",
     "iopub.status.busy": "2025-02-26T20:08:25.615112Z",
     "iopub.status.idle": "2025-02-26T20:08:25.656052Z",
     "shell.execute_reply": "2025-02-26T20:08:25.654762Z",
     "shell.execute_reply.started": "2025-02-26T20:08:25.615678Z"
    }
   },
   "source": [
    "### Scale X features"
   ]
  },
  {
   "cell_type": "code",
   "execution_count": 20,
   "id": "a131cf41-018c-47aa-819e-0da54c0f660c",
   "metadata": {},
   "outputs": [],
   "source": [
    "# Create instance of scaler\n",
    "scaler = StandardScaler()\n",
    "\n",
    "# Scale the data\n",
    "X_val_scaled = scaler.transform(X_val)"
   ]
  },
  {
   "cell_type": "markdown",
   "id": "7d61c639-48e8-4209-98e1-8b9d1e8e8704",
   "metadata": {
    "execution": {
     "iopub.execute_input": "2025-03-01T22:00:33.436550Z",
     "iopub.status.busy": "2025-03-01T22:00:33.435980Z",
     "iopub.status.idle": "2025-03-01T22:00:33.448115Z",
     "shell.execute_reply": "2025-03-01T22:00:33.446039Z",
     "shell.execute_reply.started": "2025-03-01T22:00:33.436497Z"
    }
   },
   "source": [
    "---\n",
    "\n",
    "<center>\n",
    "    \n",
    "## Using best model on validation dataset\n",
    "\n",
    "</center>\n",
    "\n",
    "---"
   ]
  },
  {
   "cell_type": "markdown",
   "id": "8050db92-2f43-403c-9ff7-901e38ba600b",
   "metadata": {},
   "source": [
    "### Loading the best model"
   ]
  },
  {
   "cell_type": "code",
   "execution_count": 5,
   "id": "701e8c0c-dac3-43cc-92a0-e99cd1b14800",
   "metadata": {
    "execution": {
     "iopub.execute_input": "2025-02-25T14:28:34.043068Z",
     "iopub.status.busy": "2025-02-25T14:28:34.042548Z",
     "iopub.status.idle": "2025-02-25T14:28:34.059405Z",
     "shell.execute_reply": "2025-02-25T14:28:34.058097Z",
     "shell.execute_reply.started": "2025-02-25T14:28:34.043024Z"
    }
   },
   "outputs": [],
   "source": [
    "# Load the model and preprocessors (if saved)\n",
    "model = joblib.load(\"best_model.joblib\")\n",
    "converter = joblib.load(\"best_model_converter.joblib\")\n",
    "scaler = joblib.load(\"best_model_scaler.joblib\")"
   ]
  },
  {
   "cell_type": "markdown",
   "id": "5205acde-dedb-443b-be7a-1fb54ca9aefc",
   "metadata": {},
   "source": [
    "### Converting to the validation dataset to the model's features "
   ]
  },
  {
   "cell_type": "code",
   "execution_count": null,
   "id": "74592f75-3355-4528-bd95-84813f1c18fe",
   "metadata": {
    "execution": {
     "iopub.execute_input": "2025-02-25T14:28:34.215442Z",
     "iopub.status.busy": "2025-02-25T14:28:34.214924Z",
     "iopub.status.idle": "2025-02-25T14:28:34.235942Z",
     "shell.execute_reply": "2025-02-25T14:28:34.234824Z",
     "shell.execute_reply.started": "2025-02-25T14:28:34.215394Z"
    }
   },
   "outputs": [],
   "source": [
    "new_data = converter.transform(X_val_scaled)"
   ]
  },
  {
   "cell_type": "markdown",
   "id": "a3a8258b-6688-444b-9be5-f1608fb39421",
   "metadata": {},
   "source": [
    "### Applying model's scaling to the validation dataset"
   ]
  },
  {
   "cell_type": "code",
   "execution_count": null,
   "id": "2ebffbd6-4832-47dc-bbdf-3f16c29da0f1",
   "metadata": {
    "execution": {
     "iopub.execute_input": "2025-02-25T14:28:34.215442Z",
     "iopub.status.busy": "2025-02-25T14:28:34.214924Z",
     "iopub.status.idle": "2025-02-25T14:28:34.235942Z",
     "shell.execute_reply": "2025-02-25T14:28:34.234824Z",
     "shell.execute_reply.started": "2025-02-25T14:28:34.215394Z"
    }
   },
   "outputs": [],
   "source": [
    "new_data_scaled = scaler.transform(new_data)"
   ]
  },
  {
   "cell_type": "markdown",
   "id": "571d018c-02af-459c-a52e-d307d0c4fd0d",
   "metadata": {
    "execution": {
     "iopub.execute_input": "2025-02-25T14:28:34.215442Z",
     "iopub.status.busy": "2025-02-25T14:28:34.214924Z",
     "iopub.status.idle": "2025-02-25T14:28:34.235942Z",
     "shell.execute_reply": "2025-02-25T14:28:34.234824Z",
     "shell.execute_reply.started": "2025-02-25T14:28:34.215394Z"
    }
   },
   "source": [
    "### Using the model to make a prediction on the validation dataset"
   ]
  },
  {
   "cell_type": "code",
   "execution_count": null,
   "id": "f41be455-8991-4617-af9c-1aec19fc9250",
   "metadata": {
    "execution": {
     "iopub.execute_input": "2025-02-25T14:28:34.215442Z",
     "iopub.status.busy": "2025-02-25T14:28:34.214924Z",
     "iopub.status.idle": "2025-02-25T14:28:34.235942Z",
     "shell.execute_reply": "2025-02-25T14:28:34.234824Z",
     "shell.execute_reply.started": "2025-02-25T14:28:34.215394Z"
    }
   },
   "outputs": [
    {
     "name": "stdout",
     "output_type": "stream",
     "text": [
      "Predicted price: [2221.98549831 1461.05463461 2715.19088823 2269.74765864 1845.46210163]\n"
     ]
    }
   ],
   "source": [
    "y_pred = model.predict(new_data_scaled)"
   ]
  },
  {
   "cell_type": "markdown",
   "id": "a048aef2-033c-4552-b884-b44007a8de14",
   "metadata": {
    "execution": {
     "iopub.execute_input": "2025-03-01T22:00:33.436550Z",
     "iopub.status.busy": "2025-03-01T22:00:33.435980Z",
     "iopub.status.idle": "2025-03-01T22:00:33.448115Z",
     "shell.execute_reply": "2025-03-01T22:00:33.446039Z",
     "shell.execute_reply.started": "2025-03-01T22:00:33.436497Z"
    }
   },
   "source": [
    "---\n",
    "\n",
    "<center>\n",
    "    \n",
    "## Evaluating best model's performance\n",
    "\n",
    "</center>\n",
    "\n",
    "---"
   ]
  },
  {
   "cell_type": "code",
   "execution_count": 25,
   "id": "339beb67-b2f4-457d-816e-c7b17a7592d7",
   "metadata": {},
   "outputs": [
    {
     "name": "stdout",
     "output_type": "stream",
     "text": [
      "Model accuracy score: 0.7617\n"
     ]
    }
   ],
   "source": [
    "print('Model accuracy score: {0:0.4f}'. format(accuracy_score(y_val, y_pred)))\n"
   ]
  },
  {
   "cell_type": "code",
   "execution_count": 26,
   "id": "09342253-3e10-490e-9f93-ab792f04f191",
   "metadata": {},
   "outputs": [
    {
     "name": "stdout",
     "output_type": "stream",
     "text": [
      "Training set score: 0.8653\n",
      "Test set score: 0.7617\n"
     ]
    }
   ],
   "source": [
    "# Compare train and test scores\n",
    "print('Test set score: {:.4f}'.format(model.score(new_data_scaled, y_val)))"
   ]
  },
  {
   "cell_type": "code",
   "execution_count": 27,
   "id": "697b2a19-b499-45c0-8c65-f3d6db6d0802",
   "metadata": {},
   "outputs": [
    {
     "name": "stdout",
     "output_type": "stream",
     "text": [
      "Confusion matrix\n",
      "\n",
      " [[433  87]\n",
      " [ 81 104]]\n",
      "\n",
      "True Positives(TP) =  433\n",
      "\n",
      "True Negatives(TN) =  104\n",
      "\n",
      "False Positives(FP) =  87\n",
      "\n",
      "False Negatives(FN) =  81\n"
     ]
    }
   ],
   "source": [
    "# Confusion Matrix\n",
    "\n",
    "cm = confusion_matrix(y_val, y_pred)\n",
    "\n",
    "print('Confusion matrix\\n\\n', cm)\n",
    "\n",
    "print('\\nTrue Positives(TP) = ', cm[0,0])\n",
    "\n",
    "print('\\nTrue Negatives(TN) = ', cm[1,1])\n",
    "\n",
    "print('\\nFalse Positives(FP) = ', cm[0,1])\n",
    "\n",
    "print('\\nFalse Negatives(FN) = ', cm[1,0])"
   ]
  },
  {
   "cell_type": "code",
   "execution_count": 28,
   "id": "3681c8f5-5e7a-4572-a5b3-a12b51cce224",
   "metadata": {},
   "outputs": [
    {
     "name": "stdout",
     "output_type": "stream",
     "text": [
      "              precision    recall  f1-score   support\n",
      "\n",
      "           0       0.84      0.83      0.84       520\n",
      "           1       0.54      0.56      0.55       185\n",
      "\n",
      "    accuracy                           0.76       705\n",
      "   macro avg       0.69      0.70      0.70       705\n",
      "weighted avg       0.76      0.76      0.76       705\n",
      "\n"
     ]
    }
   ],
   "source": [
    "# Classification report\n",
    "\n",
    "print(classification_report(y_val, y_pred))"
   ]
  },
  {
   "cell_type": "code",
   "execution_count": null,
   "id": "772d3d2e-3885-4393-a60b-2f6da7139518",
   "metadata": {},
   "outputs": [],
   "source": []
  },
  {
   "cell_type": "code",
   "execution_count": null,
   "id": "a7683b0b-fe13-4b53-bd86-a67f8da8883d",
   "metadata": {},
   "outputs": [],
   "source": []
  },
  {
   "cell_type": "markdown",
   "id": "356ca096-1db4-4590-95e3-d4979466ae53",
   "metadata": {
    "execution": {
     "iopub.execute_input": "2025-03-01T22:00:33.436550Z",
     "iopub.status.busy": "2025-03-01T22:00:33.435980Z",
     "iopub.status.idle": "2025-03-01T22:00:33.448115Z",
     "shell.execute_reply": "2025-03-01T22:00:33.446039Z",
     "shell.execute_reply.started": "2025-03-01T22:00:33.436497Z"
    }
   },
   "source": [
    "---\n",
    "\n",
    "<center>\n",
    "    \n",
    "##  Best model's performance\n",
    "\n",
    "</center>\n",
    "\n",
    "---"
   ]
  },
  {
   "cell_type": "code",
   "execution_count": null,
   "id": "08f2fc9c-6e40-4870-84cf-47ce33bb2404",
   "metadata": {},
   "outputs": [],
   "source": []
  },
  {
   "cell_type": "code",
   "execution_count": null,
   "id": "601794ff-ce04-4717-85ac-56b3c5f849ed",
   "metadata": {},
   "outputs": [],
   "source": []
  }
 ],
 "metadata": {
  "kernelspec": {
   "display_name": "graph",
   "language": "python",
   "name": "graph"
  },
  "language_info": {
   "codemirror_mode": {
    "name": "ipython",
    "version": 3
   },
   "file_extension": ".py",
   "mimetype": "text/x-python",
   "name": "python",
   "nbconvert_exporter": "python",
   "pygments_lexer": "ipython3",
   "version": "3.12.7"
  }
 },
 "nbformat": 4,
 "nbformat_minor": 5
}
