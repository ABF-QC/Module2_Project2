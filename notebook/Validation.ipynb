{
 "cells": [
  {
   "cell_type": "markdown",
   "id": "9a1cd1be-4b12-4a04-809d-8f3eb58d27b7",
   "metadata": {},
   "source": [
    "---\n",
    "# Validation of best model\n",
    "---\n",
    "In this notebook, ...\n",
    "\n",
    "\n",
    "## Results\n",
    "\n",
    "---"
   ]
  },
  {
   "cell_type": "markdown",
   "id": "85bfd8d4-56b0-4fa9-9bfe-b36d624deec6",
   "metadata": {},
   "source": [
    "### Importing necessary library"
   ]
  },
  {
   "cell_type": "code",
   "execution_count": 1,
   "id": "7c3f8638-c49d-4060-9537-12ba752dd0ed",
   "metadata": {
    "execution": {
     "iopub.execute_input": "2025-03-01T21:38:09.739957Z",
     "iopub.status.busy": "2025-03-01T21:38:09.739351Z",
     "iopub.status.idle": "2025-03-01T21:38:10.222390Z",
     "shell.execute_reply": "2025-03-01T21:38:10.220357Z",
     "shell.execute_reply.started": "2025-03-01T21:38:09.739895Z"
    }
   },
   "outputs": [],
   "source": [
    "import pandas as pd\n",
    "import numpy as np\n",
    "\n",
    "import seaborn as sns\n",
    "import matplotlib.pyplot as plt\n",
    "\n",
    "from sklearn.preprocessing import StandardScaler\n",
    "\n",
    "from sklearn.pipeline import Pipeline\n",
    "from sklearn.metrics import classification_report, confusion_matrix, accuracy_score"
   ]
  },
  {
   "cell_type": "code",
   "execution_count": null,
   "id": "601794ff-ce04-4717-85ac-56b3c5f849ed",
   "metadata": {},
   "outputs": [],
   "source": []
  }
 ],
 "metadata": {
  "kernelspec": {
   "display_name": "graph",
   "language": "python",
   "name": "graph"
  },
  "language_info": {
   "codemirror_mode": {
    "name": "ipython",
    "version": 3
   },
   "file_extension": ".py",
   "mimetype": "text/x-python",
   "name": "python",
   "nbconvert_exporter": "python",
   "pygments_lexer": "ipython3",
   "version": "3.12.7"
  }
 },
 "nbformat": 4,
 "nbformat_minor": 5
}
